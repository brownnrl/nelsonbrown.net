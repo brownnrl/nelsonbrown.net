{
 "cells": [
  {
   "cell_type": "code",
   "execution_count": 1,
   "metadata": {},
   "outputs": [
    {
     "data": {
      "text/plain": [
       "$line15.$read$$iw$$iw$Stream$@1c0ce04a"
      ]
     },
     "execution_count": 1,
     "metadata": {},
     "output_type": "execute_result"
    }
   ],
   "source": [
    "// id : ex_5.1_5.3\n",
    "\n",
    "trait Stream[+A] {\n",
    "    \n",
    "    def headOption: Option[A] = this match {\n",
    "        case Empty => None\n",
    "        case Cons(h, t) => Some(h())\n",
    "    }\n",
    "    \n",
    "    def toList: List[A] = this match {\n",
    "        case Empty => Nil\n",
    "        case Cons(h, t) => h() :: t().toList\n",
    "    }\n",
    "    \n",
    "    def foldRight[B](z: => B)(f: (A, => B) => B): B = this match {\n",
    "        case Cons(h, t) => f(h(), t().foldRight(z)(f))\n",
    "        case _ => z\n",
    "    }\n",
    "    \n",
    "    def exists(p: A => Boolean): Boolean =\n",
    "        foldRight(false)((a, b) => p(a) || b)\n",
    "    \n",
    "    // ex 5.1\n",
    "    def take(n : Int) : Stream[A] = {\n",
    "        if( n <= 0) {\n",
    "            Empty\n",
    "        } else {\n",
    "            this match {\n",
    "                case Empty => Empty\n",
    "                case Cons(h, t) => Cons(h, () => t().take(n-1))\n",
    "            }  \n",
    "        }\n",
    "    }\n",
    "\n",
    "    // ex 5.2\n",
    "    def drop(n : Int) : Stream[A] = {\n",
    "        if( n <= 0) {\n",
    "            this\n",
    "        } else {\n",
    "            this match {\n",
    "                case Empty => Empty\n",
    "                case Cons(h, t) => t().drop(n-1)\n",
    "            }  \n",
    "        }\n",
    "    }\n",
    "    \n",
    "    // ex 5.3\n",
    "    def takeWhile(p: A => Boolean) : Stream[A] = {\n",
    "        this match {\n",
    "            case Empty => Empty\n",
    "            case Cons(h, t) => if (p(h())) {\n",
    "                Cons(h, () => t().takeWhile(p))\n",
    "            } else {\n",
    "                Empty\n",
    "            }\n",
    "        }\n",
    "    }\n",
    "    \n",
    "    // ex 5.4\n",
    "    def forAll(p: A => Boolean): Boolean = {\n",
    "        this match {\n",
    "            case Empty => true\n",
    "            case Cons(h, t) => if (!p(h())) {\n",
    "                false\n",
    "            } else {\n",
    "                t().forAll(p)\n",
    "            }\n",
    "        }\n",
    "    }\n",
    "    \n",
    "    // ex 5.5 Implement takeWhile with FoldRight\n",
    "    // foldRight[B](z: => B)(f: (A, => B) => B): B\n",
    "    // f(h(), t().foldRight(z)(f))\n",
    "    def takeWhileFR(p: A => Boolean) : Stream[A] = \n",
    "        foldRight(Empty.asInstanceOf[Stream[A]])((h, t) => if (p(h)) { \n",
    "            Cons(() => h, () => t) \n",
    "        } else {\n",
    "            Empty\n",
    "        })\n",
    "    \n",
    "    // ex 5.6 Implement headOption using FoldRight\n",
    "    def headOptionFR: Option[A] = this.foldRight(None.asInstanceOf[Option[A]])((h, _) => Some(h))\n",
    "    \n",
    "    // ex 5.7 Implment map, filter append and flatMap using foldRight.\n",
    "    // append should be non-strict in its argument.\n",
    "    def map[B](f: A => B): Stream[B] = \n",
    "        this.foldRight(Empty.asInstanceOf[Stream[B]])((h, t) => Cons(() => f(h), () => t))\n",
    "    \n",
    "    def filter[B](p: A => Boolean): Stream[A] =\n",
    "        this.foldRight(Empty.asInstanceOf[Stream[A]])((h, t) => {\n",
    "            if (p(h)) {\n",
    "                Cons(() => h, () => t)\n",
    "            } else {\n",
    "                t\n",
    "            }\n",
    "        })\n",
    "    \n",
    "    def append[B >: A](a2 : Stream[B]) : Stream[B] = \n",
    "        this.foldRight(a2)((h, t) => {\n",
    "            Cons(() => h, () => t)\n",
    "        })\n",
    "    \n",
    "    def flatMap[B](f: A => Stream[B]) : Stream[B] =\n",
    "        this.foldRight(Empty.asInstanceOf[Stream[B]])((h, t) => {\n",
    "            f(h).append(t)\n",
    "        })\n",
    "}\n",
    "\n",
    "case object Empty extends Stream[Nothing]\n",
    "case class Cons[+A](h: () => A, t: () => Stream[A]) extends Stream[A]\n",
    "\n",
    "object Stream {\n",
    "    def cons[A](hd: => A, tl: => Stream[A]): Stream [A] = {\n",
    "        lazy val head = hd\n",
    "        lazy val tail = tl\n",
    "        Cons(() => head, () => tail)\n",
    "    }\n",
    "    \n",
    "    def empty[A]: Stream[A] = Empty\n",
    "    \n",
    "    def apply[A](as: A*): Stream[A] = \n",
    "        if (as.isEmpty) empty else cons(as.head, apply(as.tail: _*))\n",
    "}\n"
   ]
  },
  {
   "cell_type": "code",
   "execution_count": 2,
   "metadata": {},
   "outputs": [
    {
     "name": "stdout",
     "output_type": "stream",
     "text": [
      "(headOption,None)\n",
      "(headOption,Some(1))\n",
      "(take(2),List(1, 2))\n",
      "(drop(4),List(5, 6))\n",
      "(takeWhile(x < 5),List(1, 2, 3, 4))\n",
      "(forAll(x>0),true)\n",
      "(forAll(x>0),false)\n"
     ]
    },
    {
     "data": {
      "text/plain": [
       "null"
      ]
     },
     "execution_count": 2,
     "metadata": {},
     "output_type": "execute_result"
    }
   ],
   "source": [
    "// id : try ex_5.1_5.3\n",
    "println(\"headOption\", Stream().headOption)\n",
    "println(\"headOption\", Stream(1,2,3).headOption)\n",
    "println(\"take(2)\",  Stream(1,2,3,4,5,6).take(2).toList)\n",
    "println(\"drop(4)\",  Stream(1,2,3,4,5,6).drop(4).toList)\n",
    "println(\"takeWhile(x < 5)\",  Stream(1,2,3,4,5,6).takeWhile((x : Int) => x < 5).toList)\n",
    "println(\"forAll(x>0)\", Stream(1,2,3,4,5,6).forAll((x : Int) => x > 0))\n",
    "println(\"forAll(x>0)\", Stream(1,2,3,4,5,6,-1).forAll((x : Int) => x > 0))"
   ]
  },
  {
   "cell_type": "code",
   "execution_count": 3,
   "metadata": {},
   "outputs": [
    {
     "name": "stdout",
     "output_type": "stream",
     "text": [
      "(takeWhileFR(x < 5),List(1, 2, 3, 4))\n",
      "(takeWhileFR(x < 5),List())\n",
      "(takeWhileFR(x < 5),List(4))\n",
      "(takeWhileFR(x < 5),List())\n"
     ]
    },
    {
     "data": {
      "text/plain": [
       "null"
      ]
     },
     "execution_count": 3,
     "metadata": {},
     "output_type": "execute_result"
    }
   ],
   "source": [
    "// id : try ex_5.5\n",
    "println(\"takeWhileFR(x < 5)\",  Stream(1,2,3,4,5,6).takeWhileFR((x : Int) => x < 5).toList)\n",
    "println(\"takeWhileFR(x < 5)\",  Stream().takeWhileFR((x : Int) => x < 5).toList)\n",
    "println(\"takeWhileFR(x < 5)\",  Stream(4).takeWhileFR((x : Int) => x < 5).toList)\n",
    "println(\"takeWhileFR(x < 5)\",  Stream(6).takeWhileFR((x : Int) => x < 5).toList)"
   ]
  },
  {
   "cell_type": "code",
   "execution_count": 4,
   "metadata": {},
   "outputs": [
    {
     "name": "stdout",
     "output_type": "stream",
     "text": [
      "(headOptionFR,None)\n",
      "(headOptionFR,Some(1))\n"
     ]
    },
    {
     "data": {
      "text/plain": [
       "null"
      ]
     },
     "execution_count": 4,
     "metadata": {},
     "output_type": "execute_result"
    }
   ],
   "source": [
    "// id : try ex_5.6\n",
    "println(\"headOptionFR\", Stream().headOptionFR)\n",
    "println(\"headOptionFR\", Stream(1,2,3).headOptionFR)"
   ]
  },
  {
   "cell_type": "code",
   "execution_count": 5,
   "metadata": {},
   "outputs": [
    {
     "name": "stdout",
     "output_type": "stream",
     "text": [
      "(map,List(<1>, <2>, <3>, <4>, <5>))\n",
      "(filter,List(4, 5))\n",
      "(append,List(1, 2, 3, 4))\n",
      "(flatMap,List(1, 1, 2, 2, 3, 3))\n"
     ]
    },
    {
     "data": {
      "text/plain": [
       "null"
      ]
     },
     "execution_count": 5,
     "metadata": {},
     "output_type": "execute_result"
    }
   ],
   "source": [
    "// id : try ex_5.7\n",
    "println(\"map\", Stream(1,2,3,4,5).map(x => \"<\" + x.toString + \">\").toList)\n",
    "println(\"filter\", Stream(1,2,3,4,5).filter(x => x > 3).toList)\n",
    "println(\"append\", Stream(1,2).append(Stream(3,4)).toList)\n",
    "println(\"flatMap\", Stream(1,2,3).flatMap(x => Stream(x,x)).toList)"
   ]
  },
  {
   "cell_type": "code",
   "execution_count": 6,
   "metadata": {},
   "outputs": [
    {
     "data": {
      "text/plain": [
       "constant: [A](a: A)Stream[A]\n"
      ]
     },
     "execution_count": 6,
     "metadata": {},
     "output_type": "execute_result"
    }
   ],
   "source": [
    "// id : ex_5.8\n",
    "def constant[A](a : A) : Stream[A] = Cons(() => a, () => constant(a))"
   ]
  },
  {
   "cell_type": "code",
   "execution_count": 7,
   "metadata": {},
   "outputs": [
    {
     "data": {
      "text/plain": [
       "[[A, A, A, A, A, A, A]]"
      ]
     },
     "execution_count": 7,
     "metadata": {},
     "output_type": "execute_result"
    }
   ],
   "source": [
    "// id : try ex_5.8\n",
    "constant(\"A\").take(7).toList"
   ]
  },
  {
   "cell_type": "code",
   "execution_count": 8,
   "metadata": {},
   "outputs": [
    {
     "data": {
      "text/plain": [
       "from: (n: Int)Stream[Int]\n"
      ]
     },
     "execution_count": 8,
     "metadata": {},
     "output_type": "execute_result"
    }
   ],
   "source": [
    "// id : ex_5.9\n",
    "def from(n : Int) : Stream[Int] = Cons(() => n, () => from(n+1))"
   ]
  },
  {
   "cell_type": "code",
   "execution_count": 9,
   "metadata": {},
   "outputs": [
    {
     "data": {
      "text/plain": [
       "[[3, 4, 5, 6, 7, 8, 9]]"
      ]
     },
     "execution_count": 9,
     "metadata": {},
     "output_type": "execute_result"
    }
   ],
   "source": [
    "// id : try ex_5.9\n",
    "from(3).take(7).toList"
   ]
  },
  {
   "cell_type": "code",
   "execution_count": 10,
   "metadata": {},
   "outputs": [
    {
     "data": {
      "text/plain": [
       "Cons(<function0>,<function0>)"
      ]
     },
     "execution_count": 10,
     "metadata": {},
     "output_type": "execute_result"
    }
   ],
   "source": [
    "// id : ex_5.10\n",
    "def fibHelper(n : Int, n1: Int) : Stream[Int] = {\n",
    "    if (n == 0) {\n",
    "        Stream(0,1).append(fibHelper(1,1))\n",
    "    } else {\n",
    "        Cons(() => n + n1, () => fibHelper(n1, n + n1))\n",
    "    }\n",
    "}\n",
    "\n",
    "def fibs() : Stream[Int] = fibHelper(0, 1)"
   ]
  },
  {
   "cell_type": "code",
   "execution_count": 11,
   "metadata": {},
   "outputs": [
    {
     "data": {
      "text/plain": [
       "[[0, 1, 2, 3, 5, 8, 13, 21, 34, 55]]"
      ]
     },
     "execution_count": 11,
     "metadata": {},
     "output_type": "execute_result"
    }
   ],
   "source": [
    "// id : try ex_5.10\n",
    "fibs.take(10).toList"
   ]
  },
  {
   "cell_type": "code",
   "execution_count": 12,
   "metadata": {},
   "outputs": [
    {
     "data": {
      "text/plain": [
       "unfold: [A, S](z: S)(f: S => Option[(A, S)])Stream[A]\n"
      ]
     },
     "execution_count": 12,
     "metadata": {},
     "output_type": "execute_result"
    }
   ],
   "source": [
    "// id : ex_5.11\n",
    "\n",
    "def unfold[A, S](z: S)(f: S => Option[(A, S)]): Stream[A] = {\n",
    "    f(z) match {\n",
    "        case Some((a, s)) => Cons(() => a, () => unfold(s)(f))\n",
    "        case None => Empty\n",
    "    }\n",
    "}"
   ]
  },
  {
   "cell_type": "code",
   "execution_count": 13,
   "metadata": {},
   "outputs": [
    {
     "data": {
      "text/plain": [
       "fibsIter: ((Int, Int)) => Some[((Int, Int), (Int, Int))]\n",
       "unfoldFibs: Cons[Int]\n",
       "unfoldConstant: [A](a: A)Stream[A]\n",
       "unfoldOnes: Stream[Int]\n",
       "unfoldFrom: (n: Int)Stream[Int]\n"
      ]
     },
     "execution_count": 13,
     "metadata": {},
     "output_type": "execute_result"
    }
   ],
   "source": [
    "// id: ex_5.12\n",
    "\n",
    "def fibsIter = (pn: (Int, Int)) => Some((pn._1, pn._2), (pn._2, pn._1+pn._2))\n",
    "def unfoldFibs = Cons(() => 0,\n",
    "                      () => unfold((0,1))(fibsIter).map(_._2))\n",
    "\n",
    "def unfoldConstant[A](a : A) = unfold(a)(a => Some((a, a)))\n",
    "\n",
    "def unfoldOnes = unfoldConstant(1)\n",
    "\n",
    "def unfoldFrom(n: Int) : Stream[Int] = unfold(n)(n => Some(n, n+1))\n"
   ]
  },
  {
   "cell_type": "code",
   "execution_count": 14,
   "metadata": {},
   "outputs": [
    {
     "name": "stdout",
     "output_type": "stream",
     "text": [
      "(unfoldFibs,List(0, 1, 1, 2, 3, 5, 8, 13, 21, 34, 55, 89))\n",
      "(unfoldConstant,List(3, 3, 3, 3, 3, 3, 3, 3, 3, 3))\n",
      "(unfoldFrom,List(4, 5, 6, 7, 8, 9, 10, 11, 12, 13))\n",
      "(unfoldOnes,List(1, 1, 1, 1, 1, 1, 1, 1, 1, 1))\n"
     ]
    },
    {
     "data": {
      "text/plain": [
       "null"
      ]
     },
     "execution_count": 14,
     "metadata": {},
     "output_type": "execute_result"
    }
   ],
   "source": [
    "// id: try ex_5.12\n",
    "\n",
    "println(\"unfoldFibs\", unfoldFibs.take(12).toList)\n",
    "println(\"unfoldConstant\", unfoldConstant(3).take(10).toList)\n",
    "println(\"unfoldFrom\", unfoldFrom(4).take(10).toList)\n",
    "println(\"unfoldOnes\", unfoldOnes.take(10).toList)"
   ]
  },
  {
   "cell_type": "code",
   "execution_count": 15,
   "metadata": {},
   "outputs": [
    {
     "data": {
      "text/plain": [
       "zipWith: [A, B, C](as: Stream[A], bs: Stream[B])(f: (A, B) => C)Stream[C]\n"
      ]
     },
     "execution_count": 15,
     "metadata": {},
     "output_type": "execute_result"
    }
   ],
   "source": [
    "// id : ex_5.13\n",
    "\n",
    "def zipWith[A, B, C](as : Stream[A], bs: Stream[B])(f : (A, B) => C) : Stream[C] =\n",
    "    unfold((as, bs))((ab : Tuple2[Stream[A], Stream[B]]) => {\n",
    "    val a = ab._1\n",
    "    val b = ab._2\n",
    "    val result = for {\n",
    "        ah <- a.headOption\n",
    "        bh <- b.headOption\n",
    "    } yield (f(ah, bh), (a.drop(1), b.drop(1)))\n",
    "    result\n",
    "})\n",
    "                     "
   ]
  },
  {
   "cell_type": "code",
   "execution_count": 16,
   "metadata": {},
   "outputs": [
    {
     "name": "stdout",
     "output_type": "stream",
     "text": [
      "List(2, 4, 6)\n",
      "List()\n",
      "List(4, 12)\n"
     ]
    },
    {
     "data": {
      "text/plain": [
       "null"
      ]
     },
     "execution_count": 16,
     "metadata": {},
     "output_type": "execute_result"
    }
   ],
   "source": [
    "// id : try ex_5.13\n",
    "\n",
    "def add_zipWith(as : Stream[Int], bs : Stream[Int]) = zipWith(as, bs)((a : Int, b : Int) => a + b)\n",
    "println(add_zipWith(Stream(1,2,3), Stream(1,2,3)).toList)\n",
    "println(add_zipWith(Stream(), Stream(1,2,3)).toList)\n",
    "println(add_zipWith(Stream(1,8), Stream(3,4,5)).toList)"
   ]
  },
  {
   "cell_type": "code",
   "execution_count": null,
   "metadata": {},
   "outputs": [],
   "source": []
  }
 ],
 "metadata": {
  "kernelspec": {
   "display_name": "Scala",
   "language": "scala",
   "name": "scala"
  },
  "language_info": {
   "codemirror_mode": "text/x-scala",
   "file_extension": ".scala",
   "mimetype": "",
   "name": "Scala",
   "nbconverter_exporter": "",
   "version": "2.11.12"
  }
 },
 "nbformat": 4,
 "nbformat_minor": 2
}
