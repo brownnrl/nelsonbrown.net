{
 "cells": [
  {
   "cell_type": "code",
   "execution_count": 19,
   "metadata": {},
   "outputs": [
    {
     "data": {
      "text/plain": [
       "$line29.$read$$iw$$iw$Stream$@7a92fb2a"
      ]
     },
     "execution_count": 19,
     "metadata": {},
     "output_type": "execute_result"
    }
   ],
   "source": [
    "// id : ex_5.1_5.3\n",
    "\n",
    "sealed trait Stream[+A] {\n",
    "    \n",
    "    def headOption: Option[A] = this match {\n",
    "        case Empty => None\n",
    "        case Cons(h, t) => Some(h())\n",
    "    }\n",
    "    \n",
    "    def toList: List[A] = this match {\n",
    "        case Empty => Nil\n",
    "        case Cons(h, t) => h() :: t().toList\n",
    "    }\n",
    "    \n",
    "    def take(n : Int) : Stream[A] = {\n",
    "        if( n <= 0) {\n",
    "            Empty\n",
    "        } else {\n",
    "            this match {\n",
    "                case Empty => Empty\n",
    "                case Cons(h, t) => Cons(h, () => t().take(n-1))\n",
    "            }  \n",
    "        }\n",
    "    }\n",
    "    \n",
    "    def drop(n : Int) : Stream[A] = {\n",
    "        if( n <= 0) {\n",
    "            this\n",
    "        } else {\n",
    "            this match {\n",
    "                case Empty => Empty\n",
    "                case Cons(h, t) => t().drop(n-1)\n",
    "            }  \n",
    "        }\n",
    "    }\n",
    "    \n",
    "    // def takeWhile[A](p: A => Boolean) : Stream[A]\n",
    "}\n",
    "\n",
    "case object Empty extends Stream[Nothing]\n",
    "case class Cons[+A](h: () => A, t: () => Stream[A]) extends Stream[A]\n",
    "\n",
    "object Stream {\n",
    "    def cons[A](hd: => A, tl: => Stream[A]): Stream [A] = {\n",
    "        lazy val head = hd\n",
    "        lazy val tail = tl\n",
    "        Cons(() => head, () => tail)\n",
    "    }\n",
    "    \n",
    "    def empty[A]: Stream[A] = Empty\n",
    "    \n",
    "    def apply[A](as: A*): Stream[A] = \n",
    "        if (as.isEmpty) empty else cons(as.head, apply(as.tail: _*))\n",
    "}"
   ]
  },
  {
   "cell_type": "code",
   "execution_count": 34,
   "metadata": {},
   "outputs": [
    {
     "name": "stdout",
     "output_type": "stream",
     "text": [
      "(headOption,None)\n",
      "(headOption,Some(1))\n",
      "(take(2),List(1, 2))\n",
      "(drop(4),List(5, 6))\n"
     ]
    },
    {
     "data": {
      "text/plain": [
       "null"
      ]
     },
     "execution_count": 34,
     "metadata": {},
     "output_type": "execute_result"
    }
   ],
   "source": [
    "// id : try ex_5.1_5.3\n",
    "println(\"headOption\", Stream().headOption)\n",
    "println(\"headOption\", Stream(1,2,3).headOption)\n",
    "println(\"take(2)\",  Stream(1,2,3,4,5,6).take(2).toList)\n",
    "println(\"drop(4)\",  Stream(1,2,3,4,5,6).drop(4).toList)"
   ]
  },
  {
   "cell_type": "code",
   "execution_count": null,
   "metadata": {},
   "outputs": [],
   "source": []
  }
 ],
 "metadata": {
  "kernelspec": {
   "display_name": "Scala",
   "language": "scala",
   "name": "scala"
  },
  "language_info": {
   "codemirror_mode": "text/x-scala",
   "file_extension": ".scala",
   "mimetype": "",
   "name": "Scala",
   "nbconverter_exporter": "",
   "version": "2.11.12"
  }
 },
 "nbformat": 4,
 "nbformat_minor": 2
}
