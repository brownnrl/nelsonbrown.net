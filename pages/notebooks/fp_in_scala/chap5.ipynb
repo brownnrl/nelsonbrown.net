{
 "cells": [
  {
   "cell_type": "code",
   "execution_count": 30,
   "metadata": {},
   "outputs": [
    {
     "data": {
      "text/plain": [
       "$line42.$read$$iw$$iw$Stream$@1bcccba9"
      ]
     },
     "execution_count": 30,
     "metadata": {},
     "output_type": "execute_result"
    }
   ],
   "source": [
    "// id : ex_5.1_5.3\n",
    "\n",
    "sealed trait Stream[+A] {\n",
    "    \n",
    "    def headOption: Option[A] = this match {\n",
    "        case Empty => None\n",
    "        case Cons(h, t) => Some(h())\n",
    "    }\n",
    "    \n",
    "    def toList: List[A] = this match {\n",
    "        case Empty => Nil\n",
    "        case Cons(h, t) => h() :: t().toList\n",
    "    }\n",
    "    \n",
    "    def foldRight[B](z: => B)(f: (A, => B) => B): B = this match {\n",
    "        case Cons(h, t) => f(h(), t().foldRight(z)(f))\n",
    "        case _ => z\n",
    "    }\n",
    "    \n",
    "    def exists(p: A => Boolean): Boolean =\n",
    "        foldRight(false)((a, b) => p(a) || b)\n",
    "    \n",
    "    // ex 5.1\n",
    "    def take(n : Int) : Stream[A] = {\n",
    "        if( n <= 0) {\n",
    "            Empty\n",
    "        } else {\n",
    "            this match {\n",
    "                case Empty => Empty\n",
    "                case Cons(h, t) => Cons(h, () => t().take(n-1))\n",
    "            }  \n",
    "        }\n",
    "    }\n",
    "    \n",
    "    // ex 5.2\n",
    "    def drop(n : Int) : Stream[A] = {\n",
    "        if( n <= 0) {\n",
    "            this\n",
    "        } else {\n",
    "            this match {\n",
    "                case Empty => Empty\n",
    "                case Cons(h, t) => t().drop(n-1)\n",
    "            }  \n",
    "        }\n",
    "    }\n",
    "    \n",
    "    // ex 5.3\n",
    "    def takeWhile(p: A => Boolean) : Stream[A] = {\n",
    "        this match {\n",
    "            case Empty => Empty\n",
    "            case Cons(h, t) => if (p(h())) {\n",
    "                Cons(h, () => t().takeWhile(p))\n",
    "            } else {\n",
    "                Empty\n",
    "            }\n",
    "        }\n",
    "    }\n",
    "    \n",
    "    // ex 5.4\n",
    "    def forAll(p: A => Boolean): Boolean = {\n",
    "        this match {\n",
    "            case Empty => true\n",
    "            case Cons(h, t) => if (!p(h())) {\n",
    "                false\n",
    "            } else {\n",
    "                t().forAll(p)\n",
    "            }\n",
    "        }\n",
    "    }\n",
    "    \n",
    "    // ex 5.5 Implement takeWhile with FoldRight\n",
    "    // foldRight[B](z: => B)(f: (A, => B) => B): B\n",
    "    // f(h(), t().foldRight(z)(f))\n",
    "    def takeWhileFR(p: A => Boolean) : Stream[A] = \n",
    "        foldRight(Empty.asInstanceOf[Stream[A]])((h, t) => if (p(h)) { \n",
    "            Cons(() => h, () => t) \n",
    "        } else {\n",
    "            Empty\n",
    "        })\n",
    "    \n",
    "    // ex 5.6 Implement headOption using FoldRight\n",
    "    def headOptionFR: Option[A] = this.foldRight(None.asInstanceOf[Option[A]])((h, _) => Some(h))\n",
    "    \n",
    "    // ex 5.7 Implment map, filter append and flatMap using foldRight.\n",
    "    // append should be non-strict in its argument.\n",
    "    def map[B](f: A => B): Stream[B] = \n",
    "        this.foldRight(Empty.asInstanceOf[Stream[B]])((h, t) => Cons(() => f(h), () => t))\n",
    "    \n",
    "    def filter[B](p: A => Boolean): Stream[A] =\n",
    "        this.foldRight(Empty.asInstanceOf[Stream[A]])((h, t) => {\n",
    "            if (p(h)) {\n",
    "                Cons(() => h, () => t)\n",
    "            } else {\n",
    "                t\n",
    "            }\n",
    "        })\n",
    "    \n",
    "    def append[B >: A](a2 : Stream[B]) : Stream[B] = \n",
    "        this.foldRight(a2)((h, t) => {\n",
    "            Cons(() => h, () => t)\n",
    "        }) \n",
    "}\n",
    "\n",
    "case object Empty extends Stream[Nothing]\n",
    "case class Cons[+A](h: () => A, t: () => Stream[A]) extends Stream[A]\n",
    "\n",
    "object Stream {\n",
    "    def cons[A](hd: => A, tl: => Stream[A]): Stream [A] = {\n",
    "        lazy val head = hd\n",
    "        lazy val tail = tl\n",
    "        Cons(() => head, () => tail)\n",
    "    }\n",
    "    \n",
    "    def empty[A]: Stream[A] = Empty\n",
    "    \n",
    "    def apply[A](as: A*): Stream[A] = \n",
    "        if (as.isEmpty) empty else cons(as.head, apply(as.tail: _*))\n",
    "}"
   ]
  },
  {
   "cell_type": "code",
   "execution_count": 18,
   "metadata": {},
   "outputs": [
    {
     "name": "stdout",
     "output_type": "stream",
     "text": [
      "(headOption,None)\n",
      "(headOption,Some(1))\n",
      "(take(2),List(1, 2))\n",
      "(drop(4),List(5, 6))\n",
      "(takeWhile(x < 5),List(1, 2, 3, 4))\n",
      "(forAll(x>0),true)\n",
      "(forAll(x>0),false)\n"
     ]
    },
    {
     "data": {
      "text/plain": [
       "null"
      ]
     },
     "execution_count": 18,
     "metadata": {},
     "output_type": "execute_result"
    }
   ],
   "source": [
    "// id : try ex_5.1_5.3\n",
    "println(\"headOption\", Stream().headOption)\n",
    "println(\"headOption\", Stream(1,2,3).headOption)\n",
    "println(\"take(2)\",  Stream(1,2,3,4,5,6).take(2).toList)\n",
    "println(\"drop(4)\",  Stream(1,2,3,4,5,6).drop(4).toList)\n",
    "println(\"takeWhile(x < 5)\",  Stream(1,2,3,4,5,6).takeWhile((x : Int) => x < 5).toList)\n",
    "println(\"forAll(x>0)\", Stream(1,2,3,4,5,6).forAll((x : Int) => x > 0))\n",
    "println(\"forAll(x>0)\", Stream(1,2,3,4,5,6,-1).forAll((x : Int) => x > 0))"
   ]
  },
  {
   "cell_type": "code",
   "execution_count": 19,
   "metadata": {},
   "outputs": [
    {
     "name": "stdout",
     "output_type": "stream",
     "text": [
      "(takeWhileFR(x < 5),List(1, 2, 3, 4))\n",
      "(takeWhileFR(x < 5),List())\n",
      "(takeWhileFR(x < 5),List(4))\n",
      "(takeWhileFR(x < 5),List())\n"
     ]
    },
    {
     "data": {
      "text/plain": [
       "null"
      ]
     },
     "execution_count": 19,
     "metadata": {},
     "output_type": "execute_result"
    }
   ],
   "source": [
    "// id : try ex_5.5\n",
    "println(\"takeWhileFR(x < 5)\",  Stream(1,2,3,4,5,6).takeWhileFR((x : Int) => x < 5).toList)\n",
    "println(\"takeWhileFR(x < 5)\",  Stream().takeWhileFR((x : Int) => x < 5).toList)\n",
    "println(\"takeWhileFR(x < 5)\",  Stream(4).takeWhileFR((x : Int) => x < 5).toList)\n",
    "println(\"takeWhileFR(x < 5)\",  Stream(6).takeWhileFR((x : Int) => x < 5).toList)"
   ]
  },
  {
   "cell_type": "code",
   "execution_count": 21,
   "metadata": {},
   "outputs": [
    {
     "name": "stdout",
     "output_type": "stream",
     "text": [
      "(headOptionFR,None)\n",
      "(headOptionFR,Some(1))\n"
     ]
    },
    {
     "data": {
      "text/plain": [
       "null"
      ]
     },
     "execution_count": 21,
     "metadata": {},
     "output_type": "execute_result"
    }
   ],
   "source": [
    "// id : try ex_5.6\n",
    "println(\"headOptionFR\", Stream().headOptionFR)\n",
    "println(\"headOptionFR\", Stream(1,2,3).headOptionFR)"
   ]
  },
  {
   "cell_type": "code",
   "execution_count": 31,
   "metadata": {},
   "outputs": [
    {
     "name": "stdout",
     "output_type": "stream",
     "text": [
      "(map,List(<1>, <2>, <3>, <4>, <5>))\n",
      "(filter,List(4, 5))\n",
      "(append,List(1, 2, 3, 4))\n"
     ]
    },
    {
     "data": {
      "text/plain": [
       "null"
      ]
     },
     "execution_count": 31,
     "metadata": {},
     "output_type": "execute_result"
    }
   ],
   "source": [
    "// id : try ex_5.7\n",
    "println(\"map\", Stream(1,2,3,4,5).map(x => \"<\" + x.toString + \">\").toList)\n",
    "println(\"filter\", Stream(1,2,3,4,5).filter(x => x > 3).toList)\n",
    "println(\"append\", Stream(1,2).append(Stream(3,4)).toList)"
   ]
  },
  {
   "cell_type": "code",
   "execution_count": null,
   "metadata": {},
   "outputs": [],
   "source": []
  }
 ],
 "metadata": {
  "kernelspec": {
   "display_name": "Scala",
   "language": "scala",
   "name": "scala"
  },
  "language_info": {
   "codemirror_mode": "text/x-scala",
   "file_extension": ".scala",
   "mimetype": "",
   "name": "Scala",
   "nbconverter_exporter": "",
   "version": "2.11.12"
  }
 },
 "nbformat": 4,
 "nbformat_minor": 2
}
