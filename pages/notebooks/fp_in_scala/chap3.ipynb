{
 "cells": [
  {
   "cell_type": "code",
   "execution_count": 1,
   "metadata": {},
   "outputs": [
    {
     "data": {
      "text/plain": [
       "import scala.annotation.tailrec\n"
      ]
     },
     "execution_count": 1,
     "metadata": {},
     "output_type": "execute_result"
    }
   ],
   "source": [
    "import scala.annotation.tailrec"
   ]
  },
  {
   "cell_type": "code",
   "execution_count": 2,
   "metadata": {},
   "outputs": [
    {
     "data": {
      "text/plain": [
       "defined trait List\n",
       "defined object Nil\n",
       "defined class Cons\n"
      ]
     },
     "execution_count": 2,
     "metadata": {},
     "output_type": "execute_result"
    }
   ],
   "source": [
    "sealed trait List[+A]\n",
    "case object Nil extends List[Nothing]\n",
    "case class Cons[+A](head: A, tail : List[A]) extends List[A]"
   ]
  },
  {
   "cell_type": "code",
   "execution_count": 3,
   "metadata": {},
   "outputs": [
    {
     "data": {
      "text/plain": [
       "$line17.$read$$iw$$iw$$iw$$iw$$iw$$iw$$iw$$iw$$iw$$iw$$iw$$iw$$iw$$iw$$iw$$iw$$iw$$iw$$iw$$iw$List$@62bdee15"
      ]
     },
     "execution_count": 3,
     "metadata": {},
     "output_type": "execute_result"
    }
   ],
   "source": [
    "object List {\n",
    "    \n",
    "    def sum(ints : List[Int]) : Int = ints match {\n",
    "        case Nil => 0\n",
    "        case Cons(x, xs) => x + sum(xs)\n",
    "    }\n",
    "    \n",
    "    def product(ds: List[Double]) : Double = ds match {\n",
    "        case Nil => 1.0\n",
    "        case Cons(0.0, _) => 0.0\n",
    "        case Cons(x, xs) => x * product(xs)\n",
    "    }\n",
    "    \n",
    "    def apply[A](as: A*) : List[A] = {\n",
    "        if (as.isEmpty) Nil\n",
    "        else Cons(as.head, apply(as.tail : _*))\n",
    "    }\n",
    "}"
   ]
  },
  {
   "cell_type": "code",
   "execution_count": 4,
   "metadata": {},
   "outputs": [
    {
     "data": {
      "text/plain": [
       "3"
      ]
     },
     "execution_count": 4,
     "metadata": {},
     "output_type": "execute_result"
    }
   ],
   "source": [
    "// id : ex_3.1\n",
    "// It should be the third case (x+y), let's find out\n",
    "val x = List(1,2,3,4,5) match {\n",
    "    case Cons(x, Cons(2, Cons(4, _))) => x\n",
    "    case Nil => 42\n",
    "    case Cons(x, Cons(y, Cons(3, Cons(4, _)))) => x + y\n",
    "    case Cons(h, t) => h + List.sum(t)\n",
    "    case _ => 101\n",
    "}"
   ]
  },
  {
   "cell_type": "code",
   "execution_count": 5,
   "metadata": {},
   "outputs": [
    {
     "data": {
      "text/plain": [
       "15"
      ]
     },
     "execution_count": 5,
     "metadata": {},
     "output_type": "execute_result"
    }
   ],
   "source": [
    "// id : try ex_3.1\n",
    "val y = List(1,2,3,4,5) match {\n",
    "    case Cons(h, t) => h + List.sum(t)\n",
    "    case _ => 101\n",
    "}"
   ]
  },
  {
   "cell_type": "code",
   "execution_count": 6,
   "metadata": {},
   "outputs": [
    {
     "data": {
      "text/plain": [
       "tail: [A](as: List[A])List[A]\n"
      ]
     },
     "execution_count": 6,
     "metadata": {},
     "output_type": "execute_result"
    }
   ],
   "source": [
    "// id : ex_3.2\n",
    "def tail[A](as : List[A]) : List[A] = {\n",
    "    as match {\n",
    "        case Nil => Nil\n",
    "        case Cons(x, y) => y\n",
    "    }\n",
    "}"
   ]
  },
  {
   "cell_type": "code",
   "execution_count": 7,
   "metadata": {},
   "outputs": [
    {
     "name": "stdout",
     "output_type": "stream",
     "text": [
      "Cons(2,Cons(3,Cons(4,Nil)))\n",
      "Nil\n",
      "Nil\n"
     ]
    },
    {
     "data": {
      "text/plain": [
       "null"
      ]
     },
     "execution_count": 7,
     "metadata": {},
     "output_type": "execute_result"
    }
   ],
   "source": [
    "// id : try ex_3.2\n",
    "println(tail(List(1,2,3,4)))\n",
    "println(tail(List(1)))\n",
    "println(tail(Nil))"
   ]
  },
  {
   "cell_type": "code",
   "execution_count": 8,
   "metadata": {},
   "outputs": [
    {
     "data": {
      "text/plain": [
       "setHead: [A](as: List[A], h: A)List[A]\n"
      ]
     },
     "execution_count": 8,
     "metadata": {},
     "output_type": "execute_result"
    }
   ],
   "source": [
    "// id : ex_3.3\n",
    "def setHead[A](as : List[A], h : A) : List[A] = as match {\n",
    "    case Cons(a, x) => Cons(h, x)\n",
    "    case Nil => Cons(h, Nil)\n",
    "}"
   ]
  },
  {
   "cell_type": "code",
   "execution_count": 9,
   "metadata": {},
   "outputs": [
    {
     "name": "stdout",
     "output_type": "stream",
     "text": [
      "Cons(3,Nil)\n",
      "Cons(3,Nil)\n",
      "Cons(3,Cons(2,Cons(3,Nil)))\n"
     ]
    },
    {
     "data": {
      "text/plain": [
       "null"
      ]
     },
     "execution_count": 9,
     "metadata": {},
     "output_type": "execute_result"
    }
   ],
   "source": [
    "// id : try ex_3.3\n",
    "println(setHead(List(), 3))\n",
    "println(setHead(List(1), 3))\n",
    "println(setHead(List(1,2,3), 3))"
   ]
  },
  {
   "cell_type": "code",
   "execution_count": 10,
   "metadata": {},
   "outputs": [
    {
     "data": {
      "text/plain": [
       "drop: [A](as: List[A], n: Int)List[A]\n"
      ]
     },
     "execution_count": 10,
     "metadata": {},
     "output_type": "execute_result"
    }
   ],
   "source": [
    "// id : ex_3.4\n",
    "@tailrec\n",
    "final def drop[A](as : List[A], n : Int) : List[A] = if (n > 0) {\n",
    "    as match {\n",
    "        case Cons(_, a) => drop(a, n-1)\n",
    "        case Nil => Nil\n",
    "    }\n",
    "} else { as }"
   ]
  },
  {
   "cell_type": "code",
   "execution_count": 11,
   "metadata": {},
   "outputs": [
    {
     "name": "stdout",
     "output_type": "stream",
     "text": [
      "Cons(3,Cons(4,Nil))\n",
      "Cons(1,Cons(2,Cons(3,Cons(4,Nil))))\n",
      "Cons(1,Cons(2,Cons(3,Cons(4,Nil))))\n",
      "Nil\n"
     ]
    },
    {
     "data": {
      "text/plain": [
       "null"
      ]
     },
     "execution_count": 11,
     "metadata": {},
     "output_type": "execute_result"
    }
   ],
   "source": [
    "// id : try ex_3.4\n",
    "println(drop(List(1,2,3,4),   2))\n",
    "println(drop(List(1,2,3,4),   0))\n",
    "println(drop(List(1,2,3,4), -10))\n",
    "println(drop(List(1,2,3,4),  10))"
   ]
  },
  {
   "cell_type": "code",
   "execution_count": 12,
   "metadata": {},
   "outputs": [
    {
     "data": {
      "text/plain": [
       "dropWhile: [A](as: List[A], p: A => Boolean)List[A]\n"
      ]
     },
     "execution_count": 12,
     "metadata": {},
     "output_type": "execute_result"
    }
   ],
   "source": [
    "// id : ex_3.5\n",
    "@tailrec\n",
    "final def dropWhile[A](as : List[A], p : A => Boolean) : List [A] = as match {\n",
    "    case Nil => Nil\n",
    "    case Cons(a, b) => if (p(a)) { dropWhile(b, p) } else { Cons(a, b) }\n",
    "}"
   ]
  },
  {
   "cell_type": "code",
   "execution_count": 13,
   "metadata": {},
   "outputs": [
    {
     "name": "stdout",
     "output_type": "stream",
     "text": [
      "Cons(1,Cons(2,Cons(3,Nil)))\n",
      "Cons(-3,Cons(-2,Cons(-1,Cons(0,Cons(1,Cons(2,Cons(3,Nil)))))))\n",
      "Nil\n"
     ]
    },
    {
     "data": {
      "text/plain": [
       "null"
      ]
     },
     "execution_count": 13,
     "metadata": {},
     "output_type": "execute_result"
    }
   ],
   "source": [
    "// id : try ex_3.5\n",
    "println(dropWhile(List(-3, -2, -1, 0, 1, 2, 3), (a : Int) => { a <= 0 }))\n",
    "println(dropWhile(List(-3, -2, -1, 0, 1, 2, 3), (a : Int) => { false }))\n",
    "println(dropWhile(List(-3, -2, -1, 0, 1, 2, 3), (a : Int) => { true }))"
   ]
  },
  {
   "cell_type": "code",
   "execution_count": 14,
   "metadata": {},
   "outputs": [
    {
     "data": {
      "text/plain": [
       "append: [A](a1: List[A], a2: List[A])List[A]\n"
      ]
     },
     "execution_count": 14,
     "metadata": {},
     "output_type": "execute_result"
    }
   ],
   "source": [
    "def append[A](a1 : List[A], a2 : List[A]) : List[A] = a1 match {\n",
    "    case Nil => a2\n",
    "    case Cons(h, t) => Cons(h, append(t, a2))\n",
    "}"
   ]
  },
  {
   "cell_type": "code",
   "execution_count": 15,
   "metadata": {},
   "outputs": [
    {
     "data": {
      "text/plain": [
       "head: [A](as: List[A])A\n"
      ]
     },
     "execution_count": 15,
     "metadata": {},
     "output_type": "execute_result"
    }
   ],
   "source": [
    "def head[A](as : List[A]) = as match {\n",
    "    case Cons(a, _) => a\n",
    "    case Nil => throw new Exception(\"Not gud.\")\n",
    "}"
   ]
  },
  {
   "cell_type": "code",
   "execution_count": 16,
   "metadata": {},
   "outputs": [
    {
     "name": "stdout",
     "output_type": "stream",
     "text": [
      "1\n"
     ]
    },
    {
     "data": {
      "text/plain": [
       "null"
      ]
     },
     "execution_count": 16,
     "metadata": {},
     "output_type": "execute_result"
    }
   ],
   "source": [
    "println(head(List(1,2,3)))"
   ]
  },
  {
   "cell_type": "code",
   "execution_count": 17,
   "metadata": {},
   "outputs": [
    {
     "data": {
      "text/plain": [
       "init: [A](as: List[A])List[A]\n"
      ]
     },
     "execution_count": 17,
     "metadata": {},
     "output_type": "execute_result"
    }
   ],
   "source": [
    "// id : ex_3.6\n",
    "def init[A](as : List[A]) : List[A] = {\n",
    "    def endOfList(as: List[A]) : Boolean = as match {\n",
    "        case Nil => true\n",
    "        case Cons(a, Nil) => true\n",
    "        case Cons(a, _) => false\n",
    "    }\n",
    "    \n",
    "    @tailrec\n",
    "    def initHelper(prefix : List[A], as : List[A]) : List[A] = {\n",
    "        if (endOfList(as)) {\n",
    "            prefix match {\n",
    "                case Nil => Nil\n",
    "                case _ => prefix\n",
    "            }\n",
    "        } else {\n",
    "            initHelper(append(prefix, Cons(head(as), Nil)), tail(as))\n",
    "        }\n",
    "    }\n",
    "    \n",
    "    initHelper(Nil, as)\n",
    "}"
   ]
  },
  {
   "cell_type": "code",
   "execution_count": 18,
   "metadata": {},
   "outputs": [
    {
     "name": "stdout",
     "output_type": "stream",
     "text": [
      "Cons(1,Cons(2,Cons(3,Nil)))\n",
      "Nil\n",
      "Nil\n",
      "Cons(1,Nil)\n"
     ]
    },
    {
     "data": {
      "text/plain": [
       "null"
      ]
     },
     "execution_count": 18,
     "metadata": {},
     "output_type": "execute_result"
    }
   ],
   "source": [
    "// id : try ex_3.6\n",
    "println(init(List(1,2,3,4)))\n",
    "println(init(Nil))\n",
    "println(init(List(1)))\n",
    "println(init(List(1, 2)))"
   ]
  },
  {
   "cell_type": "code",
   "execution_count": 19,
   "metadata": {},
   "outputs": [
    {
     "data": {
      "text/plain": [
       "foldRight: [A, B](as: List[A], z: B)(f: (A, B) => B)B\n"
      ]
     },
     "execution_count": 19,
     "metadata": {},
     "output_type": "execute_result"
    }
   ],
   "source": [
    "def foldRight[A, B](as: List[A], z: B)(f: (A, B) => B) : B = as match {\n",
    "    case Nil => z\n",
    "    case Cons(x, xs) => f(x, foldRight(xs, z)(f))\n",
    "}"
   ]
  },
  {
   "cell_type": "code",
   "execution_count": 20,
   "metadata": {},
   "outputs": [
    {
     "name": "stdout",
     "output_type": "stream",
     "text": [
      "10\n",
      "24\n"
     ]
    },
    {
     "data": {
      "text/plain": [
       "null"
      ]
     },
     "execution_count": 20,
     "metadata": {},
     "output_type": "execute_result"
    }
   ],
   "source": [
    "println(foldRight(List(1, 2, 3, 4), 0)(_ + _))\n",
    "println(foldRight(List(1, 2, 3, 4), 1)(_ * _))"
   ]
  },
  {
   "cell_type": "code",
   "execution_count": 21,
   "metadata": {},
   "outputs": [
    {
     "data": {
      "text/plain": [
       "Cons(1,Cons(2,Cons(3,Nil)))"
      ]
     },
     "execution_count": 21,
     "metadata": {},
     "output_type": "execute_result"
    }
   ],
   "source": [
    "// id: ex_3.8\n",
    "foldRight(List(1,2,3), Nil : List[Int])(Cons(_, _))"
   ]
  },
  {
   "cell_type": "code",
   "execution_count": 22,
   "metadata": {},
   "outputs": [
    {
     "data": {
      "text/plain": [
       "length: [A](as: List[A])Int\n"
      ]
     },
     "execution_count": 22,
     "metadata": {},
     "output_type": "execute_result"
    }
   ],
   "source": [
    "// id: ex_3.9\n",
    "def length[A](as: List[A]): Int = foldRight(as, 0)((_, b) => b + 1)"
   ]
  },
  {
   "cell_type": "code",
   "execution_count": 23,
   "metadata": {},
   "outputs": [
    {
     "name": "stdout",
     "output_type": "stream",
     "text": [
      "4\n",
      "0\n",
      "0\n",
      "1\n"
     ]
    },
    {
     "data": {
      "text/plain": [
       "null"
      ]
     },
     "execution_count": 23,
     "metadata": {},
     "output_type": "execute_result"
    }
   ],
   "source": [
    "// id : try ex_3.9\n",
    "println(length(List(1,2,3,4)))\n",
    "println(length(Nil))\n",
    "println(length(List()))\n",
    "println(length(List(999)))"
   ]
  },
  {
   "cell_type": "code",
   "execution_count": 24,
   "metadata": {},
   "outputs": [
    {
     "data": {
      "text/plain": [
       "foldLeft: [A, B](as: List[A], z: B)(f: (B, A) => B)B\n"
      ]
     },
     "execution_count": 24,
     "metadata": {},
     "output_type": "execute_result"
    }
   ],
   "source": [
    "// id : ex_3.10\n",
    "@tailrec\n",
    "final def foldLeft[A, B](as: List[A], z: B)(f: (B, A) => B) : B = as match {\n",
    "    case Nil => z\n",
    "    case Cons(x, xs) => foldLeft(xs, f(z, x))(f) // f(x, foldRight(xs, z)(f))\n",
    "}"
   ]
  },
  {
   "cell_type": "code",
   "execution_count": 25,
   "metadata": {},
   "outputs": [
    {
     "name": "stdout",
     "output_type": "stream",
     "text": [
      "20\n",
      "1\n",
      "0\n"
     ]
    },
    {
     "data": {
      "text/plain": [
       "null"
      ]
     },
     "execution_count": 25,
     "metadata": {},
     "output_type": "execute_result"
    }
   ],
   "source": [
    "// id: try ex_3.10\n",
    "println(foldLeft(List(1,2,3,4,10), 0)(_ + _))\n",
    "println(foldLeft(List(1), 0)(_ + _))\n",
    "println(foldLeft(List() : List[Int], 0)(_ + _))"
   ]
  },
  {
   "cell_type": "code",
   "execution_count": 26,
   "metadata": {},
   "outputs": [
    {
     "data": {
      "text/plain": [
       "sum: (as: List[Int])Int\n",
       "product: (as: List[Double])Double\n",
       "length: [A](as: List[A])Int\n"
      ]
     },
     "execution_count": 26,
     "metadata": {},
     "output_type": "execute_result"
    }
   ],
   "source": [
    "// id : ex_3.11\n",
    "def sum(as : List[Int]) : Int = foldLeft(as, 0)(_ + _)\n",
    "def product(as : List[Double]) : Double = foldLeft(as, 1d)(_ * _)\n",
    "def length[A](as : List[A]) : Int = foldLeft(as, 0)((b, a) => b + 1)"
   ]
  },
  {
   "cell_type": "code",
   "execution_count": 27,
   "metadata": {},
   "outputs": [
    {
     "name": "stdout",
     "output_type": "stream",
     "text": [
      "6\n",
      "24.0\n",
      "5\n",
      "0\n"
     ]
    },
    {
     "data": {
      "text/plain": [
       "null"
      ]
     },
     "execution_count": 27,
     "metadata": {},
     "output_type": "execute_result"
    }
   ],
   "source": [
    "// id : try ex_3.11\n",
    "println(sum(List(1,2,3)))\n",
    "println(product(List(1,2,3,4)))\n",
    "println(length(List(1,2,3,4,5)))\n",
    "println(length(List()))"
   ]
  },
  {
   "cell_type": "code",
   "execution_count": 28,
   "metadata": {},
   "outputs": [
    {
     "data": {
      "text/plain": [
       "reverse: [A](as: List[A])List[A]\n"
      ]
     },
     "execution_count": 28,
     "metadata": {},
     "output_type": "execute_result"
    }
   ],
   "source": [
    "// id : ex_3.12\n",
    "def reverse[A](as : List[A]) : List[A] = foldLeft(as, List[A]())((b, a) => Cons(a, b))"
   ]
  },
  {
   "cell_type": "code",
   "execution_count": 29,
   "metadata": {},
   "outputs": [
    {
     "name": "stdout",
     "output_type": "stream",
     "text": [
      "Nil\n",
      "Cons(3,Cons(2,Cons(1,Nil)))\n"
     ]
    },
    {
     "data": {
      "text/plain": [
       "null"
      ]
     },
     "execution_count": 29,
     "metadata": {},
     "output_type": "execute_result"
    }
   ],
   "source": [
    "// id : try ex_3.12\n",
    "println(reverse(List()))\n",
    "println(reverse(List(1,2,3)))"
   ]
  },
  {
   "cell_type": "code",
   "execution_count": 30,
   "metadata": {},
   "outputs": [
    {
     "data": {
      "text/plain": [
       "foldRight_Left: [A, B](as: List[A], z: B)(f: (A, B) => B)B\n"
      ]
     },
     "execution_count": 30,
     "metadata": {},
     "output_type": "execute_result"
    }
   ],
   "source": [
    "// id : ex_3.13\n",
    "//  foldRight     [A, B](as: List[A], z: B)(f: (A, B) => B) : B\n",
    "def foldRight_Left[A, B](as : List[A], z: B)(f: (A, B) => B) : B = foldLeft(reverse(as), z)((b, a) => f(a, b))"
   ]
  },
  {
   "cell_type": "code",
   "execution_count": 31,
   "metadata": {},
   "outputs": [
    {
     "name": "stdout",
     "output_type": "stream",
     "text": [
      "10\n",
      "24\n",
      "Cons(1,Cons(2,Cons(3,Nil)))\n"
     ]
    },
    {
     "data": {
      "text/plain": [
       "null"
      ]
     },
     "execution_count": 31,
     "metadata": {},
     "output_type": "execute_result"
    }
   ],
   "source": [
    "// id : try ex_3.13\n",
    "println(foldRight_Left(List(1, 2, 3, 4), 0)(_ + _))\n",
    "println(foldRight_Left(List(1, 2, 3, 4), 1)(_ * _))\n",
    "println(foldRight_Left(List(1,2,3), Nil : List[Int])(Cons(_, _)))"
   ]
  },
  {
   "cell_type": "code",
   "execution_count": 32,
   "metadata": {},
   "outputs": [
    {
     "data": {
      "text/plain": [
       "append_Left: [A](as: List[A], bs: List[A])List[A]\n"
      ]
     },
     "execution_count": 32,
     "metadata": {},
     "output_type": "execute_result"
    }
   ],
   "source": [
    "// id : ex_3.14\n",
    "def append_Left[A](as : List[A], bs : List[A]) = foldRight_Left(as, bs)((b, a) => Cons(b, a))"
   ]
  },
  {
   "cell_type": "code",
   "execution_count": 33,
   "metadata": {},
   "outputs": [
    {
     "name": "stdout",
     "output_type": "stream",
     "text": [
      "Nil\n",
      "Cons(1,Cons(2,Cons(3,Cons(4,Nil))))\n",
      "Cons(1,Cons(2,Nil))\n",
      "Cons(1,Cons(2,Nil))\n"
     ]
    },
    {
     "data": {
      "text/plain": [
       "null"
      ]
     },
     "execution_count": 33,
     "metadata": {},
     "output_type": "execute_result"
    }
   ],
   "source": [
    "// id : try ex_3.14\n",
    "println(append_Left(List(), List()))\n",
    "println(append_Left(List(1,2), List(3,4)))\n",
    "println(append_Left(List(1,2), List()))\n",
    "println(append_Left(List(), List(1,2)))"
   ]
  },
  {
   "cell_type": "code",
   "execution_count": 34,
   "metadata": {},
   "outputs": [
    {
     "data": {
      "text/plain": [
       "flatten: [A](as: List[List[A]])List[A]\n"
      ]
     },
     "execution_count": 34,
     "metadata": {},
     "output_type": "execute_result"
    }
   ],
   "source": [
    "// id : ex_3.15\n",
    "def flatten[A](as : List[List[A]]) : List[A] = {\n",
    "    foldRight_Left(as, List[A]())((acc, as) => append_Left(acc, as))\n",
    "}"
   ]
  },
  {
   "cell_type": "code",
   "execution_count": 35,
   "metadata": {},
   "outputs": [
    {
     "name": "stdout",
     "output_type": "stream",
     "text": [
      "Nil\n",
      "Cons(1,Cons(2,Nil))\n",
      "Cons(1,Cons(2,Cons(3,Cons(4,Cons(5,Cons(6,Cons(7,Nil)))))))\n"
     ]
    },
    {
     "data": {
      "text/plain": [
       "null"
      ]
     },
     "execution_count": 35,
     "metadata": {},
     "output_type": "execute_result"
    }
   ],
   "source": [
    "// id : try ex_3.15\n",
    "println(flatten(List(List(), List())))\n",
    "println(flatten(List(List(1), List(), List(2))))\n",
    "println(flatten(List(List(1,2,3), List(4), List(5,6,7))))"
   ]
  },
  {
   "cell_type": "code",
   "execution_count": 36,
   "metadata": {},
   "outputs": [
    {
     "data": {
      "text/plain": [
       "mapAdd1Helper: (as_p: List[Int], as: List[Int])List[Int]\n",
       "mapAdd1: (as: List[Int])List[Int]\n"
      ]
     },
     "execution_count": 36,
     "metadata": {},
     "output_type": "execute_result"
    }
   ],
   "source": [
    "// id : ex_3.16\n",
    "@tailrec\n",
    "final def mapAdd1Helper(as_p : List[Int], as : List[Int]) : List[Int] = as match {\n",
    "    case Nil => as_p\n",
    "    case Cons(x, xs) => mapAdd1Helper(append_Left(as_p, List(x+1)), xs)\n",
    "} \n",
    "\n",
    "def mapAdd1(as : List[Int]) : List[Int] = mapAdd1Helper(List(), as)"
   ]
  },
  {
   "cell_type": "code",
   "execution_count": 37,
   "metadata": {},
   "outputs": [
    {
     "name": "stdout",
     "output_type": "stream",
     "text": [
      "Nil\n",
      "Cons(2,Nil)\n",
      "Cons(0,Cons(1,Cons(2,Cons(3,Cons(4,Nil)))))\n"
     ]
    },
    {
     "data": {
      "text/plain": [
       "null"
      ]
     },
     "execution_count": 37,
     "metadata": {},
     "output_type": "execute_result"
    }
   ],
   "source": [
    "// id: try ex_3.16\n",
    "println(mapAdd1(List()))\n",
    "println(mapAdd1(List(1)))\n",
    "println(mapAdd1(List(-1, 0, 1, 2, 3)))"
   ]
  },
  {
   "cell_type": "code",
   "execution_count": 38,
   "metadata": {},
   "outputs": [
    {
     "data": {
      "text/plain": [
       "mapDoubleToStringHelper: (as_p: List[String], as: List[Double])List[String]\n",
       "mapDoubleToString: (as: List[Double])List[String]\n"
      ]
     },
     "execution_count": 38,
     "metadata": {},
     "output_type": "execute_result"
    }
   ],
   "source": [
    "// id : ex_3.17\n",
    "@tailrec\n",
    "final def mapDoubleToStringHelper(as_p : List[String], as : List[Double]) : List[String] = as match {\n",
    "    case Nil => as_p\n",
    "    case Cons(x, xs) => mapDoubleToStringHelper(append_Left(as_p, List(x.toString)), xs)\n",
    "} \n",
    "\n",
    "def mapDoubleToString(as : List[Double]) : List[String] = mapDoubleToStringHelper(List[String](), as)"
   ]
  },
  {
   "cell_type": "code",
   "execution_count": 39,
   "metadata": {},
   "outputs": [
    {
     "name": "stdout",
     "output_type": "stream",
     "text": [
      "Nil\n",
      "Cons(1.0,Nil)\n",
      "Cons(-1.0,Cons(0.0,Cons(1.0,Cons(2.0,Cons(3.0,Nil)))))\n"
     ]
    },
    {
     "data": {
      "text/plain": [
       "null"
      ]
     },
     "execution_count": 39,
     "metadata": {},
     "output_type": "execute_result"
    }
   ],
   "source": [
    "// id: try ex_3.17\n",
    "println(mapDoubleToString(List()))\n",
    "println(mapDoubleToString(List(1)))\n",
    "println(mapDoubleToString(List(-1, 0, 1, 2, 3)))"
   ]
  },
  {
   "cell_type": "code",
   "execution_count": 40,
   "metadata": {},
   "outputs": [
    {
     "data": {
      "text/plain": [
       "mapHelper: [A, B](as_p: List[B], as: List[A], f: A => B)List[B]\n",
       "map: [A, B](as: List[A], f: A => B)List[B]\n"
      ]
     },
     "execution_count": 40,
     "metadata": {},
     "output_type": "execute_result"
    }
   ],
   "source": [
    "// id : ex_3.18\n",
    "@tailrec\n",
    "final def mapHelper[A, B](as_p : List[B], as : List[A], f: A => B) : List[B] = as match {\n",
    "    case Nil => as_p\n",
    "    case Cons(x, xs) => mapHelper(append_Left(as_p, List(f(x))), xs, f)\n",
    "}\n",
    "\n",
    "def map[A, B](as : List[A], f : A => B) : List[B] = mapHelper(List[B](), as, f)"
   ]
  },
  {
   "cell_type": "code",
   "execution_count": 41,
   "metadata": {},
   "outputs": [
    {
     "name": "stdout",
     "output_type": "stream",
     "text": [
      "Nil\n",
      "Cons(2,Nil)\n",
      "Cons(0,Cons(1,Cons(2,Cons(3,Cons(4,Nil)))))\n"
     ]
    },
    {
     "data": {
      "text/plain": [
       "null"
      ]
     },
     "execution_count": 41,
     "metadata": {},
     "output_type": "execute_result"
    }
   ],
   "source": [
    "// id: try ex_3.18\n",
    "def add1 = (x : Int) => x + 1\n",
    "println(map(List(), add1))\n",
    "println(map(List(1), add1))\n",
    "println(map(List(-1, 0, 1, 2, 3), add1))"
   ]
  },
  {
   "cell_type": "code",
   "execution_count": 42,
   "metadata": {},
   "outputs": [
    {
     "data": {
      "text/plain": [
       "filterHelper: [A](asp: List[A], as: List[A])(f: A => Boolean)List[A]\n",
       "filter: [A](as: List[A])(f: A => Boolean)List[A]\n"
      ]
     },
     "execution_count": 42,
     "metadata": {},
     "output_type": "execute_result"
    }
   ],
   "source": [
    "// id : ex_3.19\n",
    "@tailrec\n",
    "final def filterHelper[A](asp : List[A], as : List[A])(f : A => Boolean) : List[A] = as match {\n",
    "    case Nil => reverse(asp)\n",
    "    case Cons(a, xs) => if (f(a)) { \n",
    "        filterHelper[A](Cons(a, asp), xs)(f)\n",
    "    } else { filterHelper[A](asp, xs)(f) }    \n",
    "}\n",
    "def filter[A](as : List[A])(f : A => Boolean) : List[A] = filterHelper[A](List[A](), as)(f)"
   ]
  },
  {
   "cell_type": "code",
   "execution_count": 43,
   "metadata": {},
   "outputs": [
    {
     "data": {
      "text/plain": [
       "Cons(2,Cons(4,Cons(6,Cons(8,Nil))))"
      ]
     },
     "execution_count": 43,
     "metadata": {},
     "output_type": "execute_result"
    }
   ],
   "source": [
    "// id : try ex_3.19\n",
    "filter(List(1,2,3,4,5,6,7,8))((e : Int) => e % 2 == 0)"
   ]
  },
  {
   "cell_type": "code",
   "execution_count": 44,
   "metadata": {},
   "outputs": [
    {
     "data": {
      "text/plain": [
       "flatMapHelper: [A, B](bs: List[B], as: List[A])(f: A => List[B])List[B]\n",
       "flatMap: [A, B](as: List[A])(f: A => List[B])List[B]\n"
      ]
     },
     "execution_count": 44,
     "metadata": {},
     "output_type": "execute_result"
    }
   ],
   "source": [
    "// id : ex_3.20\n",
    "\n",
    "@tailrec\n",
    "final def flatMapHelper[A, B](bs : List[B], as : List[A])(f : A => List[B]) : List[B] = as match {\n",
    "    case Nil => bs\n",
    "    case Cons(a, as) => flatMapHelper(append_Left(bs, f(a)), as)(f)\n",
    "}\n",
    "\n",
    "def flatMap[A, B](as : List[A])(f: A => List[B]) : List[B] = flatMapHelper(List[B](), as)(f)"
   ]
  },
  {
   "cell_type": "code",
   "execution_count": 45,
   "metadata": {},
   "outputs": [
    {
     "data": {
      "text/plain": [
       "Cons(1,Cons(1,Cons(2,Cons(2,Cons(3,Cons(3,Nil))))))"
      ]
     },
     "execution_count": 45,
     "metadata": {},
     "output_type": "execute_result"
    }
   ],
   "source": [
    "// id : try ex_3.20\n",
    "flatMap(List(1,2,3))(i => List(i, i))"
   ]
  },
  {
   "cell_type": "code",
   "execution_count": 46,
   "metadata": {},
   "outputs": [
    {
     "data": {
      "text/plain": [
       "filter_flatMap: [A](as: List[A])(f: A => Boolean)List[A]\n"
      ]
     },
     "execution_count": 46,
     "metadata": {},
     "output_type": "execute_result"
    }
   ],
   "source": [
    "// id : ex_3.21\n",
    "def filter_flatMap[A](as : List[A])(f : A => Boolean) : List[A] = flatMap(as)((a : A) => if (f(a)) {List(a)} else {List[A]()})"
   ]
  },
  {
   "cell_type": "code",
   "execution_count": 47,
   "metadata": {},
   "outputs": [
    {
     "data": {
      "text/plain": [
       "Cons(2,Cons(4,Nil))"
      ]
     },
     "execution_count": 47,
     "metadata": {},
     "output_type": "execute_result"
    }
   ],
   "source": [
    "// id : try ex_3.21\n",
    "filter_flatMap(List(1,2,3,4))((a : Int) => a % 2 == 0)"
   ]
  },
  {
   "cell_type": "code",
   "execution_count": 48,
   "metadata": {},
   "outputs": [
    {
     "data": {
      "text/plain": [
       "addTwoLists: (as: List[Int], bs: List[Int])List[Int]\n"
      ]
     },
     "execution_count": 48,
     "metadata": {},
     "output_type": "execute_result"
    }
   ],
   "source": [
    "// id : ex_3.22\n",
    "def addTwoLists(as : List[Int], bs : List[Int]) : List[Int] = as match {\n",
    "    case Nil => Nil\n",
    "    case Cons(a, asp) => bs match {\n",
    "        case Nil => Nil\n",
    "        case Cons(b, bsp) => Cons(a+b, addTwoLists(asp, bsp))\n",
    "    }\n",
    "}"
   ]
  },
  {
   "cell_type": "code",
   "execution_count": 49,
   "metadata": {},
   "outputs": [
    {
     "name": "stdout",
     "output_type": "stream",
     "text": [
      "Cons(2,Cons(4,Cons(6,Nil)))\n",
      "Nil\n",
      "Cons(4,Cons(6,Nil))\n"
     ]
    },
    {
     "data": {
      "text/plain": [
       "null"
      ]
     },
     "execution_count": 49,
     "metadata": {},
     "output_type": "execute_result"
    }
   ],
   "source": [
    "// id : try ex_3.22\n",
    "println(addTwoLists(List(1,2,3), List(1,2,3)))\n",
    "println(addTwoLists(List(), List(1,2,3)))\n",
    "println(addTwoLists(List(1,2), List(3,4,5)))"
   ]
  },
  {
   "cell_type": "code",
   "execution_count": 50,
   "metadata": {},
   "outputs": [
    {
     "data": {
      "text/plain": [
       "zipWith: [A, B, C](as: List[A], bs: List[B])(f: (A, B) => C)List[C]\n"
      ]
     },
     "execution_count": 50,
     "metadata": {},
     "output_type": "execute_result"
    }
   ],
   "source": [
    "// id : ex_3.23\n",
    "def zipWith[A, B, C](as : List[A], bs: List[B])(f : (A, B) => C) : List[C] = as match {\n",
    "    case Nil => Nil\n",
    "    case Cons(a, asp) => bs match {\n",
    "        case Nil => Nil\n",
    "        case Cons(b, bsp) => Cons(f(a, b), zipWith(asp, bsp)(f))\n",
    "    }\n",
    "}"
   ]
  },
  {
   "cell_type": "code",
   "execution_count": 51,
   "metadata": {},
   "outputs": [
    {
     "name": "stdout",
     "output_type": "stream",
     "text": [
      "Cons(2,Cons(4,Cons(6,Nil)))\n",
      "Nil\n",
      "Cons(4,Cons(6,Nil))\n"
     ]
    },
    {
     "data": {
      "text/plain": [
       "null"
      ]
     },
     "execution_count": 51,
     "metadata": {},
     "output_type": "execute_result"
    }
   ],
   "source": [
    "// id : try ex_3.23\n",
    "def addTwoLists_zipWith(as : List[Int], bs : List[Int]) = zipWith(as, bs)((a : Int, b : Int) => a + b)\n",
    "println(addTwoLists_zipWith(List(1,2,3), List(1,2,3)))\n",
    "println(addTwoLists_zipWith(List(), List(1,2,3)))\n",
    "println(addTwoLists_zipWith(List(1,2), List(3,4,5)))"
   ]
  },
  {
   "cell_type": "code",
   "execution_count": 52,
   "metadata": {},
   "outputs": [
    {
     "data": {
      "text/plain": [
       "testHasSubSequence: [A](sup: List[A], origSub: List[A], sub: List[A])Boolean\n",
       "hasSubSequence: [A](sup: List[A], sub: List[A])Boolean\n"
      ]
     },
     "execution_count": 52,
     "metadata": {},
     "output_type": "execute_result"
    }
   ],
   "source": [
    "// id : ex_3.24\n",
    "@tailrec\n",
    "final def testHasSubSequence[A](sup : List[A], origSub : List[A], sub : List[A]) : Boolean = sup match {\n",
    "    case Nil => sub == Nil\n",
    "    case Cons(a, as) => sub match {\n",
    "        case Nil => true\n",
    "        case Cons(b, bs) => if (a == b) {\n",
    "            testHasSubSequence(as, origSub, bs)\n",
    "        } else {\n",
    "            testHasSubSequence(as, origSub, origSub)\n",
    "        }\n",
    "    }\n",
    "}\n",
    "\n",
    "def hasSubSequence[A](sup: List[A], sub: List[A]) : Boolean = sub match {\n",
    "    case Nil => true\n",
    "    case _ => testHasSubSequence(sup, sub, sub)\n",
    "}"
   ]
  },
  {
   "cell_type": "code",
   "execution_count": 53,
   "metadata": {},
   "outputs": [
    {
     "name": "stdout",
     "output_type": "stream",
     "text": [
      "true\n",
      "false\n",
      "true\n",
      "true\n"
     ]
    },
    {
     "data": {
      "text/plain": [
       "null"
      ]
     },
     "execution_count": 53,
     "metadata": {},
     "output_type": "execute_result"
    }
   ],
   "source": [
    "// id : try ex_3.24\n",
    "println(hasSubSequence(List(1,2,3,1,1,4), List(1)))\n",
    "println(hasSubSequence(List(1,2,3,1,1,4), List(3,1,2)))\n",
    "println(hasSubSequence(List(1,2,3,1,1,4), List()))\n",
    "println(hasSubSequence(List(1,2,3,1,1,4), List(3,1,1)))"
   ]
  },
  {
   "cell_type": "code",
   "execution_count": 54,
   "metadata": {},
   "outputs": [
    {
     "data": {
      "text/plain": [
       "defined trait Tree\n",
       "defined class Leaf\n",
       "defined class Branch\n"
      ]
     },
     "execution_count": 54,
     "metadata": {},
     "output_type": "execute_result"
    }
   ],
   "source": [
    "// id : def trees\n",
    "sealed trait Tree[+A]\n",
    "case class Leaf[A](value: A) extends Tree[A]\n",
    "case class Branch[A](left: Tree[A], right: Tree[A]) extends Tree[A]"
   ]
  },
  {
   "cell_type": "code",
   "execution_count": 55,
   "metadata": {},
   "outputs": [
    {
     "data": {
      "text/plain": [
       "size: (t: Tree[_])Int\n"
      ]
     },
     "execution_count": 55,
     "metadata": {},
     "output_type": "execute_result"
    }
   ],
   "source": [
    "// id : ex_3.25\n",
    "def size(t : Tree[_]) : Int = t match {\n",
    "    case Leaf(_) => 1\n",
    "    case Branch(l, r) => size(l) + size(r) + 1\n",
    "}"
   ]
  },
  {
   "cell_type": "code",
   "execution_count": 56,
   "metadata": {},
   "outputs": [
    {
     "name": "stdout",
     "output_type": "stream",
     "text": [
      "5 : Branch(Branch(Leaf(1),Leaf(2)),Leaf(3))\n"
     ]
    },
    {
     "data": {
      "text/plain": [
       "null"
      ]
     },
     "execution_count": 56,
     "metadata": {},
     "output_type": "execute_result"
    }
   ],
   "source": [
    "// id : try ex_3.25\n",
    "val t = Branch(Branch(Leaf(1), Leaf(2)), Leaf(3))\n",
    "println(size(t) + \" : \" + t)"
   ]
  },
  {
   "cell_type": "code",
   "execution_count": 57,
   "metadata": {},
   "outputs": [
    {
     "data": {
      "text/plain": [
       "maximum: (t: Tree[Int])Int\n"
      ]
     },
     "execution_count": 57,
     "metadata": {},
     "output_type": "execute_result"
    }
   ],
   "source": [
    "// id : ex_3.26\n",
    "def maximum(t : Tree[Int]) : Int = t match {\n",
    "    case Leaf(a) => a\n",
    "    case Branch(l, r) => maximum(l) max maximum(r)\n",
    "}"
   ]
  },
  {
   "cell_type": "code",
   "execution_count": 58,
   "metadata": {},
   "outputs": [
    {
     "name": "stdout",
     "output_type": "stream",
     "text": [
      "max 3 : Branch(Branch(Leaf(1),Leaf(2)),Leaf(3))\n",
      "max 4 : Branch(Branch(Branch(Leaf(1),Leaf(2)),Leaf(3)),Leaf(4))\n"
     ]
    },
    {
     "data": {
      "text/plain": [
       "null"
      ]
     },
     "execution_count": 58,
     "metadata": {},
     "output_type": "execute_result"
    }
   ],
   "source": [
    "// id : try ex_3.26\n",
    "val t2 = Branch(Branch(Branch(Leaf(1), Leaf(2)), Leaf(3)), Leaf(4))\n",
    "println(\"max \" + maximum(t) + \" : \" + t)\n",
    "println(\"max \" + maximum(t2) + \" : \" + t2)\n"
   ]
  },
  {
   "cell_type": "code",
   "execution_count": 59,
   "metadata": {},
   "outputs": [
    {
     "data": {
      "text/plain": [
       "depthAccum: (accum: Int, t: Tree[_])Int\n",
       "depth: (t: Tree[_])Int\n"
      ]
     },
     "execution_count": 59,
     "metadata": {},
     "output_type": "execute_result"
    }
   ],
   "source": [
    "// id : ex_3.27\n",
    "def depthAccum(accum : Int, t: Tree[_]) : Int = t match {\n",
    "    case Leaf(_) => accum + 1\n",
    "    case Branch(l, r) => depthAccum(accum + 1, l) max depthAccum(accum + 1, r)\n",
    "}\n",
    "\n",
    "def depth(t : Tree[_]) : Int = depthAccum(0, t) - 1 "
   ]
  },
  {
   "cell_type": "code",
   "execution_count": 60,
   "metadata": {},
   "outputs": [
    {
     "name": "stdout",
     "output_type": "stream",
     "text": [
      "size 5 : Branch(Branch(Leaf(1),Leaf(2)),Leaf(3))\n",
      "depth 2 : Branch(Branch(Leaf(1),Leaf(2)),Leaf(3))\n",
      "size 7 : Branch(Branch(Branch(Leaf(1),Leaf(2)),Leaf(3)),Leaf(4))\n",
      "depth 3 : Branch(Branch(Branch(Leaf(1),Leaf(2)),Leaf(3)),Leaf(4))\n"
     ]
    },
    {
     "data": {
      "text/plain": [
       "null"
      ]
     },
     "execution_count": 60,
     "metadata": {},
     "output_type": "execute_result"
    }
   ],
   "source": [
    "// id : try ex_3.27\n",
    "println(\"size \" + size(t) + \" : \" + t)\n",
    "println(\"depth \" + depth(t) + \" : \" + t)    \n",
    "println(\"size \" + size(t2) + \" : \" + t2)\n",
    "println(\"depth \" + depth(t2) + \" : \" + t2)"
   ]
  },
  {
   "cell_type": "code",
   "execution_count": 61,
   "metadata": {},
   "outputs": [
    {
     "data": {
      "text/plain": [
       "map: [A, B](as: Tree[A], f: A => B)Tree[B]\n"
      ]
     },
     "execution_count": 61,
     "metadata": {},
     "output_type": "execute_result"
    }
   ],
   "source": [
    "// id : ex_3.28\n",
    "def map[A, B](as : Tree[A], f : A => B) : Tree[B] =  as match {\n",
    "    case Leaf(a) => Leaf[B](f(a))\n",
    "    case Branch(l, r) => Branch[B](map(l, f), map(r, f))\n",
    "}"
   ]
  },
  {
   "cell_type": "code",
   "execution_count": 62,
   "metadata": {},
   "outputs": [
    {
     "name": "stdout",
     "output_type": "stream",
     "text": [
      "Branch(Branch(Leaf(2),Leaf(3)),Leaf(4))\n",
      "Branch(Branch(Branch(Leaf(2),Leaf(3)),Leaf(4)),Leaf(5))\n"
     ]
    },
    {
     "data": {
      "text/plain": [
       "null"
      ]
     },
     "execution_count": 62,
     "metadata": {},
     "output_type": "execute_result"
    }
   ],
   "source": [
    "// id : try ex_3.28\n",
    "println(map(t, (e : Int) => e + 1))\n",
    "println(map(t2, (e : Int) => e + 1))"
   ]
  },
  {
   "cell_type": "code",
   "execution_count": 63,
   "metadata": {},
   "outputs": [
    {
     "data": {
      "text/plain": [
       "fold: [A, B](t: Tree[A])(f: A => B)(b: (B, B) => B)B\n"
      ]
     },
     "execution_count": 63,
     "metadata": {},
     "output_type": "execute_result"
    }
   ],
   "source": [
    "// id : ex_3.29\n",
    "\n",
    "/* Our past definitions.\n",
    "def map[A, B](as : Tree[A], f : A => B) : Tree[B] =  as match {\n",
    "    case Leaf(a) => Leaf[B](f(a))\n",
    "    case Branch(l, r) => Branch[B](map(l, f), map(r, f))\n",
    "}\n",
    "\n",
    "def maximum(t : Tree[Int]) : Int = t match {\n",
    "    case Leaf(a) => a\n",
    "    case Branch(l, r) => maximum(l) max maximum(r)\n",
    "}\n",
    "\n",
    "def size(t : Tree[_]) : Int = t match {\n",
    "    case Leaf(_) => 1\n",
    "    case Branch(l, r) => size(l) + size(r) + 1\n",
    "}\n",
    "\n",
    "def depthAccum(accum : Int, t: Tree[_]) : Int = t match {\n",
    "    case Leaf(_) => accum + 1\n",
    "    case Branch(l, r) => depthAccum(accum + 1, l) max depthAccum(accum + 1, r)\n",
    "}\n",
    "def depth(t : Tree[_]) : Int = depthAccum(0, t) - 1 \n",
    "*/\n",
    "\n",
    "// I needed the hint at \n",
    "// The signature is `def fold[A,B](t: Tree[A])(l: A => B)(b: (B,B) => B): B`.\n",
    "// located at https://github.com/fpinscala/fpinscala/blob/master/answerkey/datastructures/29.hint.txt\n",
    "\n",
    "// The closest I got to this signature was (before giving up B^) ) \n",
    "// fold[A, B, C](as: Tree[A], z: B)(f: (A, B) => B)(g: Tree[B] => C) : C\n",
    "\n",
    "def fold[A, B](t: Tree[A])(f : A => B)(b: (B, B) => B) : B = t match {\n",
    "    case Leaf(a) => f(a)\n",
    "    case Branch(l, r) => b(fold(l)(f)(b), fold(r)(f)(b))\n",
    "}"
   ]
  },
  {
   "cell_type": "code",
   "execution_count": 64,
   "metadata": {},
   "outputs": [
    {
     "data": {
      "text/plain": [
       "map_fold: [A, B](as: Tree[A])(f: A => B)Tree[B]\n"
      ]
     },
     "execution_count": 64,
     "metadata": {},
     "output_type": "execute_result"
    }
   ],
   "source": [
    "def map_fold[A, B](as: Tree[A])(f : A => B) : Tree[B] = {\n",
    "    def ff(a : A) : Tree[B] = Leaf[B](f(a))\n",
    "    def b(l : Tree[B], r : Tree[B]) : Tree[B]= Branch[B](l, r)\n",
    "    fold(as)(ff)(b)\n",
    "}"
   ]
  },
  {
   "cell_type": "code",
   "execution_count": 65,
   "metadata": {},
   "outputs": [
    {
     "name": "stdout",
     "output_type": "stream",
     "text": [
      "Leaf(2)\n",
      "Branch(Branch(Leaf(2),Leaf(3)),Leaf(4))\n",
      "Branch(Branch(Branch(Leaf(2),Leaf(3)),Leaf(4)),Leaf(5))\n"
     ]
    },
    {
     "data": {
      "text/plain": [
       "null"
      ]
     },
     "execution_count": 65,
     "metadata": {},
     "output_type": "execute_result"
    }
   ],
   "source": [
    "println(map_fold(Leaf(1))(_ + 1))\n",
    "println(map_fold(t)(_ + 1))\n",
    "println(map_fold(t2)(_ + 1))"
   ]
  },
  {
   "cell_type": "code",
   "execution_count": 66,
   "metadata": {},
   "outputs": [
    {
     "data": {
      "text/plain": [
       "maximum_fold: (t: Tree[Int])Int\n"
      ]
     },
     "execution_count": 66,
     "metadata": {},
     "output_type": "execute_result"
    }
   ],
   "source": [
    "def maximum_fold(t : Tree[Int]) : Int = {\n",
    "    def ff(a : Int) : Int = a\n",
    "    def b(l : Int, r : Int) = l max r\n",
    "    fold(t)(ff)(b)\n",
    "}"
   ]
  },
  {
   "cell_type": "code",
   "execution_count": 67,
   "metadata": {},
   "outputs": [
    {
     "name": "stdout",
     "output_type": "stream",
     "text": [
      "max 3 : Branch(Branch(Leaf(1),Leaf(2)),Leaf(3))\n",
      "max 4 : Branch(Branch(Branch(Leaf(1),Leaf(2)),Leaf(3)),Leaf(4))\n"
     ]
    },
    {
     "data": {
      "text/plain": [
       "null"
      ]
     },
     "execution_count": 67,
     "metadata": {},
     "output_type": "execute_result"
    }
   ],
   "source": [
    "println(\"max \" + maximum_fold(t) + \" : \" + t)\n",
    "println(\"max \" + maximum_fold(t2) + \" : \" + t2)"
   ]
  },
  {
   "cell_type": "code",
   "execution_count": 68,
   "metadata": {},
   "outputs": [
    {
     "data": {
      "text/plain": [
       "size_fold: [A](t: Tree[A])Int\n"
      ]
     },
     "execution_count": 68,
     "metadata": {},
     "output_type": "execute_result"
    }
   ],
   "source": [
    "def size_fold[A](t : Tree[A]) : Int = {\n",
    "    def ff(a : A) : Int = 1\n",
    "    def b(l : Int, r : Int) : Int = l + r + 1\n",
    "    fold(t)(ff)(b)\n",
    "}\n"
   ]
  },
  {
   "cell_type": "code",
   "execution_count": 69,
   "metadata": {},
   "outputs": [
    {
     "data": {
      "text/plain": [
       "depth_fold: [A](t: Tree[A])Int\n"
      ]
     },
     "execution_count": 69,
     "metadata": {},
     "output_type": "execute_result"
    }
   ],
   "source": [
    "def depth_fold[A](t : Tree[A]) : Int = {\n",
    "    def ff(a : A) : Int = 0\n",
    "    def b(l : Int, r : Int) : Int = ((l max r) + 1)\n",
    "    fold(t)(ff)(b)\n",
    "}"
   ]
  },
  {
   "cell_type": "code",
   "execution_count": 70,
   "metadata": {},
   "outputs": [
    {
     "name": "stdout",
     "output_type": "stream",
     "text": [
      "size 5 : Branch(Branch(Leaf(1),Leaf(2)),Leaf(3))\n",
      "depth 2 : Branch(Branch(Leaf(1),Leaf(2)),Leaf(3))\n",
      "size 7 : Branch(Branch(Branch(Leaf(1),Leaf(2)),Leaf(3)),Leaf(4))\n",
      "depth 3 : Branch(Branch(Branch(Leaf(1),Leaf(2)),Leaf(3)),Leaf(4))\n"
     ]
    },
    {
     "data": {
      "text/plain": [
       "null"
      ]
     },
     "execution_count": 70,
     "metadata": {},
     "output_type": "execute_result"
    }
   ],
   "source": [
    "println(\"size \" + size_fold(t) + \" : \" + t)\n",
    "println(\"depth \" + depth_fold(t) + \" : \" + t)    \n",
    "println(\"size \" + size_fold(t2) + \" : \" + t2)\n",
    "println(\"depth \" + depth_fold(t2) + \" : \" + t2)"
   ]
  },
  {
   "cell_type": "code",
   "execution_count": null,
   "metadata": {},
   "outputs": [],
   "source": []
  }
 ],
 "metadata": {
  "kernelspec": {
   "display_name": "Scala",
   "language": "scala",
   "name": "scala"
  },
  "language_info": {
   "codemirror_mode": "text/x-scala",
   "file_extension": ".scala",
   "mimetype": "",
   "name": "Scala",
   "nbconverter_exporter": "",
   "version": "2.11.12"
  }
 },
 "nbformat": 4,
 "nbformat_minor": 2
}
