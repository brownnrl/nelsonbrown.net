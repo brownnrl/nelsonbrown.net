{
 "cells": [
  {
   "cell_type": "code",
   "execution_count": 1,
   "metadata": {},
   "outputs": [
    {
     "data": {
      "text/plain": [
       "import scala.annotation.tailrec\n"
      ]
     },
     "execution_count": 1,
     "metadata": {},
     "output_type": "execute_result"
    }
   ],
   "source": [
    "import scala.annotation.tailrec"
   ]
  },
  {
   "cell_type": "code",
   "execution_count": 2,
   "metadata": {},
   "outputs": [
    {
     "data": {
      "text/plain": [
       "defined trait List\n",
       "defined object Nil\n",
       "defined class Cons\n"
      ]
     },
     "execution_count": 2,
     "metadata": {},
     "output_type": "execute_result"
    }
   ],
   "source": [
    "sealed trait List[+A]\n",
    "case object Nil extends List[Nothing]\n",
    "case class Cons[+A](head: A, tail : List[A]) extends List[A]"
   ]
  },
  {
   "cell_type": "code",
   "execution_count": 3,
   "metadata": {},
   "outputs": [
    {
     "data": {
      "text/plain": [
       "$line17.$read$$iw$$iw$$iw$$iw$$iw$$iw$$iw$$iw$$iw$$iw$$iw$$iw$$iw$$iw$$iw$$iw$$iw$$iw$$iw$$iw$List$@4c6237"
      ]
     },
     "execution_count": 3,
     "metadata": {},
     "output_type": "execute_result"
    }
   ],
   "source": [
    "object List {\n",
    "    \n",
    "    def sum(ints : List[Int]) : Int = ints match {\n",
    "        case Nil => 0\n",
    "        case Cons(x, xs) => x + sum(xs)\n",
    "    }\n",
    "    \n",
    "    def product(ds: List[Double]) : Double = ds match {\n",
    "        case Nil => 1.0\n",
    "        case Cons(0.0, _) => 0.0\n",
    "        case Cons(x, xs) => x * product(xs)\n",
    "    }\n",
    "    \n",
    "    def apply[A](as: A*) : List[A] = {\n",
    "        if (as.isEmpty) Nil\n",
    "        else Cons(as.head, apply(as.tail : _*))\n",
    "    }\n",
    "}"
   ]
  },
  {
   "cell_type": "code",
   "execution_count": 4,
   "metadata": {},
   "outputs": [
    {
     "data": {
      "text/plain": [
       "3"
      ]
     },
     "execution_count": 4,
     "metadata": {},
     "output_type": "execute_result"
    }
   ],
   "source": [
    "// id : ex_3.1\n",
    "// It should be the third case (x+y), let's find out\n",
    "val x = List(1,2,3,4,5) match {\n",
    "    case Cons(x, Cons(2, Cons(4, _))) => x\n",
    "    case Nil => 42\n",
    "    case Cons(x, Cons(y, Cons(3, Cons(4, _)))) => x + y\n",
    "    case Cons(h, t) => h + List.sum(t)\n",
    "    case _ => 101\n",
    "}"
   ]
  },
  {
   "cell_type": "code",
   "execution_count": 5,
   "metadata": {},
   "outputs": [
    {
     "data": {
      "text/plain": [
       "15"
      ]
     },
     "execution_count": 5,
     "metadata": {},
     "output_type": "execute_result"
    }
   ],
   "source": [
    "// id : try ex_3.1\n",
    "val y = List(1,2,3,4,5) match {\n",
    "    case Cons(h, t) => h + List.sum(t)\n",
    "    case _ => 101\n",
    "}"
   ]
  },
  {
   "cell_type": "code",
   "execution_count": 6,
   "metadata": {},
   "outputs": [
    {
     "data": {
      "text/plain": [
       "tail: [A](as: List[A])List[A]\n"
      ]
     },
     "execution_count": 6,
     "metadata": {},
     "output_type": "execute_result"
    }
   ],
   "source": [
    "// id : ex_3.2\n",
    "def tail[A](as : List[A]) : List[A] = {\n",
    "    as match {\n",
    "        case Nil => Nil\n",
    "        case Cons(x, y) => y\n",
    "    }\n",
    "}"
   ]
  },
  {
   "cell_type": "code",
   "execution_count": 7,
   "metadata": {},
   "outputs": [
    {
     "name": "stdout",
     "output_type": "stream",
     "text": [
      "Cons(2,Cons(3,Cons(4,Nil)))\n",
      "Nil\n",
      "Nil\n"
     ]
    },
    {
     "data": {
      "text/plain": [
       "null"
      ]
     },
     "execution_count": 7,
     "metadata": {},
     "output_type": "execute_result"
    }
   ],
   "source": [
    "// id : try ex_3.2\n",
    "println(tail(List(1,2,3,4)))\n",
    "println(tail(List(1)))\n",
    "println(tail(Nil))"
   ]
  },
  {
   "cell_type": "code",
   "execution_count": 8,
   "metadata": {},
   "outputs": [
    {
     "data": {
      "text/plain": [
       "setHead: [A](as: List[A], h: A)List[A]\n"
      ]
     },
     "execution_count": 8,
     "metadata": {},
     "output_type": "execute_result"
    }
   ],
   "source": [
    "// id : ex_3.3\n",
    "def setHead[A](as : List[A], h : A) : List[A] = as match {\n",
    "    case Cons(a, x) => Cons(h, x)\n",
    "    case Nil => Cons(h, Nil)\n",
    "}"
   ]
  },
  {
   "cell_type": "code",
   "execution_count": 9,
   "metadata": {},
   "outputs": [
    {
     "name": "stdout",
     "output_type": "stream",
     "text": [
      "Cons(3,Nil)\n",
      "Cons(3,Nil)\n",
      "Cons(3,Cons(2,Cons(3,Nil)))\n"
     ]
    },
    {
     "data": {
      "text/plain": [
       "null"
      ]
     },
     "execution_count": 9,
     "metadata": {},
     "output_type": "execute_result"
    }
   ],
   "source": [
    "// id : try ex_3.3\n",
    "println(setHead(List(), 3))\n",
    "println(setHead(List(1), 3))\n",
    "println(setHead(List(1,2,3), 3))"
   ]
  },
  {
   "cell_type": "code",
   "execution_count": 10,
   "metadata": {},
   "outputs": [
    {
     "data": {
      "text/plain": [
       "drop: [A](as: List[A], n: Int)List[A]\n"
      ]
     },
     "execution_count": 10,
     "metadata": {},
     "output_type": "execute_result"
    }
   ],
   "source": [
    "// id : ex_3.4\n",
    "@tailrec\n",
    "final def drop[A](as : List[A], n : Int) : List[A] = if (n > 0) {\n",
    "    as match {\n",
    "        case Cons(_, a) => drop(a, n-1)\n",
    "        case Nil => Nil\n",
    "    }\n",
    "} else { as }"
   ]
  },
  {
   "cell_type": "code",
   "execution_count": 11,
   "metadata": {},
   "outputs": [
    {
     "name": "stdout",
     "output_type": "stream",
     "text": [
      "Cons(3,Cons(4,Nil))\n",
      "Cons(1,Cons(2,Cons(3,Cons(4,Nil))))\n",
      "Cons(1,Cons(2,Cons(3,Cons(4,Nil))))\n",
      "Nil\n"
     ]
    },
    {
     "data": {
      "text/plain": [
       "null"
      ]
     },
     "execution_count": 11,
     "metadata": {},
     "output_type": "execute_result"
    }
   ],
   "source": [
    "// id : try ex_3.4\n",
    "println(drop(List(1,2,3,4),   2))\n",
    "println(drop(List(1,2,3,4),   0))\n",
    "println(drop(List(1,2,3,4), -10))\n",
    "println(drop(List(1,2,3,4),  10))"
   ]
  },
  {
   "cell_type": "code",
   "execution_count": 12,
   "metadata": {},
   "outputs": [
    {
     "data": {
      "text/plain": [
       "dropWhile: [A](as: List[A], p: A => Boolean)List[A]\n"
      ]
     },
     "execution_count": 12,
     "metadata": {},
     "output_type": "execute_result"
    }
   ],
   "source": [
    "// id : ex_3.5\n",
    "@tailrec\n",
    "final def dropWhile[A](as : List[A], p : A => Boolean) : List [A] = as match {\n",
    "    case Nil => Nil\n",
    "    case Cons(a, b) => if (p(a)) { dropWhile(b, p) } else { Cons(a, b) }\n",
    "}"
   ]
  },
  {
   "cell_type": "code",
   "execution_count": 13,
   "metadata": {},
   "outputs": [
    {
     "name": "stdout",
     "output_type": "stream",
     "text": [
      "Cons(1,Cons(2,Cons(3,Nil)))\n",
      "Cons(-3,Cons(-2,Cons(-1,Cons(0,Cons(1,Cons(2,Cons(3,Nil)))))))\n",
      "Nil\n"
     ]
    },
    {
     "data": {
      "text/plain": [
       "null"
      ]
     },
     "execution_count": 13,
     "metadata": {},
     "output_type": "execute_result"
    }
   ],
   "source": [
    "// id : try ex_3.5\n",
    "println(dropWhile(List(-3, -2, -1, 0, 1, 2, 3), (a : Int) => { a <= 0 }))\n",
    "println(dropWhile(List(-3, -2, -1, 0, 1, 2, 3), (a : Int) => { false }))\n",
    "println(dropWhile(List(-3, -2, -1, 0, 1, 2, 3), (a : Int) => { true }))"
   ]
  },
  {
   "cell_type": "code",
   "execution_count": 14,
   "metadata": {},
   "outputs": [
    {
     "data": {
      "text/plain": [
       "append: [A](a1: List[A], a2: List[A])List[A]\n"
      ]
     },
     "execution_count": 14,
     "metadata": {},
     "output_type": "execute_result"
    }
   ],
   "source": [
    "def append[A](a1 : List[A], a2 : List[A]) : List[A] = a1 match {\n",
    "    case Nil => a2\n",
    "    case Cons(h, t) => Cons(h, append(t, a2))\n",
    "}"
   ]
  },
  {
   "cell_type": "code",
   "execution_count": 15,
   "metadata": {},
   "outputs": [
    {
     "data": {
      "text/plain": [
       "head: [A](as: List[A])A\n"
      ]
     },
     "execution_count": 15,
     "metadata": {},
     "output_type": "execute_result"
    }
   ],
   "source": [
    "def head[A](as : List[A]) = as match {\n",
    "    case Cons(a, _) => a\n",
    "    case Nil => throw new Exception(\"Not gud.\")\n",
    "}"
   ]
  },
  {
   "cell_type": "code",
   "execution_count": 16,
   "metadata": {},
   "outputs": [
    {
     "name": "stdout",
     "output_type": "stream",
     "text": [
      "1\n"
     ]
    },
    {
     "data": {
      "text/plain": [
       "null"
      ]
     },
     "execution_count": 16,
     "metadata": {},
     "output_type": "execute_result"
    }
   ],
   "source": [
    "println(head(List(1,2,3)))"
   ]
  },
  {
   "cell_type": "code",
   "execution_count": 17,
   "metadata": {},
   "outputs": [
    {
     "data": {
      "text/plain": [
       "init: [A](as: List[A])List[A]\n"
      ]
     },
     "execution_count": 17,
     "metadata": {},
     "output_type": "execute_result"
    }
   ],
   "source": [
    "// id : ex_3.6\n",
    "def init[A](as : List[A]) : List[A] = {\n",
    "    def endOfList(as: List[A]) : Boolean = as match {\n",
    "        case Nil => true\n",
    "        case Cons(a, Nil) => true\n",
    "        case Cons(a, _) => false\n",
    "    }\n",
    "    \n",
    "    @tailrec\n",
    "    def initHelper(prefix : List[A], as : List[A]) : List[A] = {\n",
    "        if (endOfList(as)) {\n",
    "            prefix match {\n",
    "                case Nil => Nil\n",
    "                case _ => prefix\n",
    "            }\n",
    "        } else {\n",
    "            initHelper(append(prefix, Cons(head(as), Nil)), tail(as))\n",
    "        }\n",
    "    }\n",
    "    \n",
    "    initHelper(Nil, as)\n",
    "}"
   ]
  },
  {
   "cell_type": "code",
   "execution_count": 18,
   "metadata": {},
   "outputs": [
    {
     "name": "stdout",
     "output_type": "stream",
     "text": [
      "Cons(1,Cons(2,Cons(3,Nil)))\n",
      "Nil\n",
      "Nil\n",
      "Cons(1,Nil)\n"
     ]
    },
    {
     "data": {
      "text/plain": [
       "null"
      ]
     },
     "execution_count": 18,
     "metadata": {},
     "output_type": "execute_result"
    }
   ],
   "source": [
    "// id : try ex_3.6\n",
    "println(init(List(1,2,3,4)))\n",
    "println(init(Nil))\n",
    "println(init(List(1)))\n",
    "println(init(List(1, 2)))"
   ]
  },
  {
   "cell_type": "code",
   "execution_count": 19,
   "metadata": {},
   "outputs": [
    {
     "data": {
      "text/plain": [
       "foldRight: [A, B](as: List[A], z: B)(f: (A, B) => B)B\n"
      ]
     },
     "execution_count": 19,
     "metadata": {},
     "output_type": "execute_result"
    }
   ],
   "source": [
    "def foldRight[A, B](as: List[A], z: B)(f: (A, B) => B) : B = as match {\n",
    "    case Nil => z\n",
    "    case Cons(x, xs) => f(x, foldRight(xs, z)(f))\n",
    "}"
   ]
  },
  {
   "cell_type": "code",
   "execution_count": 20,
   "metadata": {},
   "outputs": [
    {
     "name": "stdout",
     "output_type": "stream",
     "text": [
      "10\n",
      "24\n"
     ]
    },
    {
     "data": {
      "text/plain": [
       "null"
      ]
     },
     "execution_count": 20,
     "metadata": {},
     "output_type": "execute_result"
    }
   ],
   "source": [
    "println(foldRight(List(1, 2, 3, 4), 0)(_ + _))\n",
    "println(foldRight(List(1, 2, 3, 4), 1)(_ * _))"
   ]
  },
  {
   "cell_type": "code",
   "execution_count": 21,
   "metadata": {},
   "outputs": [
    {
     "data": {
      "text/plain": [
       "Cons(1,Cons(2,Cons(3,Nil)))"
      ]
     },
     "execution_count": 21,
     "metadata": {},
     "output_type": "execute_result"
    }
   ],
   "source": [
    "// id: ex_3.8\n",
    "foldRight(List(1,2,3), Nil : List[Int])(Cons(_, _))"
   ]
  },
  {
   "cell_type": "code",
   "execution_count": 22,
   "metadata": {},
   "outputs": [
    {
     "data": {
      "text/plain": [
       "length: [A](as: List[A])Int\n"
      ]
     },
     "execution_count": 22,
     "metadata": {},
     "output_type": "execute_result"
    }
   ],
   "source": [
    "// id: ex_3.9\n",
    "def length[A](as: List[A]): Int = foldRight(as, 0)((_, b) => b + 1)"
   ]
  },
  {
   "cell_type": "code",
   "execution_count": 23,
   "metadata": {},
   "outputs": [
    {
     "name": "stdout",
     "output_type": "stream",
     "text": [
      "4\n",
      "0\n",
      "0\n",
      "1\n"
     ]
    },
    {
     "data": {
      "text/plain": [
       "null"
      ]
     },
     "execution_count": 23,
     "metadata": {},
     "output_type": "execute_result"
    }
   ],
   "source": [
    "// id : try ex_3.9\n",
    "println(length(List(1,2,3,4)))\n",
    "println(length(Nil))\n",
    "println(length(List()))\n",
    "println(length(List(999)))"
   ]
  },
  {
   "cell_type": "code",
   "execution_count": 24,
   "metadata": {},
   "outputs": [
    {
     "data": {
      "text/plain": [
       "foldLeft: [A, B](as: List[A], z: B)(f: (B, A) => B)B\n"
      ]
     },
     "execution_count": 24,
     "metadata": {},
     "output_type": "execute_result"
    }
   ],
   "source": [
    "// id : ex_3.10\n",
    "@tailrec\n",
    "final def foldLeft[A, B](as: List[A], z: B)(f: (B, A) => B) : B = as match {\n",
    "    case Nil => z\n",
    "    case Cons(x, xs) => foldLeft(xs, f(z, x))(f) // f(x, foldRight(xs, z)(f))\n",
    "}"
   ]
  },
  {
   "cell_type": "code",
   "execution_count": 25,
   "metadata": {},
   "outputs": [
    {
     "name": "stdout",
     "output_type": "stream",
     "text": [
      "20\n",
      "1\n",
      "0\n"
     ]
    },
    {
     "data": {
      "text/plain": [
       "null"
      ]
     },
     "execution_count": 25,
     "metadata": {},
     "output_type": "execute_result"
    }
   ],
   "source": [
    "// id: try ex_3.10\n",
    "println(foldLeft(List(1,2,3,4,10), 0)(_ + _))\n",
    "println(foldLeft(List(1), 0)(_ + _))\n",
    "println(foldLeft(List() : List[Int], 0)(_ + _))"
   ]
  },
  {
   "cell_type": "code",
   "execution_count": null,
   "metadata": {},
   "outputs": [],
   "source": []
  }
 ],
 "metadata": {
  "kernelspec": {
   "display_name": "Scala",
   "language": "scala",
   "name": "scala"
  },
  "language_info": {
   "codemirror_mode": "text/x-scala",
   "file_extension": ".scala",
   "mimetype": "",
   "name": "Scala",
   "nbconverter_exporter": "",
   "version": "2.11.12"
  }
 },
 "nbformat": 4,
 "nbformat_minor": 2
}
