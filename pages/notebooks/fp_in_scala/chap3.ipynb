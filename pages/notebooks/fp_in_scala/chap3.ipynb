{
 "cells": [
  {
   "cell_type": "code",
   "execution_count": 1,
   "metadata": {},
   "outputs": [
    {
     "data": {
      "text/plain": [
       "defined trait List\n",
       "defined object Nil\n",
       "defined class Cons\n"
      ]
     },
     "execution_count": 1,
     "metadata": {},
     "output_type": "execute_result"
    }
   ],
   "source": [
    "sealed trait List[+A]\n",
    "case object Nil extends List[Nothing]\n",
    "case class Cons[+A](head: A, tail : List[A]) extends List[A]"
   ]
  },
  {
   "cell_type": "code",
   "execution_count": 2,
   "metadata": {},
   "outputs": [
    {
     "data": {
      "text/plain": [
       "$line16.$read$$iw$$iw$$iw$$iw$$iw$$iw$$iw$$iw$$iw$$iw$$iw$$iw$$iw$$iw$$iw$$iw$$iw$$iw$$iw$$iw$List$@6d1a13aa"
      ]
     },
     "execution_count": 2,
     "metadata": {},
     "output_type": "execute_result"
    }
   ],
   "source": [
    "object List {\n",
    "    def sum(ints : List[Int]) : Int = ints match {\n",
    "        case Nil => 0\n",
    "        case Cons(x, xs) => x + sum(xs)\n",
    "    }\n",
    "    \n",
    "    def product(ds: List[Double]) : Double = ds match {\n",
    "        case Nil => 1.0\n",
    "        case Cons(0.0, _) => 0.0\n",
    "        case Cons(x, xs) => x * product(xs)\n",
    "    }\n",
    "    \n",
    "    def apply[A](as: A*) : List[A] = {\n",
    "        if (as.isEmpty) Nil\n",
    "        else Cons(as.head, apply(as.tail : _*))\n",
    "    }\n",
    "}"
   ]
  },
  {
   "cell_type": "code",
   "execution_count": 4,
   "metadata": {},
   "outputs": [
    {
     "data": {
      "text/plain": [
       "3"
      ]
     },
     "execution_count": 4,
     "metadata": {},
     "output_type": "execute_result"
    }
   ],
   "source": [
    "// id : ex_3.1 1\n",
    "// It should be the third case (x+y), let's find out\n",
    "val x = List(1,2,3,4,5) match {\n",
    "    case Cons(x, Cons(2, Cons(4, _))) => x\n",
    "    case Nil => 42\n",
    "    case Cons(x, Cons(y, Cons(3, Cons(4, _)))) => x + y\n",
    "    case Cons(h, t) => h + List.sum(t)\n",
    "    case _ => 101\n",
    "}"
   ]
  },
  {
   "cell_type": "code",
   "execution_count": 5,
   "metadata": {},
   "outputs": [
    {
     "data": {
      "text/plain": [
       "15"
      ]
     },
     "execution_count": 5,
     "metadata": {},
     "output_type": "execute_result"
    }
   ],
   "source": [
    "// id : try ex_3.1 2\n",
    "val y = List(1,2,3,4,5) match {\n",
    "    case Cons(h, t) => h + List.sum(t)\n",
    "    case _ => 101\n",
    "}"
   ]
  },
  {
   "cell_type": "code",
   "execution_count": 6,
   "metadata": {},
   "outputs": [
    {
     "data": {
      "text/plain": [
       "tail: [A](as: List[A])List[A]\n"
      ]
     },
     "execution_count": 6,
     "metadata": {},
     "output_type": "execute_result"
    }
   ],
   "source": [
    "// id : ex_3.2\n",
    "def tail[A](as : List[A]) : List[A] = {\n",
    "    as match {\n",
    "        case Nil => Nil\n",
    "        case Cons(x, y) => y\n",
    "    }\n",
    "}"
   ]
  },
  {
   "cell_type": "code",
   "execution_count": 12,
   "metadata": {},
   "outputs": [
    {
     "name": "stdout",
     "output_type": "stream",
     "text": [
      "Cons(2,Cons(3,Cons(4,Nil)))\n",
      "Nil\n",
      "Nil\n"
     ]
    },
    {
     "data": {
      "text/plain": [
       "null"
      ]
     },
     "execution_count": 12,
     "metadata": {},
     "output_type": "execute_result"
    }
   ],
   "source": [
    "// id : try ex_3.2\n",
    "println(tail(List(1,2,3,4)))\n",
    "println(tail(List(1)))\n",
    "println(tail(Nil))"
   ]
  },
  {
   "cell_type": "code",
   "execution_count": 14,
   "metadata": {},
   "outputs": [
    {
     "data": {
      "text/plain": [
       "setHead: [A](as: List[A], h: A)List[A]\n"
      ]
     },
     "execution_count": 14,
     "metadata": {},
     "output_type": "execute_result"
    }
   ],
   "source": [
    "// id : ex_3.3\n",
    "def setHead[A](as : List[A], h : A) : List[A] = as match {\n",
    "    case Cons(a, x) => Cons(h, x)\n",
    "    case Nil => Cons(h, Nil)\n",
    "}"
   ]
  },
  {
   "cell_type": "code",
   "execution_count": 19,
   "metadata": {},
   "outputs": [
    {
     "name": "stdout",
     "output_type": "stream",
     "text": [
      "Cons(3,Nil)\n",
      "Cons(3,Nil)\n",
      "Cons(3,Cons(2,Cons(3,Nil)))\n"
     ]
    },
    {
     "data": {
      "text/plain": [
       "null"
      ]
     },
     "execution_count": 19,
     "metadata": {},
     "output_type": "execute_result"
    }
   ],
   "source": [
    "// id : try ex_3.3\n",
    "println(setHead(List(), 3))\n",
    "println(setHead(List(1), 3))\n",
    "println(setHead(List(1,2,3), 3))"
   ]
  },
  {
   "cell_type": "code",
   "execution_count": null,
   "metadata": {},
   "outputs": [],
   "source": []
  }
 ],
 "metadata": {
  "kernelspec": {
   "display_name": "Scala",
   "language": "scala",
   "name": "scala"
  },
  "language_info": {
   "codemirror_mode": "text/x-scala",
   "file_extension": ".scala",
   "mimetype": "",
   "name": "Scala",
   "nbconverter_exporter": "",
   "version": "2.11.12"
  }
 },
 "nbformat": 4,
 "nbformat_minor": 2
}
