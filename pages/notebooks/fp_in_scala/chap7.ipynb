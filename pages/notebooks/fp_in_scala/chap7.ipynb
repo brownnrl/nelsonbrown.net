{
 "cells": [
  {
   "cell_type": "code",
   "execution_count": 1,
   "metadata": {},
   "outputs": [
    {
     "data": {
      "text/plain": [
       "scala.language$@7f6add"
      ]
     },
     "execution_count": 1,
     "metadata": {},
     "output_type": "execute_result"
    }
   ],
   "source": [
    "import java.util.concurrent._\n",
    "import language.implicitConversions"
   ]
  },
  {
   "cell_type": "code",
   "execution_count": 2,
   "metadata": {},
   "outputs": [
    {
     "data": {
      "text/plain": [
       "$line19.$read$$iw$$iw$Par$@52232f30"
      ]
     },
     "execution_count": 2,
     "metadata": {},
     "output_type": "execute_result"
    }
   ],
   "source": [
    "// id : ex_7.1\n",
    "\n",
    "class Par[A](ap : () => A) {\n",
    "    \n",
    "    val a : () => A = ap\n",
    "        \n",
    "    def get : A = a()\n",
    "    \n",
    "}\n",
    "\n",
    "object Par {\n",
    "    \n",
    "    def unit[A](a : => A) : Par[A] = new Par(() => a)\n",
    "\n",
    "    def map2[A,B,C](pa : Par[A], pb: Par[B])(f: (A, B) => C): Par[C] = {\n",
    "        unit(f(pa.get,pb.get))\n",
    "    }\n",
    "    \n",
    "}\n"
   ]
  },
  {
   "cell_type": "code",
   "execution_count": 3,
   "metadata": {},
   "outputs": [
    {
     "data": {
      "text/plain": [
       "sum: (ints: IndexedSeq[Int])Par[Int]\n"
      ]
     },
     "execution_count": 3,
     "metadata": {},
     "output_type": "execute_result"
    }
   ],
   "source": [
    "def sum(ints: IndexedSeq[Int]): Par[Int] = \n",
    "    if (ints.size <= 1) Par.unit(ints.headOption getOrElse 0) \n",
    "    else {\n",
    "        val (l,r) = ints.splitAt(ints.length/2)\n",
    "        Par.map2(sum(l), sum(r))(_ + _)\n",
    "    }"
   ]
  },
  {
   "cell_type": "code",
   "execution_count": 4,
   "metadata": {},
   "outputs": [
    {
     "data": {
      "text/plain": [
       "15"
      ]
     },
     "execution_count": 4,
     "metadata": {},
     "output_type": "execute_result"
    }
   ],
   "source": [
    "sum(IndexedSeq(1,2,3,4,5)).get"
   ]
  },
  {
   "cell_type": "code",
   "execution_count": 5,
   "metadata": {},
   "outputs": [
    {
     "data": {
      "text/plain": [
       "$line22.$read$$iw$$iw$$iw$$iw$$iw$$iw$$iw$$iw$$iw$$iw$$iw$$iw$$iw$$iw$$iw$$iw$$iw$$iw$$iw$$iw$$iw$$iw$Par$@48cd3e36"
      ]
     },
     "execution_count": 5,
     "metadata": {},
     "output_type": "execute_result"
    }
   ],
   "source": [
    "// id : ex_7.2\n",
    "\n",
    "// Shamelessly (or shamefully) taking the relevant portions from FP in Scala answers\n",
    "type Par[A] = ExecutorService => Future[A]\n",
    "\n",
    "object Par {\n",
    "\n",
    "  def run[A](s: ExecutorService)(a: Par[A]): Future[A] = a(s)\n",
    "\n",
    "  /*\n",
    "  `unit` is represented as a function that returns a `UnitFuture`, which is a \n",
    "  simple implementation of `Future` that just wraps a constant value. It doesn't \n",
    "  use the `ExecutorService` at all. It's always done and can't be cancelled. Its \n",
    "  `get` method simply returns the value that we gave it.\n",
    "  */\n",
    "  def unit[A](a: A): Par[A] = (es: ExecutorService) => UnitFuture(a) \n",
    "\n",
    "  private case class UnitFuture[A](get: A) extends Future[A] {\n",
    "    def isDone = true\n",
    "    def get(timeout: Long, units: TimeUnit) = get\n",
    "    def isCancelled = false\n",
    "    def cancel(evenIfRunning: Boolean): Boolean = false\n",
    "  }\n",
    "\n",
    "  /*\n",
    "  `map2` doesn't evaluate the call to `f` in a separate logical thread, in accord \n",
    "  with our design choice of having `fork` be the sole function in the API for \n",
    "  controlling parallelism. We can always do `fork(map2(a,b)(f))` if we want the \n",
    "  evaluation of `f` to occur in a separate thread.\n",
    "  */\n",
    "  def map2[A,B,C](a: Par[A], b: Par[B])(f: (A,B) => C): Par[C] = \n",
    "    (es: ExecutorService) => {\n",
    "      val af = a(es)\n",
    "      val bf = b(es)\n",
    "      /* \n",
    "      This implementation of `map2` does _not_ respect timeouts. It simply passes \n",
    "      the `ExecutorService` on to both `Par` values, waits for the results of the \n",
    "      Futures `af` and `bf`, applies `f` to them, and wraps them in a `UnitFuture`. \n",
    "      In order to respect timeouts, we'd need a new `Future` implementation that \n",
    "      records the amount of time spent evaluating `af`, then subtracts that time \n",
    "      from the available time allocated for evaluating `bf`.\n",
    "      */\n",
    "      UnitFuture(f(af.get, bf.get)) \n",
    "    }\n",
    "\n",
    "  /*\n",
    "  This is the simplest and most natural implementation of `fork`, but there are \n",
    "  some problems with it--for one, the outer `Callable` will block waiting for the \n",
    "  \"inner\" task to complete. Since this blocking occupies a thread in our thread pool, \n",
    "  or whatever resource backs the `ExecutorService`, this implies that we're losing \n",
    "  out on some potential parallelism. Essentially, we're using two threads when one \n",
    "  should suffice. This is a symptom of a more serious problem with the implementation, \n",
    "  and we will discuss this later in the chapter.\n",
    "  */\n",
    "  def fork[A](a: => Par[A]): Par[A] = \n",
    "    es => es.submit(new Callable[A] {\n",
    "      def call = a(es).get\n",
    "    })\n",
    "\n",
    "  def lazyUnit[A](a: => A): Par[A] = fork(unit(a))\n",
    "\n",
    "}\n"
   ]
  },
  {
   "cell_type": "code",
   "execution_count": 6,
   "metadata": {},
   "outputs": [
    {
     "name": "stdout",
     "output_type": "stream",
     "text": [
      "(future,UnitFuture(15))\n",
      "(get,15)\n"
     ]
    },
    {
     "data": {
      "text/plain": [
       "null"
      ]
     },
     "execution_count": 6,
     "metadata": {},
     "output_type": "execute_result"
    }
   ],
   "source": [
    "// id : try ex_7.2\n",
    "\n",
    "def sum(ints: IndexedSeq[Int]): Par[Int] = \n",
    "    if (ints.size <= 1) Par.unit(ints.headOption getOrElse 0) \n",
    "    else {\n",
    "        val (l,r) = ints.splitAt(ints.length/2)\n",
    "        Par.map2(sum(l), sum(r))(_ + _)\n",
    "    }\n",
    "\n",
    "val future = Par.run(Executors.newFixedThreadPool(1))(sum(IndexedSeq(1,2,3,4,5)))\n",
    "\n",
    "println(\"future\", future)\n",
    "println(\"get\", future.get)"
   ]
  },
  {
   "cell_type": "code",
   "execution_count": 7,
   "metadata": {},
   "outputs": [
    {
     "data": {
      "text/plain": [
       "$line24.$read$$iw$$iw$$iw$$iw$$iw$$iw$$iw$$iw$$iw$$iw$$iw$$iw$$iw$$iw$$iw$$iw$$iw$$iw$$iw$$iw$$iw$$iw$Par$@17b931ea"
      ]
     },
     "execution_count": 7,
     "metadata": {},
     "output_type": "execute_result"
    }
   ],
   "source": [
    "// id : ex_7.3\n",
    "import java.util.concurrent.Future\n",
    "\n",
    "type Par[A] = ExecutorService => Future[A]\n",
    "\n",
    "object Par {\n",
    "\n",
    "    def run[A](s: ExecutorService)(a: Par[A]): Future[A] = a(s)\n",
    "\n",
    "    def unit[A](a: () => A): Par[A] = (es: ExecutorService) => es.submit(new Callable[A] {\n",
    "          def call = a()\n",
    "    })\n",
    "\n",
    "    def map2[A,B,C](a: Par[A], b: Par[B])(f: (A,B) => C): Par[C] = \n",
    "        (es: ExecutorService) => {\n",
    "        val af = a(es)\n",
    "        val bf = b(es)\n",
    "        Map2UnitFuture(af, bf, f) \n",
    "    }\n",
    "\n",
    "    // https://github.com/fpinscala/fpinscala/blob/master/answerkey/parallelism/03.answer.scala\n",
    "    \n",
    "    case class Map2UnitFuture[A, B, C](\n",
    "        a: Future[A], \n",
    "        b: Future[B],\n",
    "        f : (A, B) => C) extends Future[C] {\n",
    "        \n",
    "        @volatile var cache: Option[C] = None\n",
    "        def isDone = cache.isDefined\n",
    "        def isCancelled = a.isCancelled || b.isCancelled\n",
    "        def cancel(evenIfRunning: Boolean) =\n",
    "            a.cancel(evenIfRunning) || b.cancel(evenIfRunning)\n",
    "        def get = compute(Long.MaxValue)\n",
    "        def get(timeout: Long, units: TimeUnit): C =\n",
    "            compute(TimeUnit.NANOSECONDS.convert(timeout, units))\n",
    "\n",
    "        private def compute(timeoutInNanos: Long): C = cache match {\n",
    "            case Some(c) => c\n",
    "            case None =>\n",
    "              println(\"Timeout \" + TimeUnit.SECONDS.convert(timeoutInNanos, TimeUnit.NANOSECONDS))\n",
    "              val start = System.nanoTime\n",
    "              val ar = a.get(timeoutInNanos, TimeUnit.NANOSECONDS)\n",
    "              val stop = System.nanoTime;val aTime = stop-start\n",
    "              println(\"Timeout \" + TimeUnit.SECONDS.convert(timeoutInNanos - aTime, TimeUnit.NANOSECONDS))\n",
    "              val br = b.get(timeoutInNanos - aTime, TimeUnit.NANOSECONDS)\n",
    "              val ret = f(ar, br)\n",
    "              cache = Some(ret)\n",
    "              ret\n",
    "        }\n",
    "    }\n",
    "\n",
    "}"
   ]
  },
  {
   "cell_type": "code",
   "execution_count": 8,
   "metadata": {},
   "outputs": [
    {
     "data": {
      "text/plain": [
       "sum: (ints: IndexedSeq[Int])Par[Int]\n"
      ]
     },
     "execution_count": 8,
     "metadata": {},
     "output_type": "execute_result"
    }
   ],
   "source": [
    "def sum(ints: IndexedSeq[Int]): Par[Int] = \n",
    "    if (ints.size <= 1) {\n",
    "        ints match {\n",
    "            case IndexedSeq(x) => Par.unit(() => x)\n",
    "            case IndexedSeq() => Par.unit(() => 0)\n",
    "        }\n",
    "    } else {\n",
    "        val (l,r) = ints.splitAt(ints.length/2)\n",
    "        Par.map2(sum(l), sum(r))({\n",
    "            Thread.sleep(1000)\n",
    "            _ + _\n",
    "        })\n",
    "    }\n"
   ]
  },
  {
   "cell_type": "code",
   "execution_count": 9,
   "metadata": {},
   "outputs": [
    {
     "data": {
      "text/plain": [
       "Map2UnitFuture(Map2UnitFuture(Map2UnitFuture(java.util.concurrent.FutureTask@382f6e5d,java.util.concurrent.FutureTask@4fcb6e3a,<function2>),Map2UnitFuture(java.util.concurrent.FutureTask@1fee39d7,Map2UnitFuture(java.util.concurrent.FutureTask@3fe31189,java.util.concurrent.FutureTask@7cfdddae,<function2>),<function2>),<function2>),Map2UnitFuture(Map2UnitFuture(java.util.concurrent.FutureTask@68d3c6b5,java.util.concurrent.FutureTask@69d6af9,<function2>),Map2UnitFuture(java.util.concurrent.FutureTask@21555cfa,Map2UnitFuture(java.util.concurrent.FutureTask@3357f5d3,java.util.concurrent.FutureTask@45476b62,<function2>),<function2>),<function2>),<function2>)"
      ]
     },
     "execution_count": 9,
     "metadata": {},
     "output_type": "execute_result"
    }
   ],
   "source": [
    "val future = Par.run(Executors.newFixedThreadPool(4))(sum(IndexedSeq(1,2,3,4,5,6,7,8,9,10)))"
   ]
  },
  {
   "cell_type": "code",
   "execution_count": 10,
   "metadata": {},
   "outputs": [
    {
     "name": "stdout",
     "output_type": "stream",
     "text": [
      "Timeout 0\n",
      "Timeout 0\n",
      "Timeout 0\n",
      "Timeout 0\n",
      "Timeout 0\n",
      "Timeout 0\n",
      "Timeout 0\n",
      "Timeout 0\n",
      "Timeout 0\n",
      "Timeout 0\n",
      "Timeout 0\n",
      "Timeout 0\n",
      "Timeout 0\n",
      "Timeout 0\n",
      "Timeout 0\n",
      "Timeout 0\n",
      "Timeout 0\n",
      "Timeout 0\n"
     ]
    },
    {
     "data": {
      "text/plain": [
       "55"
      ]
     },
     "execution_count": 10,
     "metadata": {},
     "output_type": "execute_result"
    }
   ],
   "source": [
    "future.get(1, TimeUnit.NANOSECONDS)"
   ]
  },
  {
   "cell_type": "code",
   "execution_count": 11,
   "metadata": {},
   "outputs": [
    {
     "name": "stdout",
     "output_type": "stream",
     "text": [
      "Timeout 0\n"
     ]
    },
    {
     "ename": "java.util.concurrent.TimeoutException",
     "evalue": "java.util.concurrent.TimeoutException",
     "output_type": "error",
     "traceback": [
      "\u001b[1;31mjava.util.concurrent.TimeoutException\u001b[0;0m",
      "\u001b[1;31m  at java.util.concurrent.FutureTask.get(FutureTask.java:205)\u001b[0;0m",
      "\u001b[1;31m  at Par$Map2UnitFuture.compute(<console>:119)\u001b[0;0m",
      "\u001b[1;31m  at Par$Map2UnitFuture.get(<console>:112)\u001b[0;0m",
      "\u001b[1;31m  ... 48 elided\u001b[0;0m"
     ]
    }
   ],
   "source": [
    "val sum2 = Par.map2(Par.unit(() => { Thread.sleep(10000); 1}), \n",
    "                    Par.unit(() => { Thread.sleep(10000); 2}))((a: Int, b: Int) => a + b)\n",
    "sum2(Executors.newFixedThreadPool(4)).get(0, TimeUnit.NANOSECONDS)"
   ]
  },
  {
   "cell_type": "code",
   "execution_count": 12,
   "metadata": {},
   "outputs": [
    {
     "name": "stdout",
     "output_type": "stream",
     "text": [
      "Timeout 11\n",
      "Timeout 1\n"
     ]
    },
    {
     "ename": "java.util.concurrent.TimeoutException",
     "evalue": "java.util.concurrent.TimeoutException",
     "output_type": "error",
     "traceback": [
      "\u001b[1;31mjava.util.concurrent.TimeoutException\u001b[0;0m",
      "\u001b[1;31m  at java.util.concurrent.FutureTask.get(FutureTask.java:205)\u001b[0;0m",
      "\u001b[1;31m  at Par$Map2UnitFuture.compute(<console>:122)\u001b[0;0m",
      "\u001b[1;31m  at Par$Map2UnitFuture.get(<console>:112)\u001b[0;0m",
      "\u001b[1;31m  ... 48 elided\u001b[0;0m"
     ]
    }
   ],
   "source": [
    "val sum2 = Par.map2(Par.unit(() => { Thread.sleep(10000); 1}), \n",
    "                    Par.unit(() => { Thread.sleep(30000); 2}))((a: Int, b: Int) => a + b)\n",
    "sum2(Executors.newFixedThreadPool(4)).get(11, TimeUnit.SECONDS)"
   ]
  },
  {
   "cell_type": "code",
   "execution_count": 13,
   "metadata": {},
   "outputs": [
    {
     "name": "stdout",
     "output_type": "stream",
     "text": [
      "Timeout 3\n",
      "Timeout 0\n"
     ]
    },
    {
     "data": {
      "text/plain": [
       "3"
      ]
     },
     "execution_count": 13,
     "metadata": {},
     "output_type": "execute_result"
    }
   ],
   "source": [
    "val sum2 = Par.map2(Par.unit(() => { Thread.sleep(2500); 1}), \n",
    "                    Par.unit(() => { Thread.sleep(2500); 2}))((a: Int, b: Int) => a + b)\n",
    "Par.run(Executors.newFixedThreadPool(4))(sum2).get(3, TimeUnit.SECONDS)"
   ]
  },
  {
   "cell_type": "code",
   "execution_count": null,
   "metadata": {},
   "outputs": [],
   "source": []
  }
 ],
 "metadata": {
  "kernelspec": {
   "display_name": "Scala",
   "language": "scala",
   "name": "scala"
  },
  "language_info": {
   "codemirror_mode": "text/x-scala",
   "file_extension": ".scala",
   "mimetype": "",
   "name": "Scala",
   "nbconverter_exporter": "",
   "version": "2.11.12"
  }
 },
 "nbformat": 4,
 "nbformat_minor": 2
}
