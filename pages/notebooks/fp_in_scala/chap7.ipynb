{
 "cells": [
  {
   "cell_type": "code",
   "execution_count": 1,
   "metadata": {},
   "outputs": [
    {
     "data": {
      "text/plain": [
       "scala.language$@1cad560c"
      ]
     },
     "execution_count": 1,
     "metadata": {},
     "output_type": "execute_result"
    }
   ],
   "source": [
    "import java.util.concurrent._\n",
    "import language.implicitConversions\n",
    "val parEngine = Executors.newFixedThreadPool(2)"
   ]
  },
  {
   "cell_type": "code",
   "execution_count": 2,
   "metadata": {},
   "outputs": [
    {
     "data": {
      "text/plain": [
       "$line19.$read$$iw$$iw$Par$@4b8e2c57"
      ]
     },
     "execution_count": 2,
     "metadata": {},
     "output_type": "execute_result"
    }
   ],
   "source": [
    "// id : ex_7.1\n",
    "\n",
    "class Par[A](ap : () => A) {\n",
    "    \n",
    "    val a : () => A = ap\n",
    "        \n",
    "    def get : A = a()\n",
    "    \n",
    "}\n",
    "\n",
    "object Par {\n",
    "    \n",
    "    def unit[A](a : => A) : Par[A] = new Par(() => a)\n",
    "\n",
    "    def map2[A,B,C](pa : Par[A], pb: Par[B])(f: (A, B) => C): Par[C] = {\n",
    "        unit(f(pa.get,pb.get))\n",
    "    }\n",
    "    \n",
    "}\n"
   ]
  },
  {
   "cell_type": "code",
   "execution_count": 3,
   "metadata": {},
   "outputs": [
    {
     "data": {
      "text/plain": [
       "sum: (ints: IndexedSeq[Int])Par[Int]\n"
      ]
     },
     "execution_count": 3,
     "metadata": {},
     "output_type": "execute_result"
    }
   ],
   "source": [
    "def sum(ints: IndexedSeq[Int]): Par[Int] = \n",
    "    if (ints.size <= 1) Par.unit(ints.headOption getOrElse 0) \n",
    "    else {\n",
    "        val (l,r) = ints.splitAt(ints.length/2)\n",
    "        Par.map2(sum(l), sum(r))(_ + _)\n",
    "    }"
   ]
  },
  {
   "cell_type": "code",
   "execution_count": 4,
   "metadata": {},
   "outputs": [
    {
     "data": {
      "text/plain": [
       "15"
      ]
     },
     "execution_count": 4,
     "metadata": {},
     "output_type": "execute_result"
    }
   ],
   "source": [
    "sum(IndexedSeq(1,2,3,4,5)).get"
   ]
  },
  {
   "cell_type": "code",
   "execution_count": 5,
   "metadata": {},
   "outputs": [
    {
     "data": {
      "text/plain": [
       "$line22.$read$$iw$$iw$$iw$$iw$$iw$$iw$$iw$$iw$$iw$$iw$$iw$$iw$$iw$$iw$$iw$$iw$$iw$$iw$$iw$$iw$$iw$$iw$Par$@6437bd1c"
      ]
     },
     "execution_count": 5,
     "metadata": {},
     "output_type": "execute_result"
    }
   ],
   "source": [
    "// id : ex_7.2\n",
    "\n",
    "// Shamelessly (or shamefully) taking the relevant portions from FP in Scala answers\n",
    "type Par[A] = ExecutorService => Future[A]\n",
    "\n",
    "object Par {\n",
    "\n",
    "  def run[A](s: ExecutorService)(a: Par[A]): Future[A] = a(s)\n",
    "\n",
    "  /*\n",
    "  `unit` is represented as a function that returns a `UnitFuture`, which is a \n",
    "  simple implementation of `Future` that just wraps a constant value. It doesn't \n",
    "  use the `ExecutorService` at all. It's always done and can't be cancelled. Its \n",
    "  `get` method simply returns the value that we gave it.\n",
    "  */\n",
    "  def unit[A](a: A): Par[A] = (es: ExecutorService) => UnitFuture(a) \n",
    "\n",
    "  private case class UnitFuture[A](get: A) extends Future[A] {\n",
    "    def isDone = true\n",
    "    def get(timeout: Long, units: TimeUnit) = get\n",
    "    def isCancelled = false\n",
    "    def cancel(evenIfRunning: Boolean): Boolean = false\n",
    "  }\n",
    "\n",
    "  /*\n",
    "  `map2` doesn't evaluate the call to `f` in a separate logical thread, in accord \n",
    "  with our design choice of having `fork` be the sole function in the API for \n",
    "  controlling parallelism. We can always do `fork(map2(a,b)(f))` if we want the \n",
    "  evaluation of `f` to occur in a separate thread.\n",
    "  */\n",
    "  def map2[A,B,C](a: Par[A], b: Par[B])(f: (A,B) => C): Par[C] = \n",
    "    (es: ExecutorService) => {\n",
    "      val af = a(es)\n",
    "      val bf = b(es)\n",
    "      /* \n",
    "      This implementation of `map2` does _not_ respect timeouts. It simply passes \n",
    "      the `ExecutorService` on to both `Par` values, waits for the results of the \n",
    "      Futures `af` and `bf`, applies `f` to them, and wraps them in a `UnitFuture`. \n",
    "      In order to respect timeouts, we'd need a new `Future` implementation that \n",
    "      records the amount of time spent evaluating `af`, then subtracts that time \n",
    "      from the available time allocated for evaluating `bf`.\n",
    "      */\n",
    "      UnitFuture(f(af.get, bf.get)) \n",
    "    }\n",
    "\n",
    "  /*\n",
    "  This is the simplest and most natural implementation of `fork`, but there are \n",
    "  some problems with it--for one, the outer `Callable` will block waiting for the \n",
    "  \"inner\" task to complete. Since this blocking occupies a thread in our thread pool, \n",
    "  or whatever resource backs the `ExecutorService`, this implies that we're losing \n",
    "  out on some potential parallelism. Essentially, we're using two threads when one \n",
    "  should suffice. This is a symptom of a more serious problem with the implementation, \n",
    "  and we will discuss this later in the chapter.\n",
    "  */\n",
    "  def fork[A](a: => Par[A]): Par[A] = \n",
    "    es => es.submit(new Callable[A] {\n",
    "      def call = a(es).get\n",
    "    })\n",
    "\n",
    "  def lazyUnit[A](a: => A): Par[A] = fork(unit(a))\n",
    "\n",
    "}\n"
   ]
  },
  {
   "cell_type": "code",
   "execution_count": 6,
   "metadata": {},
   "outputs": [
    {
     "name": "stdout",
     "output_type": "stream",
     "text": [
      "(future,UnitFuture(15))\n",
      "(get,15)\n"
     ]
    },
    {
     "data": {
      "text/plain": [
       "null"
      ]
     },
     "execution_count": 6,
     "metadata": {},
     "output_type": "execute_result"
    }
   ],
   "source": [
    "// id : try ex_7.2\n",
    "\n",
    "def sum(ints: IndexedSeq[Int]): Par[Int] = \n",
    "    if (ints.size <= 1) Par.unit(ints.headOption getOrElse 0) \n",
    "    else {\n",
    "        val (l,r) = ints.splitAt(ints.length/2)\n",
    "        Par.map2(sum(l), sum(r))(_ + _)\n",
    "    }\n",
    "\n",
    "val future = Par.run(Executors.newFixedThreadPool(1))(sum(IndexedSeq(1,2,3,4,5)))\n",
    "\n",
    "println(\"future\", future)\n",
    "println(\"get\", future.get)"
   ]
  },
  {
   "cell_type": "code",
   "execution_count": 7,
   "metadata": {},
   "outputs": [
    {
     "data": {
      "text/plain": [
       "$line24.$read$$iw$$iw$$iw$$iw$$iw$$iw$$iw$$iw$$iw$$iw$$iw$$iw$$iw$$iw$$iw$$iw$$iw$$iw$$iw$$iw$$iw$$iw$Par$@3676c50c"
      ]
     },
     "execution_count": 7,
     "metadata": {},
     "output_type": "execute_result"
    }
   ],
   "source": [
    "// id : ex_7.3\n",
    "import java.util.concurrent.Future\n",
    "\n",
    "type Par[A] = ExecutorService => Future[A]\n",
    "\n",
    "object Par {\n",
    "\n",
    "    def run[A](s: ExecutorService)(a: Par[A]): Future[A] = a(s)\n",
    "\n",
    "    def unit[A](a: () => A): Par[A] = (es: ExecutorService) => es.submit(new Callable[A] {\n",
    "          def call = a()\n",
    "    })\n",
    "\n",
    "    def map2[A,B,C](a: Par[A], b: Par[B])(f: (A,B) => C): Par[C] = \n",
    "        (es: ExecutorService) => {\n",
    "        val af = a(es)\n",
    "        val bf = b(es)\n",
    "        Map2UnitFuture(af, bf, f) \n",
    "    }\n",
    "\n",
    "    // https://github.com/fpinscala/fpinscala/blob/master/answerkey/parallelism/03.answer.scala\n",
    "    \n",
    "    case class Map2UnitFuture[A, B, C](\n",
    "        a: Future[A], \n",
    "        b: Future[B],\n",
    "        f : (A, B) => C) extends Future[C] {\n",
    "        \n",
    "        @volatile var cache: Option[C] = None\n",
    "        def isDone = cache.isDefined\n",
    "        def isCancelled = a.isCancelled || b.isCancelled\n",
    "        def cancel(evenIfRunning: Boolean) =\n",
    "            a.cancel(evenIfRunning) || b.cancel(evenIfRunning)\n",
    "        def get = compute(Long.MaxValue)\n",
    "        def get(timeout: Long, units: TimeUnit): C =\n",
    "            compute(TimeUnit.NANOSECONDS.convert(timeout, units))\n",
    "\n",
    "        private def compute(timeoutInNanos: Long): C = cache match {\n",
    "            case Some(c) => c\n",
    "            case None =>\n",
    "              println(\"Timeout \" + TimeUnit.SECONDS.convert(timeoutInNanos, TimeUnit.NANOSECONDS))\n",
    "              val start = System.nanoTime\n",
    "              val ar = a.get(timeoutInNanos, TimeUnit.NANOSECONDS)\n",
    "              val stop = System.nanoTime;val aTime = stop-start\n",
    "              println(\"Timeout \" + TimeUnit.SECONDS.convert(timeoutInNanos - aTime, TimeUnit.NANOSECONDS))\n",
    "              val br = b.get(timeoutInNanos - aTime, TimeUnit.NANOSECONDS)\n",
    "              val ret = f(ar, br)\n",
    "              cache = Some(ret)\n",
    "              ret\n",
    "        }\n",
    "    }\n",
    "\n",
    "}"
   ]
  },
  {
   "cell_type": "code",
   "execution_count": 8,
   "metadata": {},
   "outputs": [
    {
     "data": {
      "text/plain": [
       "sum: (ints: IndexedSeq[Int])Par[Int]\n"
      ]
     },
     "execution_count": 8,
     "metadata": {},
     "output_type": "execute_result"
    }
   ],
   "source": [
    "def sum(ints: IndexedSeq[Int]): Par[Int] = \n",
    "    if (ints.size <= 1) {\n",
    "        ints match {\n",
    "            case IndexedSeq(x) => Par.unit(() => x)\n",
    "            case IndexedSeq() => Par.unit(() => 0)\n",
    "        }\n",
    "    } else {\n",
    "        val (l,r) = ints.splitAt(ints.length/2)\n",
    "        Par.map2(sum(l), sum(r))({\n",
    "            Thread.sleep(1000)\n",
    "            _ + _\n",
    "        })\n",
    "    }\n"
   ]
  },
  {
   "cell_type": "code",
   "execution_count": 9,
   "metadata": {},
   "outputs": [
    {
     "data": {
      "text/plain": [
       "Map2UnitFuture(Map2UnitFuture(Map2UnitFuture(java.util.concurrent.FutureTask@569fdc76,java.util.concurrent.FutureTask@734bda03,<function2>),Map2UnitFuture(java.util.concurrent.FutureTask@5feff8e1,Map2UnitFuture(java.util.concurrent.FutureTask@546ab144,java.util.concurrent.FutureTask@7cbeabd3,<function2>),<function2>),<function2>),Map2UnitFuture(Map2UnitFuture(java.util.concurrent.FutureTask@5108ed85,java.util.concurrent.FutureTask@71002fb5,<function2>),Map2UnitFuture(java.util.concurrent.FutureTask@70e14040,Map2UnitFuture(java.util.concurrent.FutureTask@79088dbc,java.util.concurrent.FutureTask@6ffa33dd,<function2>),<function2>),<function2>),<function2>)"
      ]
     },
     "execution_count": 9,
     "metadata": {},
     "output_type": "execute_result"
    }
   ],
   "source": [
    "val future = Par.run(Executors.newFixedThreadPool(4))(sum(IndexedSeq(1,2,3,4,5,6,7,8,9,10)))"
   ]
  },
  {
   "cell_type": "code",
   "execution_count": 10,
   "metadata": {},
   "outputs": [
    {
     "name": "stdout",
     "output_type": "stream",
     "text": [
      "Timeout 0\n",
      "Timeout 0\n",
      "Timeout 0\n",
      "Timeout 0\n",
      "Timeout 0\n",
      "Timeout 0\n",
      "Timeout 0\n",
      "Timeout 0\n",
      "Timeout 0\n",
      "Timeout 0\n",
      "Timeout 0\n",
      "Timeout 0\n",
      "Timeout 0\n",
      "Timeout 0\n",
      "Timeout 0\n",
      "Timeout 0\n",
      "Timeout 0\n",
      "Timeout 0\n"
     ]
    },
    {
     "data": {
      "text/plain": [
       "55"
      ]
     },
     "execution_count": 10,
     "metadata": {},
     "output_type": "execute_result"
    }
   ],
   "source": [
    "future.get(1, TimeUnit.NANOSECONDS)"
   ]
  },
  {
   "cell_type": "code",
   "execution_count": 11,
   "metadata": {},
   "outputs": [
    {
     "name": "stdout",
     "output_type": "stream",
     "text": [
      "Timeout 0\n"
     ]
    },
    {
     "ename": "java.util.concurrent.TimeoutException",
     "evalue": "java.util.concurrent.TimeoutException",
     "output_type": "error",
     "traceback": [
      "\u001b[1;31mjava.util.concurrent.TimeoutException\u001b[0;0m",
      "\u001b[1;31m  at java.util.concurrent.FutureTask.get(FutureTask.java:205)\u001b[0;0m",
      "\u001b[1;31m  at Par$Map2UnitFuture.compute(<console>:119)\u001b[0;0m",
      "\u001b[1;31m  at Par$Map2UnitFuture.get(<console>:112)\u001b[0;0m",
      "\u001b[1;31m  ... 48 elided\u001b[0;0m"
     ]
    }
   ],
   "source": [
    "val sum2 = Par.map2(Par.unit(() => { Thread.sleep(10000); 1}), \n",
    "                    Par.unit(() => { Thread.sleep(10000); 2}))((a: Int, b: Int) => a + b)\n",
    "sum2(Executors.newFixedThreadPool(4)).get(0, TimeUnit.NANOSECONDS)"
   ]
  },
  {
   "cell_type": "code",
   "execution_count": 12,
   "metadata": {},
   "outputs": [
    {
     "name": "stdout",
     "output_type": "stream",
     "text": [
      "Timeout 11\n",
      "Timeout 1\n"
     ]
    },
    {
     "ename": "java.util.concurrent.TimeoutException",
     "evalue": "java.util.concurrent.TimeoutException",
     "output_type": "error",
     "traceback": [
      "\u001b[1;31mjava.util.concurrent.TimeoutException\u001b[0;0m",
      "\u001b[1;31m  at java.util.concurrent.FutureTask.get(FutureTask.java:205)\u001b[0;0m",
      "\u001b[1;31m  at Par$Map2UnitFuture.compute(<console>:122)\u001b[0;0m",
      "\u001b[1;31m  at Par$Map2UnitFuture.get(<console>:112)\u001b[0;0m",
      "\u001b[1;31m  ... 48 elided\u001b[0;0m"
     ]
    }
   ],
   "source": [
    "val sum2 = Par.map2(Par.unit(() => { Thread.sleep(10000); 1}), \n",
    "                    Par.unit(() => { Thread.sleep(30000); 2}))((a: Int, b: Int) => a + b)\n",
    "sum2(Executors.newFixedThreadPool(4)).get(11, TimeUnit.SECONDS)"
   ]
  },
  {
   "cell_type": "code",
   "execution_count": 13,
   "metadata": {},
   "outputs": [
    {
     "name": "stdout",
     "output_type": "stream",
     "text": [
      "Timeout 3\n",
      "Timeout 0\n"
     ]
    },
    {
     "data": {
      "text/plain": [
       "3"
      ]
     },
     "execution_count": 13,
     "metadata": {},
     "output_type": "execute_result"
    }
   ],
   "source": [
    "val sum2 = Par.map2(Par.unit(() => { Thread.sleep(2500); 1}), \n",
    "                    Par.unit(() => { Thread.sleep(2500); 2}))((a: Int, b: Int) => a + b)\n",
    "Par.run(Executors.newFixedThreadPool(4))(sum2).get(3, TimeUnit.SECONDS)"
   ]
  },
  {
   "cell_type": "code",
   "execution_count": 14,
   "metadata": {},
   "outputs": [
    {
     "data": {
      "text/plain": [
       "$line35.$read$$iw$$iw$$iw$$iw$$iw$$iw$$iw$$iw$$iw$$iw$$iw$$iw$$iw$$iw$$iw$$iw$$iw$$iw$$iw$$iw$$iw$$iw$Par$@59abab4f"
      ]
     },
     "execution_count": 14,
     "metadata": {},
     "output_type": "execute_result"
    }
   ],
   "source": [
    "// id : ex_7.4\n",
    "\n",
    "type Par[A] = ExecutorService => Future[A]\n",
    "\n",
    "object Par {\n",
    "\n",
    "  def run[A](s: ExecutorService)(a: Par[A]): Future[A] = a(s)\n",
    "\n",
    "  def unit[A](a: A): Par[A] = (es: ExecutorService) => UnitFuture(a) \n",
    "\n",
    "  private case class UnitFuture[A](get: A) extends Future[A] {\n",
    "    def isDone = true\n",
    "    def get(timeout: Long, units: TimeUnit) = get\n",
    "    def isCancelled = false\n",
    "    def cancel(evenIfRunning: Boolean): Boolean = false\n",
    "  }\n",
    "\n",
    "  def map2[A,B,C](a: Par[A], b: Par[B])(f: (A,B) => C): Par[C] = \n",
    "    (es: ExecutorService) => {\n",
    "      val af = a(es)\n",
    "      val bf = b(es)\n",
    "      UnitFuture(f(af.get, bf.get)) \n",
    "    }\n",
    "\n",
    "  def fork[A](a: => Par[A]): Par[A] = \n",
    "    es => es.submit(new Callable[A] {\n",
    "      def call = a(es).get\n",
    "    })\n",
    "\n",
    "  def lazyUnit[A](a: => A): Par[A] = fork(unit(a))\n",
    "\n",
    "  def asyncF[A,B](f: A => B): A => Par[B] = a => lazyUnit(f(a))\n",
    "}\n"
   ]
  },
  {
   "cell_type": "code",
   "execution_count": 15,
   "metadata": {},
   "outputs": [
    {
     "data": {
      "text/plain": [
       "6"
      ]
     },
     "execution_count": 15,
     "metadata": {},
     "output_type": "execute_result"
    }
   ],
   "source": [
    "// id : try ex_7.4\n",
    "\n",
    "val func = Par.asyncF((a : Int) => a + 1)\n",
    "val future = Par.run(Executors.newSingleThreadExecutor)(func(5))\n",
    "future.get"
   ]
  },
  {
   "cell_type": "code",
   "execution_count": 16,
   "metadata": {},
   "outputs": [
    {
     "data": {
      "text/plain": [
       "sortPar: (parList: Par[List[Int]])Par[List[Int]]\n",
       "map: [A, B](pa: Par[A])(f: A => B)Par[B]\n"
      ]
     },
     "execution_count": 16,
     "metadata": {},
     "output_type": "execute_result"
    }
   ],
   "source": [
    "def sortPar(parList: Par[List[Int]]): Par[List[Int]] = Par.map2(parList, Par.unit(()))((a, _) => a.sorted)\n",
    "def map[A,B](pa: Par[A])(f: A => B): Par[B] = Par.map2(pa, Par.unit(()))((a,_) => f(a))"
   ]
  },
  {
   "cell_type": "code",
   "execution_count": 17,
   "metadata": {},
   "outputs": [
    {
     "data": {
      "text/plain": [
       "sortPar: (parList: Par[List[Int]])Par[List[Int]]\n"
      ]
     },
     "execution_count": 17,
     "metadata": {},
     "output_type": "execute_result"
    }
   ],
   "source": [
    "def sortPar(parList: Par[List[Int]]) = map(parList)(_.sorted)"
   ]
  },
  {
   "cell_type": "code",
   "execution_count": 18,
   "metadata": {},
   "outputs": [
    {
     "data": {
      "text/plain": [
       "sequence: [A](ps: List[Par[A]])Par[List[A]]\n"
      ]
     },
     "execution_count": 18,
     "metadata": {},
     "output_type": "execute_result"
    }
   ],
   "source": [
    "// id : ex_7.5\n",
    "\n",
    "/* Note: Show sequence for the pattern\n",
    "def sequence[A](fs: List[Rand[A]]) : Rand[List[A]] = {\n",
    "    rng => {\n",
    "        fs match {\n",
    "            case Nil => (List().asInstanceOf[List[A]], rng)\n",
    "            case r2s :: rest => {\n",
    "                val (r2sa, r2sr) = r2s(rng)\n",
    "                val rem = sequence(rest)(r2sr)\n",
    "                (r2sa :: rem._1, rem._2)\n",
    "            }\n",
    "        }\n",
    "    }\n",
    "}\n",
    "*/\n",
    "\n",
    "// def map2[A,B,C](a : Par[A], b : Par[B])(f: (A, B) => C): Par[C] = \n",
    "//     map2       (a : Par[A], b : Par[A])(f: (A, A) => List[A]) : Par[List[A]]\n",
    "def sequence[A](ps: List[Par[A]]): Par[List[A]] = ps match {\n",
    "    case Nil => Par.unit(List().asInstanceOf[List[A]])\n",
    "    case p :: pr   => Par.map2(p, sequence(pr))((a1: A, a2 : List[A]) => List(a1) ++ a2)\n",
    "}"
   ]
  },
  {
   "cell_type": "code",
   "execution_count": 19,
   "metadata": {},
   "outputs": [
    {
     "data": {
      "text/plain": [
       "[1, 2, 3, 4]"
      ]
     },
     "execution_count": 19,
     "metadata": {},
     "output_type": "execute_result"
    }
   ],
   "source": [
    "// id : try ex_7.5\n",
    "\n",
    "val listOfPars = sequence(List(Par.unit(1), Par.unit(2), Par.unit(3), Par.unit(4)))\n",
    "Par.run(parEngine)(listOfPars).get"
   ]
  },
  {
   "cell_type": "code",
   "execution_count": 20,
   "metadata": {},
   "outputs": [
    {
     "data": {
      "text/plain": [
       "parMap: [A, B](ps: List[A])(f: A => B)Par[List[B]]\n"
      ]
     },
     "execution_count": 20,
     "metadata": {},
     "output_type": "execute_result"
    }
   ],
   "source": [
    "def parMap[A,B](ps: List[A])(f: A => B): Par[List[B]] = Par.fork { \n",
    "    val fbs: List[Par[B]] = ps.map(Par.asyncF(f))\n",
    "    sequence(fbs)\n",
    "}"
   ]
  },
  {
   "cell_type": "code",
   "execution_count": 21,
   "metadata": {},
   "outputs": [
    {
     "data": {
      "text/plain": [
       "parFilter: [A](as: List[A])(f: A => Boolean)Par[List[A]]\n"
      ]
     },
     "execution_count": 21,
     "metadata": {},
     "output_type": "execute_result"
    }
   ],
   "source": [
    "// id : ex_7.6\n",
    "def parFilter[A](as: List[A])(f: A => Boolean): Par[List[A]] = \n",
    "    map(parMap(as)(x => if (f(x)) Some(x) else None))(xs => xs.flatMap(x => x))"
   ]
  },
  {
   "cell_type": "code",
   "execution_count": 22,
   "metadata": {},
   "outputs": [
    {
     "name": "stdout",
     "output_type": "stream",
     "text": [
      "(Sleeping 1 second for,2)\n",
      "(Sleeping 1 second for,6)\n",
      "(Sleeping 1 second for,1)\n",
      "(Sleeping 1 second for,5)\n",
      "(Sleeping 1 second for,4)\n",
      "(Sleeping 1 second for,3)\n"
     ]
    },
    {
     "data": {
      "text/plain": [
       "[5, 6]"
      ]
     },
     "execution_count": 22,
     "metadata": {},
     "output_type": "execute_result"
    }
   ],
   "source": [
    "// id : try ex_7.6\n",
    "val xpool7 = Executors.newFixedThreadPool(7)\n",
    "Par.run(xpool7)(parFilter(List(1,2,3,4,5,6))(x => {\n",
    "    println(\"Sleeping 1 second for\", x)\n",
    "    Thread.sleep(1000)\n",
    "    x > 4\n",
    "})).get"
   ]
  },
  {
   "cell_type": "code",
   "execution_count": 23,
   "metadata": {},
   "outputs": [
    {
     "data": {
      "text/plain": [
       "parFilter: [A](l: List[A])(f: A => Boolean)Par[List[A]]\n"
      ]
     },
     "execution_count": 23,
     "metadata": {},
     "output_type": "execute_result"
    }
   ],
   "source": [
    "// id : book answer ex_7.6\n",
    "def parFilter[A](l: List[A])(f: A => Boolean): Par[List[A]] = {\n",
    "  val pars: List[Par[List[A]]] = \n",
    "    l map (Par.asyncF((a: A) => if (f(a)) List(a) else List())) \n",
    "  map(sequence(pars))(_.flatten) // convenience method on `List` for concatenating a list of lists\n",
    "}"
   ]
  },
  {
   "cell_type": "code",
   "execution_count": 24,
   "metadata": {},
   "outputs": [
    {
     "name": "stdout",
     "output_type": "stream",
     "text": [
      "(Sleeping 1 second for,1)\n",
      "(Sleeping 1 second for,6)\n",
      "(Sleeping 1 second for,5)\n",
      "(Sleeping 1 second for,4)\n",
      "(Sleeping 1 second for,3)\n",
      "(Sleeping 1 second for,2)\n"
     ]
    },
    {
     "data": {
      "text/plain": [
       "[5, 6]"
      ]
     },
     "execution_count": 24,
     "metadata": {},
     "output_type": "execute_result"
    }
   ],
   "source": [
    "// id : try book answer ex_7.6\n",
    "Par.run(xpool7)(parFilter(List(1,2,3,4,5,6))(x => {\n",
    "    println(\"Sleeping 1 second for\", x)\n",
    "    Thread.sleep(1000)\n",
    "    x > 4\n",
    "})).get"
   ]
  },
  {
   "cell_type": "code",
   "execution_count": 25,
   "metadata": {},
   "outputs": [
    {
     "data": {
      "text/plain": [
       "$line46.$read$$iw$$iw$Strategy$@591a1834"
      ]
     },
     "execution_count": 25,
     "metadata": {},
     "output_type": "execute_result"
    }
   ],
   "source": [
    "// id : actor from fpinscala\n",
    "\n",
    "import java.util.concurrent.atomic.{AtomicInteger, AtomicReference}\n",
    "import java.util.concurrent.{Callable,ExecutorService}\n",
    "import annotation.tailrec\n",
    "\n",
    "/*\n",
    " * Implementation is taken from `scalaz` library, with only minor changes. See:\n",
    " *\n",
    " * https://github.com/scalaz/scalaz/blob/scalaz-seven/concurrent/src/main/scala/scalaz/concurrent/Actor.scala\n",
    " *\n",
    " * This code is copyright Andriy Plokhotnyuk, Runar Bjarnason, and other contributors,\n",
    " * and is licensed using 3-clause BSD, see LICENSE file at:\n",
    " *\n",
    " * https://github.com/scalaz/scalaz/blob/scalaz-seven/etc/LICENCE\n",
    " */\n",
    "\n",
    "/**\n",
    " * Processes messages of type `A`, one at a time. Messages are submitted to\n",
    " * the actor with the method `!`. Processing is typically performed asynchronously,\n",
    " * this is controlled by the provided `strategy`.\n",
    " *\n",
    " * Memory consistency guarantee: when each message is processed by the `handler`, any memory that it\n",
    " * mutates is guaranteed to be visible by the `handler` when it processes the next message, even if\n",
    " * the `strategy` runs the invocations of `handler` on separate threads. This is achieved because\n",
    " * the `Actor` reads a volatile memory location before entering its event loop, and writes to the same\n",
    " * location before suspending.\n",
    " *\n",
    " * Implementation based on non-intrusive MPSC node-based queue, described by Dmitriy Vyukov:\n",
    " * [[http://www.1024cores.net/home/lock-free-algorithms/queues/non-intrusive-mpsc-node-based-queue]]\n",
    " *\n",
    " * @see scalaz.concurrent.Promise for a use case.\n",
    " *\n",
    " * @param handler  The message handler\n",
    " * @param onError  Exception handler, called if the message handler throws any `Throwable`.\n",
    " * @param strategy Execution strategy, for example, a strategy that is backed by an `ExecutorService`\n",
    " * @tparam A       The type of messages accepted by this actor.\n",
    " */\n",
    "final class Actor[A](strategy: Strategy)(handler: A => Unit, onError: Throwable => Unit = throw(_)) {\n",
    "  self =>\n",
    "\n",
    "  private val tail = new AtomicReference(new Node[A]())\n",
    "  private val suspended = new AtomicInteger(1)\n",
    "  private val head = new AtomicReference(tail.get)\n",
    "\n",
    "  /** Alias for `apply` */\n",
    "  def !(a: A) {\n",
    "    val n = new Node(a)\n",
    "    head.getAndSet(n).lazySet(n)\n",
    "    trySchedule()\n",
    "  }\n",
    "\n",
    "  /** Pass the message `a` to the mailbox of this actor */\n",
    "  def apply(a: A) {\n",
    "    this ! a\n",
    "  }\n",
    "\n",
    "  def contramap[B](f: B => A): Actor[B] =\n",
    "    new Actor[B](strategy)((b: B) => (this ! f(b)), onError)\n",
    "\n",
    "  private def trySchedule() {\n",
    "    if (suspended.compareAndSet(1, 0)) schedule()\n",
    "  }\n",
    "\n",
    "  private def schedule() {\n",
    "    strategy(act())\n",
    "  }\n",
    "\n",
    "  private def act() {\n",
    "    val t = tail.get\n",
    "    val n = batchHandle(t, 1024)\n",
    "    if (n ne t) {\n",
    "      n.a = null.asInstanceOf[A]\n",
    "      tail.lazySet(n)\n",
    "      schedule()\n",
    "    } else {\n",
    "      suspended.set(1)\n",
    "      if (n.get ne null) trySchedule()\n",
    "    }\n",
    "  }\n",
    "\n",
    "  @tailrec\n",
    "  private def batchHandle(t: Node[A], i: Int): Node[A] = {\n",
    "    val n = t.get\n",
    "    if (n ne null) {\n",
    "      try {\n",
    "        handler(n.a)\n",
    "      } catch {\n",
    "        case ex: Throwable => onError(ex)\n",
    "      }\n",
    "      if (i > 0) batchHandle(n, i - 1) else n\n",
    "    } else t\n",
    "  }\n",
    "}\n",
    "\n",
    "private class Node[A](var a: A = null.asInstanceOf[A]) extends AtomicReference[Node[A]]\n",
    "\n",
    "object Actor {\n",
    "\n",
    "  /** Create an `Actor` backed by the given `ExecutorService`. */\n",
    "  def apply[A](es: ExecutorService)(handler: A => Unit, onError: Throwable => Unit = throw(_)): Actor[A] =\n",
    "    new Actor(Strategy.fromExecutorService(es))(handler, onError)\n",
    "}\n",
    "\n",
    "/**\n",
    " * Provides a function for evaluating expressions, possibly asynchronously.\n",
    " * The `apply` function should typically begin evaluating its argument\n",
    " * immediately. The returned thunk can be used to block until the resulting `A`\n",
    " * is available.\n",
    " */\n",
    "trait Strategy {\n",
    "  def apply[A](a: => A): () => A\n",
    "}\n",
    "\n",
    "object Strategy {\n",
    "\n",
    "  /**\n",
    "   * We can create a `Strategy` from any `ExecutorService`. It's a little more\n",
    "   * convenient than submitting `Callable` objects directly.\n",
    "   */\n",
    "  def fromExecutorService(es: ExecutorService): Strategy = new Strategy {\n",
    "    def apply[A](a: => A): () => A = {\n",
    "      val f = es.submit { new Callable[A] { def call = a} }\n",
    "      () => f.get\n",
    "    }\n",
    "  }\n",
    "\n",
    "  /**\n",
    "   * A `Strategy` which begins executing its argument immediately in the calling thread.\n",
    "   */\n",
    "  def sequential: Strategy = new Strategy {\n",
    "    def apply[A](a: => A): () => A = {\n",
    "      val r = a\n",
    "      () => r\n",
    "    }\n",
    "  }\n",
    "}"
   ]
  },
  {
   "cell_type": "code",
   "execution_count": 26,
   "metadata": {},
   "outputs": [
    {
     "data": {
      "text/plain": [
       "$line46.$read$$iw$$iw$Actor@1db68823"
      ]
     },
     "execution_count": 26,
     "metadata": {},
     "output_type": "execute_result"
    }
   ],
   "source": [
    "val echoer = Actor[String](xpool7) {\n",
    "    msg => println(s\"Got message: $msg\")\n",
    "}"
   ]
  },
  {
   "cell_type": "code",
   "execution_count": 27,
   "metadata": {},
   "outputs": [
    {
     "name": "stdout",
     "output_type": "stream",
     "text": [
      "Got message: my message"
     ]
    },
    {
     "data": {
      "text/plain": [
       "null"
      ]
     },
     "execution_count": 27,
     "metadata": {},
     "output_type": "execute_result"
    }
   ],
   "source": [
    "echoer ! \"my message\""
   ]
  },
  {
   "cell_type": "code",
   "execution_count": 28,
   "metadata": {},
   "outputs": [
    {
     "name": "stdout",
     "output_type": "stream",
     "text": [
      "Got message: another msg"
     ]
    },
    {
     "data": {
      "text/plain": [
       "null"
      ]
     },
     "execution_count": 28,
     "metadata": {},
     "output_type": "execute_result"
    }
   ],
   "source": [
    "echoer ! \"another msg\""
   ]
  },
  {
   "cell_type": "code",
   "execution_count": 36,
   "metadata": {},
   "outputs": [
    {
     "ename": "<console>",
     "evalue": "14",
     "output_type": "error",
     "traceback": [
      "\u001b[1;31m<console>:14: error: not found: type ExecutorService\u001b[0;0m",
      "\u001b[1;31m       type Par[+A] = ExecutorService => Future[A]\u001b[0;0m",
      "\u001b[1;31m                      ^\u001b[0;0m"
     ]
    }
   ],
   "source": [
    "sealed trait Future[+A] {\n",
    "  def apply(k: A => Unit): Unit\n",
    "}\n",
    "type Par[+A] = ExecutorService => Future[A]"
   ]
  },
  {
   "cell_type": "code",
   "execution_count": 30,
   "metadata": {},
   "outputs": [
    {
     "ename": "<console>",
     "evalue": "85",
     "output_type": "error",
     "traceback": [
      "\u001b[1;31m<console>:85: error: java.util.concurrent.Future[A] does not take parameters\u001b[0;0m",
      "\u001b[1;31m       p(es) { a => ref.set(a); latch.countDown }\u001b[0;0m",
      "\u001b[1;31m             ^\u001b[0;0m",
      "\u001b[1;31m<console>:96: error: java.util.concurrent.Future[A] does not take parameters\u001b[0;0m",
      "\u001b[1;31m       def apply(cb: A => Unit): Unit = eval(es)(a(es)(cb))\u001b[0;0m",
      "\u001b[1;31m                                                      ^\u001b[0;0m"
     ]
    }
   ],
   "source": [
    "def run[A](es : ExecutorService)(p: Par[A]) : A = {\n",
    "    val ref = new AtomicReference[A]\n",
    "    val latch = new CountDownLatch(1)\n",
    "    p(es) { a => ref.set(a); latch.countDown }\n",
    "    latch.await\n",
    "    ref.get\n",
    "}\n",
    "\n",
    "def unit[A](a : A) : Par[A] = \n",
    "    es => new Future[A] {\n",
    "        def apply(cb: A => Unit) : Unit = cb(a)\n",
    "    }\n",
    "\n",
    "def fork[A](a: => Par[A]): Par[A] = es => new Future[A] {\n",
    "    def apply(cb: A => Unit): Unit = eval(es)(a(es)(cb))\n",
    "}\n",
    "\n",
    "def lazyUnit[A](a: => A): Par[A] = fork(unit(a))\n",
    "\n",
    "def asyncF[A,B](f: A => B): A => Par[B] = a => lazyUnit(f(a))\n",
    "\n",
    "def eval(es: ExecutorService)(r: => Unit): Unit =\n",
    "  es.submit(new Callable[Unit] { def call = r })"
   ]
  },
  {
   "cell_type": "code",
   "execution_count": 31,
   "metadata": {},
   "outputs": [
    {
     "ename": "<console>",
     "evalue": "92",
     "output_type": "error",
     "traceback": [
      "\u001b[1;31m<console>:92: error: not found: value eval\u001b[0;0m",
      "\u001b[1;31mError occurred in an application involving default arguments.\u001b[0;0m",
      "\u001b[1;31m       case Some(b) => eval(es)(cb(f(a, b)))\u001b[0;0m",
      "\u001b[1;31m                       ^\u001b[0;0m",
      "\u001b[1;31m<console>:97: error: not found: value eval\u001b[0;0m",
      "\u001b[1;31mError occurred in an application involving default arguments.\u001b[0;0m",
      "\u001b[1;31m       case Some(a) => eval(es)(cb(f(a, b)))\u001b[0;0m",
      "\u001b[1;31m                       ^\u001b[0;0m",
      "\u001b[1;31m<console>:101: error: java.util.concurrent.Future[A] does not take parameters\u001b[0;0m",
      "\u001b[1;31m       p(es)(a => combiner ! Left(a))\u001b[0;0m",
      "\u001b[1;31m            ^\u001b[0;0m",
      "\u001b[1;31m<console>:102: error: java.util.concurrent.Future[B] does not take parameters\u001b[0;0m",
      "\u001b[1;31m       p2(es)(b => combiner ! Right(b))\u001b[0;0m",
      "\u001b[1;31m             ^\u001b[0;0m"
     ]
    }
   ],
   "source": [
    "def map2[A,B,C](p: Par[A], p2: Par[B])(f: (A,B) => C): Par[C] = es => new Future[C] {\n",
    "  def apply(cb: C => Unit): Unit = {\n",
    "    var ar: Option[A] = None\n",
    "    var br: Option[B] = None\n",
    "    \n",
    "    val combiner = Actor[Either[A, B]](es) {\n",
    "        case Left(a) => br match {\n",
    "            case None => ar = Some(a)\n",
    "            case Some(b) => eval(es)(cb(f(a, b)))\n",
    "        }\n",
    "        \n",
    "        case Right(b) => ar match {\n",
    "            case None => br = Some(b)\n",
    "            case Some(a) => eval(es)(cb(f(a, b)))\n",
    "        }\n",
    "    }\n",
    "      \n",
    "    p(es)(a => combiner ! Left(a))\n",
    "    p2(es)(b => combiner ! Right(b))\n",
    "  }\n",
    "}"
   ]
  },
  {
   "cell_type": "code",
   "execution_count": 32,
   "metadata": {},
   "outputs": [
    {
     "ename": "<console>",
     "evalue": "84",
     "output_type": "error",
     "traceback": [
      "\u001b[1;31m<console>:84: error: not found: value fork\u001b[0;0m",
      "\u001b[1;31m       def parMap[A,B](ps: List[A])(f: A => B): Par[List[B]] = fork {\u001b[0;0m",
      "\u001b[1;31m                                                               ^\u001b[0;0m",
      "\u001b[1;31m<console>:85: error: not found: value asyncF\u001b[0;0m",
      "\u001b[1;31m       val fbs: List[Par[B]] = ps.map(asyncF(f))\u001b[0;0m",
      "\u001b[1;31m                                      ^\u001b[0;0m",
      "\u001b[1;31m<console>:90: error: not found: value unit\u001b[0;0m",
      "\u001b[1;31m       case Nil => unit(List().asInstanceOf[List[A]])\u001b[0;0m",
      "\u001b[1;31m                   ^\u001b[0;0m",
      "\u001b[1;31m<console>:91: error: not found: value map2\u001b[0;0m",
      "\u001b[1;31m       case p :: pr   => map2(p, sequence(pr))((a1: A, a2 : List[A]) => List(a1) ++ a2)\u001b[0;0m",
      "\u001b[1;31m                         ^\u001b[0;0m"
     ]
    }
   ],
   "source": [
    "def parMap[A,B](ps: List[A])(f: A => B): Par[List[B]] = fork { \n",
    "    val fbs: List[Par[B]] = ps.map(asyncF(f))\n",
    "    sequence(fbs)\n",
    "}\n",
    "\n",
    "def sequence[A](ps: List[Par[A]]): Par[List[A]] = ps match {\n",
    "    case Nil => unit(List().asInstanceOf[List[A]])\n",
    "    case p :: pr   => map2(p, sequence(pr))((a1: A, a2 : List[A]) => List(a1) ++ a2)\n",
    "}"
   ]
  },
  {
   "cell_type": "code",
   "execution_count": 33,
   "metadata": {},
   "outputs": [
    {
     "data": {
      "text/plain": [
       "<function1>"
      ]
     },
     "execution_count": 33,
     "metadata": {},
     "output_type": "execute_result"
    }
   ],
   "source": [
    "val p = parMap(List.range(1, 1000))(math.sqrt(_))"
   ]
  },
  {
   "cell_type": "code",
   "execution_count": 34,
   "metadata": {},
   "outputs": [
    {
     "ename": "<console>",
     "evalue": "83",
     "output_type": "error",
     "traceback": [
      "\u001b[1;31m<console>:83: error: not found: value run\u001b[0;0m",
      "\u001b[1;31m       run(Executors.newFixedThreadPool(2))(p).take(10)\u001b[0;0m",
      "\u001b[1;31m       ^\u001b[0;0m"
     ]
    }
   ],
   "source": [
    "run(Executors.newFixedThreadPool(2))(p).take(10)"
   ]
  },
  {
   "cell_type": "code",
   "execution_count": 35,
   "metadata": {},
   "outputs": [
    {
     "ename": "<console>",
     "evalue": "84",
     "output_type": "error",
     "traceback": [
      "\u001b[1;31m<console>:84: error: not found: value run\u001b[0;0m",
      "\u001b[1;31m       es => choices(run(es)(n))(es)\u001b[0;0m",
      "\u001b[1;31m                     ^\u001b[0;0m"
     ]
    }
   ],
   "source": [
    "// id : ex_7.11\n",
    "def choiceN[A](n: Par[Int])(choices: List[Par[A]]): Par[A] =\n",
    "    es => choices(run(es)(n))(es)"
   ]
  },
  {
   "cell_type": "code",
   "execution_count": null,
   "metadata": {},
   "outputs": [],
   "source": []
  },
  {
   "cell_type": "code",
   "execution_count": null,
   "metadata": {},
   "outputs": [],
   "source": []
  }
 ],
 "metadata": {
  "kernelspec": {
   "display_name": "Scala",
   "language": "scala",
   "name": "scala"
  },
  "language_info": {
   "codemirror_mode": "text/x-scala",
   "file_extension": ".scala",
   "mimetype": "",
   "name": "Scala",
   "nbconverter_exporter": "",
   "version": "2.11.12"
  }
 },
 "nbformat": 4,
 "nbformat_minor": 2
}
