{
 "cells": [
  {
   "cell_type": "code",
   "execution_count": 1,
   "metadata": {},
   "outputs": [
    {
     "data": {
      "text/plain": [
       "$line15.$read$$iw$$iw$Par$@7e52d247"
      ]
     },
     "execution_count": 1,
     "metadata": {},
     "output_type": "execute_result"
    }
   ],
   "source": [
    "// id : ex_7.1\n",
    "\n",
    "class Par[A](ap : () => A) {\n",
    "    \n",
    "    val a : () => A = ap\n",
    "        \n",
    "    def get : A = a()\n",
    "    \n",
    "}\n",
    "\n",
    "object Par {\n",
    "    \n",
    "    def unit[A](a : => A) : Par[A] = new Par(() => a)\n",
    "\n",
    "    def map2[A,B,C](pa : Par[A], pb: Par[B])(f: (A, B) => C): Par[C] = {\n",
    "        unit(f(pa.get,pb.get))\n",
    "    }\n",
    "    \n",
    "}\n"
   ]
  },
  {
   "cell_type": "code",
   "execution_count": 2,
   "metadata": {},
   "outputs": [
    {
     "data": {
      "text/plain": [
       "sum: (ints: IndexedSeq[Int])Par[Int]\n"
      ]
     },
     "execution_count": 2,
     "metadata": {},
     "output_type": "execute_result"
    }
   ],
   "source": [
    "def sum(ints: IndexedSeq[Int]): Par[Int] = \n",
    "    if (ints.size <= 1) Par.unit(ints.headOption getOrElse 0) \n",
    "    else {\n",
    "        val (l,r) = ints.splitAt(ints.length/2)\n",
    "        Par.map2(sum(l), sum(r))(_ + _)\n",
    "    }"
   ]
  },
  {
   "cell_type": "code",
   "execution_count": 3,
   "metadata": {},
   "outputs": [
    {
     "data": {
      "text/plain": [
       "15"
      ]
     },
     "execution_count": 3,
     "metadata": {},
     "output_type": "execute_result"
    }
   ],
   "source": [
    "sum(IndexedSeq(1,2,3,4,5)).get"
   ]
  },
  {
   "cell_type": "code",
   "execution_count": null,
   "metadata": {},
   "outputs": [],
   "source": []
  }
 ],
 "metadata": {
  "kernelspec": {
   "display_name": "Scala",
   "language": "scala",
   "name": "scala"
  },
  "language_info": {
   "codemirror_mode": "text/x-scala",
   "file_extension": ".scala",
   "mimetype": "",
   "name": "Scala",
   "nbconverter_exporter": "",
   "version": "2.11.12"
  }
 },
 "nbformat": 4,
 "nbformat_minor": 2
}
