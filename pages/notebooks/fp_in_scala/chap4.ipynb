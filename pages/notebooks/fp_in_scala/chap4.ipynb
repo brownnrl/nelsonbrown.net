{
 "cells": [
  {
   "cell_type": "code",
   "execution_count": 1,
   "metadata": {},
   "outputs": [
    {
     "data": {
      "text/plain": [
       "None"
      ]
     },
     "execution_count": 1,
     "metadata": {},
     "output_type": "execute_result"
    }
   ],
   "source": [
    "// id : ex_4.1\n",
    "sealed trait Option[+A] {\n",
    "    def map[B](f: A => B) : Option[B] = {\n",
    "        this match {\n",
    "            case Some(a) => Some(f(a))\n",
    "            case None => None\n",
    "        }\n",
    "    }\n",
    "    def flatMap[B](f: A => Option[B]) : Option[B] = {\n",
    "        this match {\n",
    "            case Some(a) => f(a)\n",
    "            case None => None\n",
    "        }\n",
    "    }\n",
    "    def getOrElse[B >: A](default: => B) : B = {\n",
    "        this match {\n",
    "            case Some(a) => a\n",
    "            case None => default\n",
    "        }\n",
    "    }\n",
    "    def orElse[B >: A](ob: => Option[B]) : Option[B] = {\n",
    "        this match {\n",
    "            case Some(a) => Some(a)\n",
    "            case None => ob\n",
    "        }\n",
    "    }\n",
    "    def filter(f: A => Boolean) : Option[A] = {\n",
    "        this match {\n",
    "            case Some(a) => if( f(a) ) { this } else { None }\n",
    "            case None => None\n",
    "        }\n",
    "    }\n",
    "}\n",
    "case class Some[+A](get: A) extends Option[A]\n",
    "case object None extends Option[Nothing]"
   ]
  },
  {
   "cell_type": "code",
   "execution_count": 2,
   "metadata": {},
   "outputs": [
    {
     "name": "stdout",
     "output_type": "stream",
     "text": [
      "Some(4)\n",
      "None\n",
      "Some(\"3\")\n",
      "None\n",
      "None\n",
      "3\n",
      "6\n",
      "Some(3)\n",
      "Some(4)\n",
      "None\n",
      "None\n",
      "Some(3)\n",
      "None\n"
     ]
    },
    {
     "data": {
      "text/plain": [
       "null"
      ]
     },
     "execution_count": 2,
     "metadata": {},
     "output_type": "execute_result"
    }
   ],
   "source": [
    "// id : try ex_4.1\n",
    "println(Some(3).map(_ + 1))\n",
    "val NoneInt : Option[Int] = None\n",
    "println(NoneInt.map(_ + 1))\n",
    "println(Some(3).flatMap((e : Int) => Some(\"\\\"\" + e.toString + \"\\\"\")))\n",
    "println(Some(3).flatMap((e : Int) => None))\n",
    "println(NoneInt.flatMap((e : Int) => Some(\"\\\"\" + e.toString + \"\\\"\")))\n",
    "println(Some(3).getOrElse(6))\n",
    "println(None.getOrElse(6))\n",
    "println(Some(3).orElse(Some(4)))\n",
    "println(None.orElse(Some(4)))\n",
    "println(None.orElse(None))\n",
    "println(Some(3).filter(_==2))\n",
    "println(Some(3).filter(_==3))\n",
    "println(None.filter(_==3))"
   ]
  },
  {
   "cell_type": "code",
   "execution_count": 3,
   "metadata": {},
   "outputs": [
    {
     "data": {
      "text/plain": [
       "variance: (xs: Seq[Double])Option[Double]\n"
      ]
     },
     "execution_count": 3,
     "metadata": {},
     "output_type": "execute_result"
    }
   ],
   "source": [
    "// id : ex_4.2\n",
    "def variance(xs: Seq[Double]) : Option[Double] = {\n",
    "    if (xs.isEmpty) {\n",
    "        None\n",
    "    } else {\n",
    "        val size = xs.size\n",
    "        val mean = xs.sum / size\n",
    "        val sigma = xs.map((e: Double) => (math.pow(e-mean,2))).sum / size\n",
    "        Some(sigma)\n",
    "    }\n",
    "}"
   ]
  },
  {
   "cell_type": "code",
   "execution_count": 4,
   "metadata": {},
   "outputs": [
    {
     "name": "stdout",
     "output_type": "stream",
     "text": [
      "Some(21704.0)\n",
      "Some(1.0)\n",
      "Some(0.0)\n",
      "None\n"
     ]
    },
    {
     "data": {
      "text/plain": [
       "null"
      ]
     },
     "execution_count": 4,
     "metadata": {},
     "output_type": "execute_result"
    }
   ],
   "source": [
    "// id : try ex_4.2\n",
    "println(variance(Seq(600,470,170,430,300)))\n",
    "// http://www.mathsisfun.com/data/standard-deviation.html :)\n",
    "println(variance(Seq(1,3)))\n",
    "println(variance(Seq(1)))\n",
    "println(variance(Seq()))"
   ]
  },
  {
   "cell_type": "code",
   "execution_count": 5,
   "metadata": {},
   "outputs": [
    {
     "data": {
      "text/plain": [
       "Try: [A](a: => A)Option[A]\n"
      ]
     },
     "execution_count": 5,
     "metadata": {},
     "output_type": "execute_result"
    }
   ],
   "source": [
    "def Try[A](a : => A): Option[A] = try Some(a) catch { case e: Exception => None }"
   ]
  },
  {
   "cell_type": "code",
   "execution_count": 6,
   "metadata": {},
   "outputs": [
    {
     "data": {
      "text/plain": [
       "map2: [A, B, C](a: Option[A], b: Option[B])(f: (A, B) => C)Option[C]\n"
      ]
     },
     "execution_count": 6,
     "metadata": {},
     "output_type": "execute_result"
    }
   ],
   "source": [
    "// id : ex_4.3\n",
    "\n",
    "def map2[A, B, C](a: Option[A], b: Option[B])(f: (A, B) => C) : Option[C] = {\n",
    "    a match {\n",
    "        case None => None\n",
    "        case Some(ak) => {\n",
    "            b match {\n",
    "                case None => None\n",
    "                case Some(bk) => Try(f(ak, bk))\n",
    "            }\n",
    "        }\n",
    "    }\n",
    "}"
   ]
  },
  {
   "cell_type": "code",
   "execution_count": 7,
   "metadata": {},
   "outputs": [
    {
     "name": "stdout",
     "output_type": "stream",
     "text": [
      "Some(1213)\n",
      "None\n"
     ]
    },
    {
     "data": {
      "text/plain": [
       "null"
      ]
     },
     "execution_count": 7,
     "metadata": {},
     "output_type": "execute_result"
    }
   ],
   "source": [
    "// id : try ex_4.3\n",
    "\n",
    "def maybeFails(x : String, y : String) : Int = (x + y).toInt\n",
    "println(map2(Some(\"12\"), Some(\"13\"))(maybeFails))\n",
    "println(map2(Some(\"12\"), Some(\"ab\"))(maybeFails))"
   ]
  },
  {
   "cell_type": "code",
   "execution_count": 12,
   "metadata": {},
   "outputs": [
    {
     "data": {
      "text/plain": [
       "sequence: [A](as: List[Option[A]])Option[List[A]]\n"
      ]
     },
     "execution_count": 12,
     "metadata": {},
     "output_type": "execute_result"
    }
   ],
   "source": [
    "// id : ex_4.4\n",
    "\n",
    "def sequence[A](as : List[Option[A]]) : Option[List[A]] = {\n",
    "    as match {\n",
    "        case Nil => Some(Nil)\n",
    "        case x::xs => x match {\n",
    "            case None => None\n",
    "            case Some(b) => map2(x, sequence(xs))(_ :: _)\n",
    "        }\n",
    "    }\n",
    "}"
   ]
  },
  {
   "cell_type": "code",
   "execution_count": 14,
   "metadata": {},
   "outputs": [
    {
     "name": "stdout",
     "output_type": "stream",
     "text": [
      "Some(List(A, B, C))\n",
      "None\n"
     ]
    },
    {
     "data": {
      "text/plain": [
       "null"
      ]
     },
     "execution_count": 14,
     "metadata": {},
     "output_type": "execute_result"
    }
   ],
   "source": [
    "// id : try ex_4.4\n",
    "\n",
    "println(sequence(List(Some(\"A\"), Some(\"B\"), Some(\"C\"))))\n",
    "println(sequence(List(Some(\"A\"), None, Some(\"C\"))))"
   ]
  },
  {
   "cell_type": "code",
   "execution_count": null,
   "metadata": {},
   "outputs": [],
   "source": []
  }
 ],
 "metadata": {
  "kernelspec": {
   "display_name": "Scala",
   "language": "scala",
   "name": "scala"
  },
  "language_info": {
   "codemirror_mode": "text/x-scala",
   "file_extension": ".scala",
   "mimetype": "",
   "name": "Scala",
   "nbconverter_exporter": "",
   "version": "2.11.12"
  }
 },
 "nbformat": 4,
 "nbformat_minor": 2
}
