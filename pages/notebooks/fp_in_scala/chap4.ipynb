{
 "cells": [
  {
   "cell_type": "code",
   "execution_count": 1,
   "metadata": {},
   "outputs": [
    {
     "data": {
      "text/plain": [
       "None"
      ]
     },
     "execution_count": 1,
     "metadata": {},
     "output_type": "execute_result"
    }
   ],
   "source": [
    "// id : ex_4.1\n",
    "sealed trait Option[+A] {\n",
    "    def map[B](f: A => B) : Option[B] = {\n",
    "        this match {\n",
    "            case Some(a) => Some(f(a))\n",
    "            case None => None\n",
    "        }\n",
    "    }\n",
    "    def flatMap[B](f: A => Option[B]) : Option[B] = {\n",
    "        this match {\n",
    "            case Some(a) => f(a)\n",
    "            case None => None\n",
    "        }\n",
    "    }\n",
    "    def getOrElse[B >: A](default: => B) : B = {\n",
    "        this match {\n",
    "            case Some(a) => a\n",
    "            case None => default\n",
    "        }\n",
    "    }\n",
    "    def orElse[B >: A](ob: => Option[B]) : Option[B] = {\n",
    "        this match {\n",
    "            case Some(a) => Some(a)\n",
    "            case None => ob\n",
    "        }\n",
    "    }\n",
    "    def filter(f: A => Boolean) : Option[A] = {\n",
    "        this match {\n",
    "            case Some(a) => if( f(a) ) { this } else { None }\n",
    "            case None => None\n",
    "        }\n",
    "    }\n",
    "}\n",
    "case class Some[+A](get: A) extends Option[A]\n",
    "case object None extends Option[Nothing]"
   ]
  },
  {
   "cell_type": "code",
   "execution_count": 5,
   "metadata": {},
   "outputs": [
    {
     "name": "stdout",
     "output_type": "stream",
     "text": [
      "Some(4)\n",
      "None\n"
     ]
    },
    {
     "data": {
      "text/plain": [
       "null"
      ]
     },
     "execution_count": 5,
     "metadata": {},
     "output_type": "execute_result"
    }
   ],
   "source": [
    "// id : try ex_4.1\n",
    "println(Some(3).map(_ + 1))\n",
    "val NoneInt : Option[Int] = None\n",
    "println(NoneInt.map(_ + 1))"
   ]
  },
  {
   "cell_type": "code",
   "execution_count": null,
   "metadata": {},
   "outputs": [],
   "source": []
  }
 ],
 "metadata": {
  "kernelspec": {
   "display_name": "Scala",
   "language": "scala",
   "name": "scala"
  },
  "language_info": {
   "codemirror_mode": "text/x-scala",
   "file_extension": ".scala",
   "mimetype": "",
   "name": "Scala",
   "nbconverter_exporter": "",
   "version": "2.11.12"
  }
 },
 "nbformat": 4,
 "nbformat_minor": 2
}
