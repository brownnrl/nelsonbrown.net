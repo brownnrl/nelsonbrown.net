{
 "cells": [
  {
   "cell_type": "code",
   "execution_count": 1,
   "metadata": {},
   "outputs": [
    {
     "data": {
      "text/plain": [
       "None"
      ]
     },
     "execution_count": 1,
     "metadata": {},
     "output_type": "execute_result"
    }
   ],
   "source": [
    "// id : ex_4.1\n",
    "sealed trait Option[+A] {\n",
    "    def map[B](f: A => B) : Option[B] = {\n",
    "        this match {\n",
    "            case Some(a) => Some(f(a))\n",
    "            case None => None\n",
    "        }\n",
    "    }\n",
    "    def flatMap[B](f: A => Option[B]) : Option[B] = {\n",
    "        this match {\n",
    "            case Some(a) => f(a)\n",
    "            case None => None\n",
    "        }\n",
    "    }\n",
    "    def getOrElse[B >: A](default: => B) : B = {\n",
    "        this match {\n",
    "            case Some(a) => a\n",
    "            case None => default\n",
    "        }\n",
    "    }\n",
    "    def orElse[B >: A](ob: => Option[B]) : Option[B] = {\n",
    "        this match {\n",
    "            case Some(a) => Some(a)\n",
    "            case None => ob\n",
    "        }\n",
    "    }\n",
    "    def filter(f: A => Boolean) : Option[A] = {\n",
    "        this match {\n",
    "            case Some(a) => if( f(a) ) { this } else { None }\n",
    "            case None => None\n",
    "        }\n",
    "    }\n",
    "}\n",
    "case class Some[+A](get: A) extends Option[A]\n",
    "case object None extends Option[Nothing]"
   ]
  },
  {
   "cell_type": "code",
   "execution_count": 2,
   "metadata": {},
   "outputs": [
    {
     "name": "stdout",
     "output_type": "stream",
     "text": [
      "Some(4)\n",
      "None\n",
      "Some(\"3\")\n",
      "None\n",
      "None\n",
      "3\n",
      "6\n",
      "Some(3)\n",
      "Some(4)\n",
      "None\n",
      "None\n",
      "Some(3)\n",
      "None\n"
     ]
    },
    {
     "data": {
      "text/plain": [
       "null"
      ]
     },
     "execution_count": 2,
     "metadata": {},
     "output_type": "execute_result"
    }
   ],
   "source": [
    "// id : try ex_4.1\n",
    "println(Some(3).map(_ + 1))\n",
    "val NoneInt : Option[Int] = None\n",
    "println(NoneInt.map(_ + 1))\n",
    "println(Some(3).flatMap((e : Int) => Some(\"\\\"\" + e.toString + \"\\\"\")))\n",
    "println(Some(3).flatMap((e : Int) => None))\n",
    "println(NoneInt.flatMap((e : Int) => Some(\"\\\"\" + e.toString + \"\\\"\")))\n",
    "println(Some(3).getOrElse(6))\n",
    "println(None.getOrElse(6))\n",
    "println(Some(3).orElse(Some(4)))\n",
    "println(None.orElse(Some(4)))\n",
    "println(None.orElse(None))\n",
    "println(Some(3).filter(_==2))\n",
    "println(Some(3).filter(_==3))\n",
    "println(None.filter(_==3))"
   ]
  },
  {
   "cell_type": "code",
   "execution_count": 3,
   "metadata": {},
   "outputs": [
    {
     "data": {
      "text/plain": [
       "variance: (xs: Seq[Double])Option[Double]\n"
      ]
     },
     "execution_count": 3,
     "metadata": {},
     "output_type": "execute_result"
    }
   ],
   "source": [
    "// id : ex_4.2\n",
    "def variance(xs: Seq[Double]) : Option[Double] = {\n",
    "    if (xs.isEmpty) {\n",
    "        None\n",
    "    } else {\n",
    "        val size = xs.size\n",
    "        val mean = xs.sum / size\n",
    "        val sigma = xs.map((e: Double) => (math.pow(e-mean,2))).sum / size\n",
    "        Some(sigma)\n",
    "    }\n",
    "}"
   ]
  },
  {
   "cell_type": "code",
   "execution_count": 4,
   "metadata": {},
   "outputs": [
    {
     "name": "stdout",
     "output_type": "stream",
     "text": [
      "Some(21704.0)\n",
      "Some(1.0)\n",
      "Some(0.0)\n",
      "None\n"
     ]
    },
    {
     "data": {
      "text/plain": [
       "null"
      ]
     },
     "execution_count": 4,
     "metadata": {},
     "output_type": "execute_result"
    }
   ],
   "source": [
    "// id : try ex_4.2\n",
    "println(variance(Seq(600,470,170,430,300)))\n",
    "// http://www.mathsisfun.com/data/standard-deviation.html :)\n",
    "println(variance(Seq(1,3)))\n",
    "println(variance(Seq(1)))\n",
    "println(variance(Seq()))"
   ]
  },
  {
   "cell_type": "code",
   "execution_count": 5,
   "metadata": {},
   "outputs": [
    {
     "data": {
      "text/plain": [
       "Try: [A](a: => A)Option[A]\n"
      ]
     },
     "execution_count": 5,
     "metadata": {},
     "output_type": "execute_result"
    }
   ],
   "source": [
    "def Try[A](a : => A): Option[A] = try Some(a) catch { case e: Exception => None }"
   ]
  },
  {
   "cell_type": "code",
   "execution_count": 6,
   "metadata": {},
   "outputs": [
    {
     "data": {
      "text/plain": [
       "map2: [A, B, C](a: Option[A], b: Option[B])(f: (A, B) => C)Option[C]\n"
      ]
     },
     "execution_count": 6,
     "metadata": {},
     "output_type": "execute_result"
    }
   ],
   "source": [
    "// id : ex_4.3\n",
    "\n",
    "def map2[A, B, C](a: Option[A], b: Option[B])(f: (A, B) => C) : Option[C] = {\n",
    "    a match {\n",
    "        case None => None\n",
    "        case Some(ak) => {\n",
    "            b match {\n",
    "                case None => None\n",
    "                case Some(bk) => Try(f(ak, bk))\n",
    "            }\n",
    "        }\n",
    "    }\n",
    "}"
   ]
  },
  {
   "cell_type": "code",
   "execution_count": 7,
   "metadata": {},
   "outputs": [
    {
     "name": "stdout",
     "output_type": "stream",
     "text": [
      "Some(1213)\n",
      "None\n"
     ]
    },
    {
     "data": {
      "text/plain": [
       "null"
      ]
     },
     "execution_count": 7,
     "metadata": {},
     "output_type": "execute_result"
    }
   ],
   "source": [
    "// id : try ex_4.3\n",
    "\n",
    "def maybeFails(x : String, y : String) : Int = (x + y).toInt\n",
    "println(map2(Some(\"12\"), Some(\"13\"))(maybeFails))\n",
    "println(map2(Some(\"12\"), Some(\"ab\"))(maybeFails))"
   ]
  },
  {
   "cell_type": "code",
   "execution_count": 8,
   "metadata": {},
   "outputs": [
    {
     "data": {
      "text/plain": [
       "sequence: [A](as: List[Option[A]])Option[List[A]]\n"
      ]
     },
     "execution_count": 8,
     "metadata": {},
     "output_type": "execute_result"
    }
   ],
   "source": [
    "// id : ex_4.4\n",
    "\n",
    "def sequence[A](as : List[Option[A]]) : Option[List[A]] = {\n",
    "    as match {\n",
    "        case Nil => Some(Nil)\n",
    "        case x::xs => x match {\n",
    "            case None => None\n",
    "            case Some(b) => map2(x, sequence(xs))(_ :: _)\n",
    "        }\n",
    "    }\n",
    "}"
   ]
  },
  {
   "cell_type": "code",
   "execution_count": 9,
   "metadata": {},
   "outputs": [
    {
     "name": "stdout",
     "output_type": "stream",
     "text": [
      "Some(List(A, B, C))\n",
      "None\n"
     ]
    },
    {
     "data": {
      "text/plain": [
       "null"
      ]
     },
     "execution_count": 9,
     "metadata": {},
     "output_type": "execute_result"
    }
   ],
   "source": [
    "// id : try ex_4.4\n",
    "\n",
    "println(sequence(List(Some(\"A\"), Some(\"B\"), Some(\"C\"))))\n",
    "println(sequence(List(Some(\"A\"), None, Some(\"C\"))))"
   ]
  },
  {
   "cell_type": "code",
   "execution_count": 10,
   "metadata": {},
   "outputs": [
    {
     "data": {
      "text/plain": [
       "traverse: [A, B](as: List[A])(f: A => Option[B])Option[List[B]]\n",
       "seq_traverse: [A](as: List[Option[A]])Option[List[A]]\n"
      ]
     },
     "execution_count": 10,
     "metadata": {},
     "output_type": "execute_result"
    }
   ],
   "source": [
    "// id : ex_4.5\n",
    "def traverse[A, B](as: List[A])(f: A => Option[B]) : Option[List[B]] = {\n",
    "    as match {\n",
    "        case Nil => Some(Nil)\n",
    "        case x::xs => f(x) match {\n",
    "            case None => None\n",
    "            case Some(b) => map2(Some(b), traverse(xs)(f))(_ :: _)\n",
    "        }\n",
    "    }\n",
    "}\n",
    "\n",
    "def seq_traverse[A](as : List[Option[A]]) : Option[List[A]] = traverse(as)(x => x)"
   ]
  },
  {
   "cell_type": "code",
   "execution_count": 11,
   "metadata": {},
   "outputs": [
    {
     "name": "stdout",
     "output_type": "stream",
     "text": [
      "Some(List(A, B, C))\n",
      "None\n",
      "Some(List(1, 2, 3))\n",
      "None\n"
     ]
    },
    {
     "data": {
      "text/plain": [
       "null"
      ]
     },
     "execution_count": 11,
     "metadata": {},
     "output_type": "execute_result"
    }
   ],
   "source": [
    "// id : try ex_4.5\n",
    "\n",
    "def tryToInt(i : String) = Try(i.toInt)\n",
    "\n",
    "println(seq_traverse(List(Some(\"A\"), Some(\"B\"), Some(\"C\"))))\n",
    "println(seq_traverse(List(Some(\"A\"), None, Some(\"C\"))))\n",
    "println(traverse(List(\"1\", \"2\", \"3\"))(tryToInt))\n",
    "println(traverse(List(\"1\", \"2\", \"\"))(tryToInt))"
   ]
  },
  {
   "cell_type": "code",
   "execution_count": 12,
   "metadata": {},
   "outputs": [
    {
     "data": {
      "text/plain": [
       "defined trait Either\n",
       "defined class Left\n",
       "defined class Right\n"
      ]
     },
     "execution_count": 12,
     "metadata": {},
     "output_type": "execute_result"
    }
   ],
   "source": [
    "// id : ex_4.6\n",
    "sealed trait Either[+E, +A] {\n",
    "    // def map[B1](f: B => B1): Either[A, B1] = this match {\n",
    "    def map[B](f: A => B): Either[E, B] = this match {\n",
    "        case Left(_) => this.asInstanceOf[Either[E,B]]\n",
    "        case Right(r) => Right(f(r))\n",
    "    }\n",
    "    \n",
    "    def flatMap[EE >: E, B](f: A => Either[EE, B]) : Either[EE, B] = this match {\n",
    "        case Left(_) => this.asInstanceOf[Either[EE, B]]\n",
    "        case Right(a) => f(a)\n",
    "    }\n",
    "    \n",
    "    def orElse[EE >: E, B](b: => Either[EE, B]) : Either[EE, B] = this match {\n",
    "        case Left(_) => b\n",
    "        case Right(_) => this.asInstanceOf[Either[EE,B]]\n",
    "    }\n",
    "\n",
    "    def map2[EE >: E, B, C](b: Either[EE, B])(f: (A, B) => C): Either[EE, C] = this match {\n",
    "        case Left(_) => this.asInstanceOf[Either[EE, C]]\n",
    "        case Right(a) => {\n",
    "            b match {\n",
    "                case Left(_) => b.asInstanceOf[Either[EE,C]]\n",
    "                case Right(bk) => Right(f(a, bk))\n",
    "            }\n",
    "        }\n",
    "    }\n",
    "}\n",
    "case class Left[+E, +A](value: E) extends Either[E, A]\n",
    "case class Right[+E, +A](value: A) extends Either[E, A]"
   ]
  },
  {
   "cell_type": "code",
   "execution_count": 13,
   "metadata": {},
   "outputs": [
    {
     "name": "stdout",
     "output_type": "stream",
     "text": [
      "Left(bad)\n",
      "Right(4)\n",
      "Left(bad)\n",
      "Right(4)\n",
      "Left(Super bad)\n",
      "Right(3)\n",
      "Right(-2)\n",
      "Right(0)\n",
      "Left(bad)\n",
      "Left(bad)\n"
     ]
    },
    {
     "data": {
      "text/plain": [
       "null"
      ]
     },
     "execution_count": 13,
     "metadata": {},
     "output_type": "execute_result"
    }
   ],
   "source": [
    "// id : try ex_4.6\n",
    "val x : Either[String, Int] = Left(\"bad\")\n",
    "val y : Either[String, Int] = Right(3)\n",
    "val z : Either[String, Int] = Right(-2)\n",
    "println(x.map(_ + 1))\n",
    "println(y.map(_+1))\n",
    "def checkGood(x : Int) : Either[String, Int] = {\n",
    "    if( x >= 0 ) {\n",
    "        Right(x+1)\n",
    "    } else {\n",
    "        Left(\"Super bad\")\n",
    "    }\n",
    "}\n",
    "println(x.flatMap(checkGood))\n",
    "println(y.flatMap(checkGood))\n",
    "println(z.flatMap(checkGood))\n",
    "println(x.orElse(y))\n",
    "println(z.orElse(y))\n",
    "val add = ((x : Int , y : Int) => x + y - 1)\n",
    "println(y.map2(z)(add)) // should be zero\n",
    "println(y.map2(x)(add)) // should be \"bad\"\n",
    "println(x.map2(y)(add)) // should be \"bad\""
   ]
  },
  {
   "cell_type": "code",
   "execution_count": 14,
   "metadata": {},
   "outputs": [
    {
     "data": {
      "text/plain": [
       "traverse: [E, A, B](as: List[A])(f: A => Either[E,B])Either[E,List[B]]\n",
       "sequence: [E, A](as: List[Either[E,A]])Either[E,List[A]]\n"
      ]
     },
     "execution_count": 14,
     "metadata": {},
     "output_type": "execute_result"
    }
   ],
   "source": [
    "// id : ex_4.7\n",
    "\n",
    "def traverse[E, A, B](as: List[A])(f: A => Either[E, B]) : Either[E, List[B]] = {\n",
    "    as match {\n",
    "        case Nil => Right(Nil)\n",
    "        case x::xs => f(x) match {\n",
    "            case Left(e) => Left(e)\n",
    "            case Right(b) => Right(b).map2(traverse(xs)(f))(_ :: _)\n",
    "        }\n",
    "    }\n",
    "}\n",
    "\n",
    "def sequence[E, A](as : List[Either[E, A]]) : Either[E, List[A]] = traverse(as)(x => x)"
   ]
  },
  {
   "cell_type": "code",
   "execution_count": 20,
   "metadata": {},
   "outputs": [
    {
     "name": "stdout",
     "output_type": "stream",
     "text": [
      "Right(List(1, 2, 3))\n",
      "Left(Bad)\n",
      "Right(List(1, 2, 3))\n",
      "Left(Not a numba!)\n"
     ]
    },
    {
     "data": {
      "text/plain": [
       "null"
      ]
     },
     "execution_count": 20,
     "metadata": {},
     "output_type": "execute_result"
    }
   ],
   "source": [
    "// id : try ex_4.7\n",
    "def tryToInt(i : String) : Either[String, Int] = {\n",
    "    Try(i.toInt) match {\n",
    "        case None => Left(\"Not a numba!\")\n",
    "        case Some(x) => Right(x)\n",
    "    }\n",
    "}\n",
    "\n",
    "val w : List[Either[String, Int]] = List(Right(1), Right(2), Right(3))\n",
    "println(sequence(w))\n",
    "\n",
    "val x : List[Either[String, Int]] = List(Right(1), Left(\"Bad\"), Right(3))\n",
    "println(sequence(x))\n",
    "\n",
    "val y : List[String] = List(\"1\", \"2\", \"3\")\n",
    "println(traverse(y)(tryToInt))\n",
    "\n",
    "val z : List[String] = List(\"1\", \"2\", \"\")\n",
    "println(traverse(z)(tryToInt))\n"
   ]
  },
  {
   "cell_type": "code",
   "execution_count": null,
   "metadata": {},
   "outputs": [],
   "source": []
  }
 ],
 "metadata": {
  "kernelspec": {
   "display_name": "Scala",
   "language": "scala",
   "name": "scala"
  },
  "language_info": {
   "codemirror_mode": "text/x-scala",
   "file_extension": ".scala",
   "mimetype": "",
   "name": "Scala",
   "nbconverter_exporter": "",
   "version": "2.11.12"
  }
 },
 "nbformat": 4,
 "nbformat_minor": 2
}
