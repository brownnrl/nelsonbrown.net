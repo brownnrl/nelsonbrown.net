{
 "cells": [
  {
   "cell_type": "code",
   "execution_count": 1,
   "metadata": {},
   "outputs": [
    {
     "data": {
      "text/plain": [
       "None"
      ]
     },
     "execution_count": 1,
     "metadata": {},
     "output_type": "execute_result"
    }
   ],
   "source": [
    "// id : ex_4.1\n",
    "sealed trait Option[+A] {\n",
    "    def map[B](f: A => B) : Option[B] = {\n",
    "        this match {\n",
    "            case Some(a) => Some(f(a))\n",
    "            case None => None\n",
    "        }\n",
    "    }\n",
    "    def flatMap[B](f: A => Option[B]) : Option[B] = {\n",
    "        this match {\n",
    "            case Some(a) => f(a)\n",
    "            case None => None\n",
    "        }\n",
    "    }\n",
    "    def getOrElse[B >: A](default: => B) : B = {\n",
    "        this match {\n",
    "            case Some(a) => a\n",
    "            case None => default\n",
    "        }\n",
    "    }\n",
    "    def orElse[B >: A](ob: => Option[B]) : Option[B] = {\n",
    "        this match {\n",
    "            case Some(a) => Some(a)\n",
    "            case None => ob\n",
    "        }\n",
    "    }\n",
    "    def filter(f: A => Boolean) : Option[A] = {\n",
    "        this match {\n",
    "            case Some(a) => if( f(a) ) { this } else { None }\n",
    "            case None => None\n",
    "        }\n",
    "    }\n",
    "}\n",
    "case class Some[+A](get: A) extends Option[A]\n",
    "case object None extends Option[Nothing]"
   ]
  },
  {
   "cell_type": "code",
   "execution_count": 17,
   "metadata": {},
   "outputs": [
    {
     "name": "stdout",
     "output_type": "stream",
     "text": [
      "Some(4)\n",
      "None\n",
      "Some(\"3\")\n",
      "None\n",
      "None\n",
      "3\n",
      "6\n",
      "Some(3)\n",
      "Some(4)\n",
      "None\n",
      "None\n",
      "Some(3)\n",
      "None\n"
     ]
    },
    {
     "data": {
      "text/plain": [
       "null"
      ]
     },
     "execution_count": 17,
     "metadata": {},
     "output_type": "execute_result"
    }
   ],
   "source": [
    "// id : try ex_4.1\n",
    "println(Some(3).map(_ + 1))\n",
    "val NoneInt : Option[Int] = None\n",
    "println(NoneInt.map(_ + 1))\n",
    "println(Some(3).flatMap((e : Int) => Some(\"\\\"\" + e.toString + \"\\\"\")))\n",
    "println(Some(3).flatMap((e : Int) => None))\n",
    "println(NoneInt.flatMap((e : Int) => Some(\"\\\"\" + e.toString + \"\\\"\")))\n",
    "println(Some(3).getOrElse(6))\n",
    "println(None.getOrElse(6))\n",
    "println(Some(3).orElse(Some(4)))\n",
    "println(None.orElse(Some(4)))\n",
    "println(None.orElse(None))\n",
    "println(Some(3).filter(_==2))\n",
    "println(Some(3).filter(_==3))\n",
    "println(None.filter(_==3))"
   ]
  },
  {
   "cell_type": "code",
   "execution_count": 24,
   "metadata": {},
   "outputs": [
    {
     "data": {
      "text/plain": [
       "variance: (xs: Seq[Double])Option[Double]\n"
      ]
     },
     "execution_count": 24,
     "metadata": {},
     "output_type": "execute_result"
    }
   ],
   "source": [
    "// id : ex_4.2\n",
    "def variance(xs: Seq[Double]) : Option[Double] = {\n",
    "    if (xs.isEmpty) {\n",
    "        None\n",
    "    } else {\n",
    "        val size = xs.size\n",
    "        val mean = xs.sum / size\n",
    "        val sigma = xs.map((e: Double) => (math.pow(e-mean,2))).sum / size\n",
    "        Some(sigma)\n",
    "    }\n",
    "}"
   ]
  },
  {
   "cell_type": "code",
   "execution_count": 31,
   "metadata": {},
   "outputs": [
    {
     "name": "stdout",
     "output_type": "stream",
     "text": [
      "Some(21704.0)\n",
      "Some(1.0)\n",
      "Some(0.0)\n",
      "None\n"
     ]
    },
    {
     "data": {
      "text/plain": [
       "null"
      ]
     },
     "execution_count": 31,
     "metadata": {},
     "output_type": "execute_result"
    }
   ],
   "source": [
    "// id : try ex_4.2\n",
    "println(variance(Seq(600,470,170,430,300)))\n",
    "// http://www.mathsisfun.com/data/standard-deviation.html :)\n",
    "println(variance(Seq(1,3)))\n",
    "println(variance(Seq(1)))\n",
    "println(variance(Seq()))"
   ]
  },
  {
   "cell_type": "code",
   "execution_count": null,
   "metadata": {},
   "outputs": [],
   "source": []
  }
 ],
 "metadata": {
  "kernelspec": {
   "display_name": "Scala",
   "language": "scala",
   "name": "scala"
  },
  "language_info": {
   "codemirror_mode": "text/x-scala",
   "file_extension": ".scala",
   "mimetype": "",
   "name": "Scala",
   "nbconverter_exporter": "",
   "version": "2.11.12"
  }
 },
 "nbformat": 4,
 "nbformat_minor": 2
}
