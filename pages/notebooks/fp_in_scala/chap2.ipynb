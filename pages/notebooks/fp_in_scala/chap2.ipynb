{
 "cells": [
  {
   "cell_type": "code",
   "execution_count": 1,
   "metadata": {},
   "outputs": [
    {
     "data": {
      "text/plain": [
       "import scala.annotation.tailrec\n",
       "fib_help: (a: Int, b: Int, n: Int)Int\n",
       "fib: (n: Int)Int\n"
      ]
     },
     "execution_count": 1,
     "metadata": {},
     "output_type": "execute_result"
    }
   ],
   "source": [
    "// id: ex_2.1\n",
    "import scala.annotation.tailrec\n",
    "/* from https://stackoverflow.com/questions/22111252/tail-recursion-fibonacci\n",
    "def fib(n):\n",
    "  def fib_help(a, b, n):\n",
    "    return fib_help(b, a+b, n-1) if n > 0 else a\n",
    "  return fib_help(0, 1, n)\n",
    "*/\n",
    "@tailrec\n",
    "final def fib_help(a: Int, b: Int, n: Int) : Int = {\n",
    "    if (n > 0) {\n",
    "        return fib_help(b, a+b, n-1) \n",
    "    } else a\n",
    "}\n",
    "\n",
    "def fib(n: Int) : Int = {\n",
    "    return fib_help(0, 1, n)\n",
    "}"
   ]
  },
  {
   "cell_type": "code",
   "execution_count": 2,
   "metadata": {},
   "outputs": [
    {
     "data": {
      "text/plain": [
       "428607904"
      ]
     },
     "execution_count": 2,
     "metadata": {},
     "output_type": "execute_result"
    }
   ],
   "source": [
    "// id: try ex_2.1\n",
    "fib(120)"
   ]
  },
  {
   "cell_type": "code",
   "execution_count": 3,
   "metadata": {},
   "outputs": [
    {
     "data": {
      "text/plain": [
       "isSorted: [A](as: List[A], ordered: (A, A) => Boolean)Boolean\n"
      ]
     },
     "execution_count": 3,
     "metadata": {},
     "output_type": "execute_result"
    }
   ],
   "source": [
    "// id: ex_2.2\n",
    "@tailrec\n",
    "final def isSorted[A](as: List[A], ordered: (A,A) => Boolean) : Boolean = {\n",
    "    as match {\n",
    "        case Nil => true\n",
    "        case a1::Nil => true\n",
    "        case a1::a2::as => {\n",
    "            if (!ordered(a1, a2)) {\n",
    "                false\n",
    "            } else {\n",
    "                isSorted(a2::as, ordered)\n",
    "            }\n",
    "        }\n",
    "    }\n",
    "}"
   ]
  },
  {
   "cell_type": "code",
   "execution_count": 4,
   "metadata": {},
   "outputs": [
    {
     "data": {
      "text/plain": [
       "false"
      ]
     },
     "execution_count": 4,
     "metadata": {},
     "output_type": "execute_result"
    }
   ],
   "source": [
    "// id : try ex_2.2 1\n",
    "isSorted(List(1, 2, 4, 3), (a1: Int, a2: Int) => a1 < a2)"
   ]
  },
  {
   "cell_type": "code",
   "execution_count": 5,
   "metadata": {},
   "outputs": [
    {
     "name": "stdout",
     "output_type": "stream",
     "text": [
      "false : List(1, 2, 4, 3)\n",
      "true : List(1, 2, 3, 4)\n",
      "true : List()\n",
      "true : List(1)\n"
     ]
    },
    {
     "data": {
      "text/plain": [
       "null"
      ]
     },
     "execution_count": 5,
     "metadata": {},
     "output_type": "execute_result"
    }
   ],
   "source": [
    "// id: try ex_2.2 2\n",
    "val results = for {\n",
    "    i <- List(List(1, 2, 4, 3), List(1, 2, 3, 4), List(), List(1))\n",
    "    j <- List((i.toString, isSorted(i, (a1 : Int, a2 : Int) => a1 < a2)))\n",
    "} yield j\n",
    "\n",
    "for (r <- results) { println(r._2 + \" : \" + r._1) }"
   ]
  },
  {
   "cell_type": "code",
   "execution_count": 6,
   "metadata": {},
   "outputs": [
    {
     "data": {
      "text/plain": [
       "curry: [A, B, C](f: (A, B) => C)A => (B => C)\n"
      ]
     },
     "execution_count": 6,
     "metadata": {},
     "output_type": "execute_result"
    }
   ],
   "source": [
    "// id: ex2.3\n",
    "def curry[A, B, C](f: (A, B) => C) : A => (B => C) = (a: A) => (b: B) => f(a, b)"
   ]
  },
  {
   "cell_type": "code",
   "execution_count": 7,
   "metadata": {},
   "outputs": [
    {
     "data": {
      "text/plain": [
       "3"
      ]
     },
     "execution_count": 7,
     "metadata": {},
     "output_type": "execute_result"
    }
   ],
   "source": [
    "// id: try ex_2.3\n",
    "def try_curry(a : Int, b : Int) : Int = a + b\n",
    "val my_curry = curry(try_curry)\n",
    "my_curry(1)(2)"
   ]
  },
  {
   "cell_type": "code",
   "execution_count": 8,
   "metadata": {},
   "outputs": [
    {
     "data": {
      "text/plain": [
       "uncurry: [A, B, C](f: A => (B => C))(A, B) => C\n"
      ]
     },
     "execution_count": 8,
     "metadata": {},
     "output_type": "execute_result"
    }
   ],
   "source": [
    "// id: ex2.4\n",
    "def uncurry[A, B, C](f: A => B => C): (A, B) => C = (a, b) => f(a)(b)"
   ]
  },
  {
   "cell_type": "code",
   "execution_count": 9,
   "metadata": {},
   "outputs": [
    {
     "data": {
      "text/plain": [
       "3"
      ]
     },
     "execution_count": 9,
     "metadata": {},
     "output_type": "execute_result"
    }
   ],
   "source": [
    "// id: try ex_2.4\n",
    "uncurry(my_curry)(1, 2)"
   ]
  },
  {
   "cell_type": "code",
   "execution_count": 10,
   "metadata": {},
   "outputs": [
    {
     "data": {
      "text/plain": [
       "compose: [A, B, C](f: B => C, g: A => B)A => C\n"
      ]
     },
     "execution_count": 10,
     "metadata": {},
     "output_type": "execute_result"
    }
   ],
   "source": [
    "// id: ex2.5\n",
    "def compose[A, B, C](f: B => C, g: A => B): A => C = (a) => f(g(a))"
   ]
  },
  {
   "cell_type": "code",
   "execution_count": 11,
   "metadata": {},
   "outputs": [
    {
     "name": "stdout",
     "output_type": "stream",
     "text": [
      "List(2, 3, 4, 5, 6, 7, 8, 9, 0)\n"
     ]
    },
    {
     "data": {
      "text/plain": [
       "null"
      ]
     },
     "execution_count": 11,
     "metadata": {},
     "output_type": "execute_result"
    }
   ],
   "source": [
    "// id: try ex_2.5 1\n",
    "def f(b : Long) : List[String] = b.toString.split(\"1\").flatten.map(x => x.toString).toList\n",
    "\n",
    "println(f(12345678910L))"
   ]
  },
  {
   "cell_type": "code",
   "execution_count": 12,
   "metadata": {},
   "outputs": [
    {
     "name": "stdout",
     "output_type": "stream",
     "text": [
      "List((2,100000000), (3,10000000), (4,1000000), (5,100000), (6,10000), (7,1000), (8,100), (9,10), (0,1))\n"
     ]
    },
    {
     "data": {
      "text/plain": [
       "null"
      ]
     },
     "execution_count": 12,
     "metadata": {},
     "output_type": "execute_result"
    }
   ],
   "source": [
    "// id: try ex_2.5 2\n",
    "def toPowers(as: List[String], p : Long) : List[(Long, Long)] = {\n",
    "    as match {\n",
    "        case \"\"::as => toPowers(as, p)\n",
    "        case \"\"::Nil => List((0, p))\n",
    "        case a::Nil => List((a.toLong, p))\n",
    "        case a::rs => List((a.toLong, p)) ++ toPowers(rs, p/10)\n",
    "    }\n",
    "}\n",
    "val splitList = List(\"2\", \"3\", \"4\", \"5\", \"6\", \"7\", \"8\", \"9\", \"0\")\n",
    "println(toPowers(splitList, scala.math.pow(10, splitList.length-1).toInt))"
   ]
  },
  {
   "cell_type": "code",
   "execution_count": 13,
   "metadata": {},
   "outputs": [
    {
     "name": "stdout",
     "output_type": "stream",
     "text": [
      "234567890\n"
     ]
    },
    {
     "data": {
      "text/plain": [
       "null"
      ]
     },
     "execution_count": 13,
     "metadata": {},
     "output_type": "execute_result"
    }
   ],
   "source": [
    "// id: try ex_2.5 3\n",
    "def g(ks : List[String]) : Long = {\n",
    "    toPowers(ks, scala.math.pow(10, ks.length-1).toLong).map(x => x._1 * x._2).reduce((x, y) => x + y)\n",
    "}\n",
    "\n",
    "println(g(splitList))"
   ]
  },
  {
   "cell_type": "code",
   "execution_count": 14,
   "metadata": {},
   "outputs": [
    {
     "name": "stdout",
     "output_type": "stream",
     "text": [
      "234567890\n"
     ]
    },
    {
     "data": {
      "text/plain": [
       "null"
      ]
     },
     "execution_count": 14,
     "metadata": {},
     "output_type": "execute_result"
    }
   ],
   "source": [
    "// id: try ex_2.5 4\n",
    "println(g(f(12345678910L)))"
   ]
  },
  {
   "cell_type": "code",
   "execution_count": 15,
   "metadata": {},
   "outputs": [
    {
     "data": {
      "text/plain": [
       "234567890234"
      ]
     },
     "execution_count": 15,
     "metadata": {},
     "output_type": "execute_result"
    }
   ],
   "source": [
    "// id: try ex_2.5 5\n",
    "val myLong : Long = 1234567891011121314L\n",
    "val c = compose(g,f)\n",
    "c(myLong)"
   ]
  },
  {
   "cell_type": "code",
   "execution_count": null,
   "metadata": {},
   "outputs": [],
   "source": []
  }
 ],
 "metadata": {
  "kernelspec": {
   "display_name": "Scala",
   "language": "scala",
   "name": "scala"
  },
  "language_info": {
   "codemirror_mode": "text/x-scala",
   "file_extension": ".scala",
   "mimetype": "",
   "name": "Scala",
   "nbconverter_exporter": "",
   "version": "2.11.12"
  }
 },
 "nbformat": 4,
 "nbformat_minor": 2
}
