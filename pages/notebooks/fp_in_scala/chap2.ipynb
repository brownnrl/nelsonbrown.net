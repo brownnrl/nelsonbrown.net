{
 "cells": [
  {
   "cell_type": "code",
   "execution_count": 1,
   "metadata": {},
   "outputs": [
    {
     "data": {
      "text/plain": [
       "import scala.annotation.tailrec\n",
       "fib_help: (a: Int, b: Int, n: Int)Int\n",
       "fib: (n: Int)Int\n"
      ]
     },
     "execution_count": 1,
     "metadata": {},
     "output_type": "execute_result"
    }
   ],
   "source": [
    "// id: ex_2.2\n",
    "import scala.annotation.tailrec\n",
    "/* from https://stackoverflow.com/questions/22111252/tail-recursion-fibonacci\n",
    "def fib(n):\n",
    "  def fib_help(a, b, n):\n",
    "    return fib_help(b, a+b, n-1) if n > 0 else a\n",
    "  return fib_help(0, 1, n)\n",
    "*/\n",
    "@tailrec\n",
    "final def fib_help(a: Int, b: Int, n: Int) : Int = {\n",
    "    if (n > 0) {\n",
    "        return fib_help(b, a+b, n-1) \n",
    "    } else a\n",
    "}\n",
    "\n",
    "def fib(n: Int) : Int = {\n",
    "    return fib_help(0, 1, n)\n",
    "}"
   ]
  },
  {
   "cell_type": "code",
   "execution_count": 2,
   "metadata": {},
   "outputs": [
    {
     "data": {
      "text/plain": [
       "428607904"
      ]
     },
     "execution_count": 2,
     "metadata": {},
     "output_type": "execute_result"
    }
   ],
   "source": [
    "// id: try ex_2.2\n",
    "fib(120)"
   ]
  },
  {
   "cell_type": "code",
   "execution_count": 3,
   "metadata": {},
   "outputs": [
    {
     "data": {
      "text/plain": [
       "isSorted: [A](as: List[A], ordered: (A, A) => Boolean)Boolean\n"
      ]
     },
     "execution_count": 3,
     "metadata": {},
     "output_type": "execute_result"
    }
   ],
   "source": [
    "// id: ex_2.3\n",
    "@tailrec\n",
    "final def isSorted[A](as: List[A], ordered: (A,A) => Boolean) : Boolean = {\n",
    "    as match {\n",
    "        case Nil => true\n",
    "        case a1::Nil => true\n",
    "        case a1::a2::as => {\n",
    "            if (!ordered(a1, a2)) {\n",
    "                false\n",
    "            } else {\n",
    "                isSorted(a2::as, ordered)\n",
    "            }\n",
    "        }\n",
    "    }\n",
    "}"
   ]
  },
  {
   "cell_type": "code",
   "execution_count": 4,
   "metadata": {},
   "outputs": [
    {
     "data": {
      "text/plain": [
       "false"
      ]
     },
     "execution_count": 4,
     "metadata": {},
     "output_type": "execute_result"
    }
   ],
   "source": [
    "// id : try ex_2.3 1\n",
    "isSorted(List(1, 2, 4, 3), (a1: Int, a2: Int) => a1 < a2)"
   ]
  },
  {
   "cell_type": "code",
   "execution_count": 5,
   "metadata": {},
   "outputs": [
    {
     "data": {
      "text/plain": [
       "[false, true, true, true]"
      ]
     },
     "execution_count": 5,
     "metadata": {},
     "output_type": "execute_result"
    }
   ],
   "source": [
    "// id: try ex_2.3 2\n",
    "val results = for {\n",
    "    i <- List(List(1, 2, 4, 3), List(1, 2, 3, 4), List(), List(1))\n",
    "    j <- List(isSorted(i, (a1 : Int, a2 : Int) => a1 < a2))\n",
    "} yield j"
   ]
  },
  {
   "cell_type": "code",
   "execution_count": null,
   "metadata": {},
   "outputs": [],
   "source": []
  }
 ],
 "metadata": {
  "kernelspec": {
   "display_name": "Scala",
   "language": "scala",
   "name": "scala"
  },
  "language_info": {
   "codemirror_mode": "text/x-scala",
   "file_extension": ".scala",
   "mimetype": "",
   "name": "Scala",
   "nbconverter_exporter": "",
   "version": "2.11.12"
  }
 },
 "nbformat": 4,
 "nbformat_minor": 2
}
