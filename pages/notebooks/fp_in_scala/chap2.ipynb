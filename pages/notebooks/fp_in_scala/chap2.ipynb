{
 "cells": [
  {
   "cell_type": "code",
   "execution_count": 9,
   "metadata": {},
   "outputs": [
    {
     "data": {
      "text/plain": [
       "import scala.annotation.tailrec\n",
       "fib_help: (a: Int, b: Int, n: Int)Int\n",
       "fib: (n: Int)Int\n"
      ]
     },
     "execution_count": 9,
     "metadata": {},
     "output_type": "execute_result"
    }
   ],
   "source": [
    "import scala.annotation.tailrec\n",
    "/* from https://stackoverflow.com/questions/22111252/tail-recursion-fibonacci\n",
    "def fib(n):\n",
    "  def fib_help(a, b, n):\n",
    "    return fib_help(b, a+b, n-1) if n > 0 else a\n",
    "  return fib_help(0, 1, n)\n",
    "*/\n",
    "@tailrec\n",
    "final def fib_help(a: Int, b: Int, n: Int) : Int = {\n",
    "    if (n > 0) {\n",
    "        return fib_help(b, a+b, n-1) \n",
    "    } else a\n",
    "}\n",
    "\n",
    "def fib(n: Int) : Int = {\n",
    "    return fib_help(0, 1, n)\n",
    "}"
   ]
  },
  {
   "cell_type": "code",
   "execution_count": 23,
   "metadata": {},
   "outputs": [
    {
     "data": {
      "text/plain": [
       "55"
      ]
     },
     "execution_count": 23,
     "metadata": {},
     "output_type": "execute_result"
    }
   ],
   "source": [
    "fib(10)"
   ]
  },
  {
   "cell_type": "code",
   "execution_count": null,
   "metadata": {},
   "outputs": [],
   "source": []
  }
 ],
 "metadata": {
  "kernelspec": {
   "display_name": "Scala",
   "language": "scala",
   "name": "scala"
  },
  "language_info": {
   "codemirror_mode": "text/x-scala",
   "file_extension": ".scala",
   "mimetype": "",
   "name": "Scala",
   "nbconverter_exporter": "",
   "version": "2.11.12"
  }
 },
 "nbformat": 4,
 "nbformat_minor": 2
}
