{
 "cells": [
  {
   "cell_type": "code",
   "execution_count": 1,
   "metadata": {},
   "outputs": [
    {
     "data": {
      "text/plain": [
       "defined trait RNG\n",
       "defined class SimpleRNG\n"
      ]
     },
     "execution_count": 1,
     "metadata": {},
     "output_type": "execute_result"
    }
   ],
   "source": [
    "trait RNG {\n",
    "    def nextInt: (Int, RNG)\n",
    "}\n",
    "\n",
    "case class SimpleRNG(seed: Long) extends RNG { \n",
    "    def nextInt: (Int, RNG) = {\n",
    "        val newSeed = (seed * 0x5DEECE66DL + 0xBL) & 0xFFFFFFFFFFFFL \n",
    "        val nextRNG = SimpleRNG(newSeed)\n",
    "        val n = (newSeed >>> 16).toInt\n",
    "        (n, nextRNG)\n",
    "    }\n",
    "}\n"
   ]
  },
  {
   "cell_type": "code",
   "execution_count": 2,
   "metadata": {},
   "outputs": [
    {
     "name": "stdout",
     "output_type": "stream",
     "text": [
      "384748\n",
      "-1151252339\n",
      "-549383847\n",
      "1612966641\n",
      "-883454042\n",
      "1563994289\n",
      "1331515492\n",
      "-234691648\n",
      "672332705\n",
      "-2039128390\n"
     ]
    },
    {
     "data": {
      "text/plain": [
       "null"
      ]
     },
     "execution_count": 2,
     "metadata": {},
     "output_type": "execute_result"
    }
   ],
   "source": [
    "var nowRng = (0, SimpleRNG(1).asInstanceOf[RNG])\n",
    "for(i <- 1 to 10) {\n",
    "    nowRng = nowRng._2.nextInt\n",
    "    var nextRng = nowRng._2\n",
    "    println(nowRng._1)\n",
    "}"
   ]
  },
  {
   "cell_type": "code",
   "execution_count": 3,
   "metadata": {},
   "outputs": [
    {
     "data": {
      "text/plain": [
       "nextNaturalInt: (rng: RNG)(Int, RNG)\n"
      ]
     },
     "execution_count": 3,
     "metadata": {},
     "output_type": "execute_result"
    }
   ],
   "source": [
    "// id : ex_6.1\n",
    "\n",
    "/* Write a function that uses RNG.nextInt to generate a \n",
    "   random integer between 0 and Int.maxValue (inclusive). \n",
    "   Make sure to handle the corner case when nextInt returns \n",
    "   Int.MinValue, which doesn’t have a non-negative counterpart.\n",
    "*/\n",
    "\n",
    "// simple idea, map every negative integer to it's postive.\n",
    "// watching the edge case as indicated\n",
    "def nextNaturalInt(rng : RNG) : (Int, RNG) = {\n",
    "    val nextRng = rng.nextInt\n",
    "    if (nextRng._1 == Int.MinValue) {\n",
    "        (0, nextRng._2)\n",
    "    } else {\n",
    "        (Math.abs(nextRng._1), nextRng._2)\n",
    "    }\n",
    "}"
   ]
  },
  {
   "cell_type": "code",
   "execution_count": 4,
   "metadata": {},
   "outputs": [
    {
     "name": "stdout",
     "output_type": "stream",
     "text": [
      "(0,RngValue(-2147483648))\n",
      "(2147483647,RngValue(-2147483647))\n",
      "(1,RngValue(-1))\n",
      "(0,RngValue(0))\n",
      "(1,RngValue(1))\n",
      "(2147483646,RngValue(2147483646))\n",
      "(2147483647,RngValue(2147483647))\n",
      "384748\n",
      "1151252339\n",
      "549383847\n",
      "1612966641\n",
      "883454042\n",
      "1563994289\n",
      "1331515492\n",
      "234691648\n",
      "672332705\n",
      "2039128390\n",
      "1888584533\n",
      "294927845\n",
      "1517050556\n",
      "92416162\n",
      "1713389258\n"
     ]
    },
    {
     "data": {
      "text/plain": [
       "null"
      ]
     },
     "execution_count": 4,
     "metadata": {},
     "output_type": "execute_result"
    }
   ],
   "source": [
    "// id : try ex_6.1\n",
    "\n",
    "case class RngValue(current : Int) extends RNG {\n",
    "    def nextInt : (Int, RNG) = {\n",
    "        (current, this)\n",
    "    }\n",
    "}\n",
    "\n",
    "println(nextNaturalInt(RngValue(Int.MinValue)))\n",
    "println(nextNaturalInt(RngValue(Int.MinValue+1)))\n",
    "println(nextNaturalInt(RngValue(-1)))\n",
    "println(nextNaturalInt(RngValue(0)))\n",
    "println(nextNaturalInt(RngValue(1)))\n",
    "println(nextNaturalInt(RngValue(Int.MaxValue-1)))\n",
    "println(nextNaturalInt(RngValue(Int.MaxValue)))\n",
    "\n",
    "var nowRng = (0, SimpleRNG(1).asInstanceOf[RNG])\n",
    "for(i <- 1 to 15) {\n",
    "    nowRng = nextNaturalInt(nowRng._2)\n",
    "    var nextRng = nowRng._2\n",
    "    println(nowRng._1)\n",
    "}\n",
    "\n"
   ]
  },
  {
   "cell_type": "code",
   "execution_count": 8,
   "metadata": {},
   "outputs": [
    {
     "data": {
      "text/plain": [
       "double: (rng: RNG)(Double, RNG)\n"
      ]
     },
     "execution_count": 8,
     "metadata": {},
     "output_type": "execute_result"
    }
   ],
   "source": [
    "// id : ex_6.2\n",
    "\n",
    "def double(rng : RNG) : (Double, RNG) = {\n",
    "    val nextRngInt = nextNaturalInt(rng)\n",
    "    (nextRngInt._1.toDouble / (Int.MaxValue.toDouble + 1), nextRngInt._2)\n",
    "}"
   ]
  },
  {
   "cell_type": "code",
   "execution_count": 9,
   "metadata": {},
   "outputs": [
    {
     "name": "stdout",
     "output_type": "stream",
     "text": [
      "(0.0,RngValue(0))\n",
      "(0.9999999995343387,RngValue(2147483647))\n",
      "1.7916224896907806E-4\n",
      "0.5360936461947858\n",
      "0.25582678942009807\n",
      "0.7510961224325001\n",
      "0.41139034647494555\n",
      "0.7282915939576924\n",
      "0.6200352180749178\n",
      "0.10928681492805481\n",
      "0.3130793129093945\n",
      "0.9495431510731578\n",
      "0.8794407048262656\n",
      "0.1373364799655974\n",
      "0.7064317148178816\n",
      "0.043034628964960575\n",
      "0.7978590475395322\n"
     ]
    },
    {
     "data": {
      "text/plain": [
       "null"
      ]
     },
     "execution_count": 9,
     "metadata": {},
     "output_type": "execute_result"
    }
   ],
   "source": [
    "// id : try ex_6.2\n",
    "\n",
    "println(double(RngValue(0)))\n",
    "println(double(RngValue(Int.MaxValue)))\n",
    "\n",
    "var nowRng = (0.0, SimpleRNG(1).asInstanceOf[RNG])\n",
    "for(i <- 1 to 15) {\n",
    "    nowRng = double(nowRng._2)\n",
    "    var nextRng = nowRng._2\n",
    "    println(nowRng._1)\n",
    "}"
   ]
  },
  {
   "cell_type": "code",
   "execution_count": 12,
   "metadata": {},
   "outputs": [
    {
     "data": {
      "text/plain": [
       "intDouble: (rng: RNG)((Int, Double), RNG)\n",
       "doubleInt: (rng: RNG)((Double, Int), RNG)\n",
       "double3: (rng: RNG)((Double, Double, Double), RNG)\n"
      ]
     },
     "execution_count": 12,
     "metadata": {},
     "output_type": "execute_result"
    }
   ],
   "source": [
    "// id : ex_6.3\n",
    "\n",
    "def intDouble(rng : RNG) : ((Int, Double), RNG) = {\n",
    "    val (int, rng1) = nextNaturalInt(rng)\n",
    "    val (dbl, rng2) = double(rng1)\n",
    "    ((int, dbl), rng2)\n",
    "}\n",
    "\n",
    "def doubleInt(rng : RNG) : ((Double, Int), RNG) = {\n",
    "    val ((int, dbl), rng1) = intDouble(rng)\n",
    "    ((dbl, int), rng1)\n",
    "}\n",
    "\n",
    "def double3(rng : RNG) : ((Double, Double, Double), RNG) = {\n",
    "    val (dbl1, rng1) = double(rng)\n",
    "    val (dbl2, rng2) = double(rng1)\n",
    "    val (dbl3, rng3) = double(rng2)\n",
    "    ((dbl1, dbl2, dbl3), rng3)\n",
    "}"
   ]
  },
  {
   "cell_type": "code",
   "execution_count": 17,
   "metadata": {},
   "outputs": [
    {
     "name": "stdout",
     "output_type": "stream",
     "text": [
      "((20,9.313225746154785E-9),RngValue(20))\n",
      "((9.313225746154785E-9,20),RngValue(20))\n",
      "((9.313225746154785E-9,9.313225746154785E-9,9.313225746154785E-9),RngValue(20))\n"
     ]
    },
    {
     "data": {
      "text/plain": [
       "null"
      ]
     },
     "execution_count": 17,
     "metadata": {},
     "output_type": "execute_result"
    }
   ],
   "source": [
    "// id : try ex_6.3\n",
    "val rng20 = RngValue(20)\n",
    "println(intDouble(rng20))\n",
    "println(doubleInt(rng20))\n",
    "println(double3(rng20))"
   ]
  },
  {
   "cell_type": "code",
   "execution_count": 56,
   "metadata": {},
   "outputs": [
    {
     "data": {
      "text/plain": [
       "ints: (count: Int)(rng: RNG)(List[Int], RNG)\n"
      ]
     },
     "execution_count": 56,
     "metadata": {},
     "output_type": "execute_result"
    }
   ],
   "source": [
    "// id : ex_6.4\n",
    "\n",
    "def ints(count: Int)(rng : RNG) : (List[Int], RNG) = {\n",
    "    if (count <= 0) {\n",
    "        (List(), rng)\n",
    "    } else {\n",
    "        val (i, rng1) = nextNaturalInt(rng)\n",
    "        val rem = ints(count-1)(rng1)\n",
    "        (i::rem._1, rem._2)\n",
    "    }\n",
    "}"
   ]
  },
  {
   "cell_type": "code",
   "execution_count": 57,
   "metadata": {},
   "outputs": [
    {
     "data": {
      "text/plain": [
       "(List(384748, 1151252339, 549383847, 1612966641, 883454042),SimpleRNG(223576932655868))"
      ]
     },
     "execution_count": 57,
     "metadata": {},
     "output_type": "execute_result"
    }
   ],
   "source": [
    "// id : try ex_6.4\n",
    "\n",
    "ints(5)(SimpleRNG(1))"
   ]
  },
  {
   "cell_type": "code",
   "execution_count": 59,
   "metadata": {},
   "outputs": [
    {
     "data": {
      "text/plain": [
       "defined type alias Rand\n",
       "map: [A, B](s: Rand[A])(f: A => B)Rand[B]\n"
      ]
     },
     "execution_count": 59,
     "metadata": {},
     "output_type": "execute_result"
    }
   ],
   "source": [
    "type Rand[+A] = RNG => (A, RNG)\n",
    "\n",
    "def map[A,B](s: Rand[A])(f: A => B): Rand[B] = rng => {\n",
    "    val (a, rng2) = s(rng)\n",
    "    (f(a), rng2)\n",
    "}"
   ]
  },
  {
   "cell_type": "code",
   "execution_count": 66,
   "metadata": {},
   "outputs": [
    {
     "data": {
      "text/plain": [
       "double: (rng: RNG)(Double, RNG)\n"
      ]
     },
     "execution_count": 66,
     "metadata": {},
     "output_type": "execute_result"
    }
   ],
   "source": [
    "// id : ex_6.5\n",
    "\n",
    "def double(rng : RNG) : (Double, RNG) =\n",
    "    map(rng => {\n",
    "        val (i, r) = nextNaturalInt(rng)\n",
    "        (i.toDouble, r)\n",
    "    })(i => i.toDouble / (Int.MaxValue.toDouble + 1))(rng)"
   ]
  },
  {
   "cell_type": "code",
   "execution_count": 67,
   "metadata": {},
   "outputs": [
    {
     "name": "stdout",
     "output_type": "stream",
     "text": [
      "(0.0,RngValue(0))\n",
      "(0.9999999995343387,RngValue(2147483647))\n",
      "1.7916224896907806E-4\n",
      "0.5360936461947858\n",
      "0.25582678942009807\n",
      "0.7510961224325001\n",
      "0.41139034647494555\n",
      "0.7282915939576924\n",
      "0.6200352180749178\n",
      "0.10928681492805481\n",
      "0.3130793129093945\n",
      "0.9495431510731578\n",
      "0.8794407048262656\n",
      "0.1373364799655974\n",
      "0.7064317148178816\n",
      "0.043034628964960575\n",
      "0.7978590475395322\n"
     ]
    },
    {
     "data": {
      "text/plain": [
       "null"
      ]
     },
     "execution_count": 67,
     "metadata": {},
     "output_type": "execute_result"
    }
   ],
   "source": [
    "// id : try ex_6.5\n",
    "\n",
    "println(double(RngValue(0)))\n",
    "println(double(RngValue(Int.MaxValue)))\n",
    "\n",
    "var nowRng = (0.0, SimpleRNG(1).asInstanceOf[RNG])\n",
    "for(i <- 1 to 15) {\n",
    "    nowRng = double(nowRng._2)\n",
    "    var nextRng = nowRng._2\n",
    "    println(nowRng._1)\n",
    "}"
   ]
  },
  {
   "cell_type": "code",
   "execution_count": 68,
   "metadata": {},
   "outputs": [
    {
     "data": {
      "text/plain": [
       "map2: [A, B, C](ra: Rand[A], rb: Rand[B])(f: (A, B) => C)Rand[C]\n"
      ]
     },
     "execution_count": 68,
     "metadata": {},
     "output_type": "execute_result"
    }
   ],
   "source": [
    "// id : ex_6.6\n",
    "\n",
    "def map2[A,B,C](ra: Rand[A], rb: Rand[B])(f: (A, B) => C): Rand[C] = rng => {\n",
    "    val (a, rng1) = ra(rng)\n",
    "    val (b, rng2) = rb(rng1)\n",
    "    (f(a,b), rng2)\n",
    "}"
   ]
  },
  {
   "cell_type": "code",
   "execution_count": 74,
   "metadata": {},
   "outputs": [
    {
     "name": "stdout",
     "output_type": "stream",
     "text": [
      "((384748,0.5360936461947858),SimpleRNG(206026503483683))\n",
      "((1.7916224896907806E-4,1151252339),SimpleRNG(206026503483683))\n"
     ]
    },
    {
     "data": {
      "text/plain": [
       "null"
      ]
     },
     "execution_count": 74,
     "metadata": {},
     "output_type": "execute_result"
    }
   ],
   "source": [
    "// id : try ex_6.6\n",
    "\n",
    "def both[A,B](ra: Rand[A], rb: Rand[B]): Rand[(A,B)] = map2(ra, rb)((_, _))\n",
    "\n",
    "val randIntDouble: Rand[(Int, Double)] = both(nextNaturalInt, double)\n",
    "val randDoubleInt: Rand[(Double, Int)] = both(double, nextNaturalInt)\n",
    "\n",
    "println(randIntDouble(SimpleRNG(1)))\n",
    "println(randDoubleInt(SimpleRNG(1)))"
   ]
  },
  {
   "cell_type": "code",
   "execution_count": null,
   "metadata": {},
   "outputs": [],
   "source": []
  }
 ],
 "metadata": {
  "kernelspec": {
   "display_name": "Scala",
   "language": "scala",
   "name": "scala"
  },
  "language_info": {
   "codemirror_mode": "text/x-scala",
   "file_extension": ".scala",
   "mimetype": "",
   "name": "Scala",
   "nbconverter_exporter": "",
   "version": "2.11.12"
  }
 },
 "nbformat": 4,
 "nbformat_minor": 2
}
