{
 "cells": [
  {
   "cell_type": "code",
   "execution_count": 2,
   "metadata": {},
   "outputs": [
    {
     "data": {
      "text/plain": [
       "defined trait RNG\n",
       "defined class SimpleRNG\n"
      ]
     },
     "execution_count": 2,
     "metadata": {},
     "output_type": "execute_result"
    }
   ],
   "source": [
    "trait RNG {\n",
    "    def nextInt: (Int, RNG)\n",
    "}\n",
    "\n",
    "case class SimpleRNG(seed: Long) extends RNG { \n",
    "    def nextInt: (Int, RNG) = {\n",
    "        val newSeed = (seed * 0x5DEECE66DL + 0xBL) & 0xFFFFFFFFFFFFL \n",
    "        val nextRNG = SimpleRNG(newSeed)\n",
    "        val n = (newSeed >>> 16).toInt\n",
    "        (n, nextRNG)\n",
    "    }\n",
    "}\n"
   ]
  },
  {
   "cell_type": "code",
   "execution_count": 12,
   "metadata": {},
   "outputs": [
    {
     "name": "stdout",
     "output_type": "stream",
     "text": [
      "384748\n",
      "-1151252339\n",
      "-549383847\n",
      "1612966641\n",
      "-883454042\n",
      "1563994289\n",
      "1331515492\n",
      "-234691648\n",
      "672332705\n",
      "-2039128390\n"
     ]
    },
    {
     "data": {
      "text/plain": [
       "null"
      ]
     },
     "execution_count": 12,
     "metadata": {},
     "output_type": "execute_result"
    }
   ],
   "source": [
    "var nowRng = (0, SimpleRNG(1).asInstanceOf[RNG])\n",
    "for(i <- 1 to 10) {\n",
    "    nowRng = nowRng._2.nextInt\n",
    "    var nextRng = nowRng._2\n",
    "    println(nowRng._1)\n",
    "}"
   ]
  },
  {
   "cell_type": "code",
   "execution_count": 21,
   "metadata": {},
   "outputs": [
    {
     "data": {
      "text/plain": [
       "nextNaturalInt: (rng: RNG)(Int, RNG)\n"
      ]
     },
     "execution_count": 21,
     "metadata": {},
     "output_type": "execute_result"
    }
   ],
   "source": [
    "// id : ex_6.1\n",
    "\n",
    "/* Write a function that uses RNG.nextInt to generate a \n",
    "   random integer between 0 and Int.maxValue (inclusive). \n",
    "   Make sure to handle the corner case when nextInt returns \n",
    "   Int.MinValue, which doesn’t have a non-negative counterpart.\n",
    "*/\n",
    "\n",
    "// simple idea, map every negative integer to it's postive.\n",
    "// watching the edge case as indicated\n",
    "def nextNaturalInt(rng : RNG) : (Int, RNG) = {\n",
    "    val nextRng = rng.nextInt\n",
    "    if (nextRng._1 == Int.MinValue) {\n",
    "        (0, nextRng._2)\n",
    "    } else {\n",
    "        (Math.abs(nextRng._1), nextRng._2)\n",
    "    }\n",
    "}"
   ]
  },
  {
   "cell_type": "code",
   "execution_count": 24,
   "metadata": {},
   "outputs": [
    {
     "name": "stdout",
     "output_type": "stream",
     "text": [
      "384748\n",
      "1151252339\n",
      "549383847\n",
      "1612966641\n",
      "883454042\n",
      "1563994289\n",
      "1331515492\n",
      "234691648\n",
      "672332705\n",
      "2039128390\n",
      "1888584533\n",
      "294927845\n",
      "1517050556\n",
      "92416162\n",
      "1713389258\n"
     ]
    },
    {
     "data": {
      "text/plain": [
       "null"
      ]
     },
     "execution_count": 24,
     "metadata": {},
     "output_type": "execute_result"
    }
   ],
   "source": [
    "// id : try ex_6.1\n",
    "\n",
    "var nowRng = (0, SimpleRNG(1).asInstanceOf[RNG])\n",
    "for(i <- 1 to 15) {\n",
    "    nowRng = nextNaturalInt(nowRng._2)\n",
    "    var nextRng = nowRng._2\n",
    "    println(nowRng._1)\n",
    "}"
   ]
  },
  {
   "cell_type": "code",
   "execution_count": null,
   "metadata": {},
   "outputs": [],
   "source": []
  }
 ],
 "metadata": {
  "kernelspec": {
   "display_name": "Scala",
   "language": "scala",
   "name": "scala"
  },
  "language_info": {
   "codemirror_mode": "text/x-scala",
   "file_extension": ".scala",
   "mimetype": "",
   "name": "Scala",
   "nbconverter_exporter": "",
   "version": "2.11.12"
  }
 },
 "nbformat": 4,
 "nbformat_minor": 2
}
