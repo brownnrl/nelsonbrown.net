{
 "cells": [
  {
   "cell_type": "code",
   "execution_count": 1,
   "metadata": {},
   "outputs": [
    {
     "data": {
      "text/plain": [
       "defined trait RNG\n",
       "defined class SimpleRNG\n"
      ]
     },
     "execution_count": 1,
     "metadata": {},
     "output_type": "execute_result"
    }
   ],
   "source": [
    "trait RNG {\n",
    "    def nextInt: (Int, RNG)\n",
    "}\n",
    "\n",
    "case class SimpleRNG(seed: Long) extends RNG { \n",
    "    def nextInt: (Int, RNG) = {\n",
    "        val newSeed = (seed * 0x5DEECE66DL + 0xBL) & 0xFFFFFFFFFFFFL \n",
    "        val nextRNG = SimpleRNG(newSeed)\n",
    "        val n = (newSeed >>> 16).toInt\n",
    "        (n, nextRNG)\n",
    "    }\n",
    "}\n"
   ]
  },
  {
   "cell_type": "code",
   "execution_count": 2,
   "metadata": {},
   "outputs": [
    {
     "name": "stdout",
     "output_type": "stream",
     "text": [
      "384748\n",
      "-1151252339\n",
      "-549383847\n",
      "1612966641\n",
      "-883454042\n",
      "1563994289\n",
      "1331515492\n",
      "-234691648\n",
      "672332705\n",
      "-2039128390\n"
     ]
    },
    {
     "data": {
      "text/plain": [
       "null"
      ]
     },
     "execution_count": 2,
     "metadata": {},
     "output_type": "execute_result"
    }
   ],
   "source": [
    "var nowRng = (0, SimpleRNG(1).asInstanceOf[RNG])\n",
    "for(i <- 1 to 10) {\n",
    "    nowRng = nowRng._2.nextInt\n",
    "    var nextRng = nowRng._2\n",
    "    println(nowRng._1)\n",
    "}"
   ]
  },
  {
   "cell_type": "code",
   "execution_count": 3,
   "metadata": {},
   "outputs": [
    {
     "data": {
      "text/plain": [
       "nextNaturalInt: (rng: RNG)(Int, RNG)\n"
      ]
     },
     "execution_count": 3,
     "metadata": {},
     "output_type": "execute_result"
    }
   ],
   "source": [
    "// id : ex_6.1\n",
    "\n",
    "/* Write a function that uses RNG.nextInt to generate a \n",
    "   random integer between 0 and Int.maxValue (inclusive). \n",
    "   Make sure to handle the corner case when nextInt returns \n",
    "   Int.MinValue, which doesn’t have a non-negative counterpart.\n",
    "*/\n",
    "\n",
    "// simple idea, map every negative integer to it's postive.\n",
    "// watching the edge case as indicated\n",
    "def nextNaturalInt(rng : RNG) : (Int, RNG) = {\n",
    "    val nextRng = rng.nextInt\n",
    "    if (nextRng._1 == Int.MinValue) {\n",
    "        (0, nextRng._2)\n",
    "    } else {\n",
    "        (Math.abs(nextRng._1), nextRng._2)\n",
    "    }\n",
    "}"
   ]
  },
  {
   "cell_type": "code",
   "execution_count": 4,
   "metadata": {},
   "outputs": [
    {
     "name": "stdout",
     "output_type": "stream",
     "text": [
      "(0,RngValue(-2147483648))\n",
      "(2147483647,RngValue(-2147483647))\n",
      "(1,RngValue(-1))\n",
      "(0,RngValue(0))\n",
      "(1,RngValue(1))\n",
      "(2147483646,RngValue(2147483646))\n",
      "(2147483647,RngValue(2147483647))\n",
      "384748\n",
      "1151252339\n",
      "549383847\n",
      "1612966641\n",
      "883454042\n",
      "1563994289\n",
      "1331515492\n",
      "234691648\n",
      "672332705\n",
      "2039128390\n",
      "1888584533\n",
      "294927845\n",
      "1517050556\n",
      "92416162\n",
      "1713389258\n"
     ]
    },
    {
     "data": {
      "text/plain": [
       "null"
      ]
     },
     "execution_count": 4,
     "metadata": {},
     "output_type": "execute_result"
    }
   ],
   "source": [
    "// id : try ex_6.1\n",
    "\n",
    "case class RngValue(current : Int) extends RNG {\n",
    "    def nextInt : (Int, RNG) = {\n",
    "        (current, this)\n",
    "    }\n",
    "}\n",
    "\n",
    "println(nextNaturalInt(RngValue(Int.MinValue)))\n",
    "println(nextNaturalInt(RngValue(Int.MinValue+1)))\n",
    "println(nextNaturalInt(RngValue(-1)))\n",
    "println(nextNaturalInt(RngValue(0)))\n",
    "println(nextNaturalInt(RngValue(1)))\n",
    "println(nextNaturalInt(RngValue(Int.MaxValue-1)))\n",
    "println(nextNaturalInt(RngValue(Int.MaxValue)))\n",
    "\n",
    "var nowRng = (0, SimpleRNG(1).asInstanceOf[RNG])\n",
    "for(i <- 1 to 15) {\n",
    "    nowRng = nextNaturalInt(nowRng._2)\n",
    "    var nextRng = nowRng._2\n",
    "    println(nowRng._1)\n",
    "}\n",
    "\n"
   ]
  },
  {
   "cell_type": "code",
   "execution_count": 5,
   "metadata": {},
   "outputs": [
    {
     "data": {
      "text/plain": [
       "double: (rng: RNG)(Double, RNG)\n"
      ]
     },
     "execution_count": 5,
     "metadata": {},
     "output_type": "execute_result"
    }
   ],
   "source": [
    "// id : ex_6.2\n",
    "\n",
    "def double(rng : RNG) : (Double, RNG) = {\n",
    "    val nextRngInt = nextNaturalInt(rng)\n",
    "    (nextRngInt._1.toDouble / (Int.MaxValue.toDouble + 1), nextRngInt._2)\n",
    "}"
   ]
  },
  {
   "cell_type": "code",
   "execution_count": 6,
   "metadata": {},
   "outputs": [
    {
     "name": "stdout",
     "output_type": "stream",
     "text": [
      "(0.0,RngValue(0))\n",
      "(0.9999999995343387,RngValue(2147483647))\n",
      "1.7916224896907806E-4\n",
      "0.5360936461947858\n",
      "0.25582678942009807\n",
      "0.7510961224325001\n",
      "0.41139034647494555\n",
      "0.7282915939576924\n",
      "0.6200352180749178\n",
      "0.10928681492805481\n",
      "0.3130793129093945\n",
      "0.9495431510731578\n",
      "0.8794407048262656\n",
      "0.1373364799655974\n",
      "0.7064317148178816\n",
      "0.043034628964960575\n",
      "0.7978590475395322\n"
     ]
    },
    {
     "data": {
      "text/plain": [
       "null"
      ]
     },
     "execution_count": 6,
     "metadata": {},
     "output_type": "execute_result"
    }
   ],
   "source": [
    "// id : try ex_6.2\n",
    "\n",
    "println(double(RngValue(0)))\n",
    "println(double(RngValue(Int.MaxValue)))\n",
    "\n",
    "var nowRng = (0.0, SimpleRNG(1).asInstanceOf[RNG])\n",
    "for(i <- 1 to 15) {\n",
    "    nowRng = double(nowRng._2)\n",
    "    var nextRng = nowRng._2\n",
    "    println(nowRng._1)\n",
    "}"
   ]
  },
  {
   "cell_type": "code",
   "execution_count": 7,
   "metadata": {},
   "outputs": [
    {
     "data": {
      "text/plain": [
       "intDouble: (rng: RNG)((Int, Double), RNG)\n",
       "doubleInt: (rng: RNG)((Double, Int), RNG)\n",
       "double3: (rng: RNG)((Double, Double, Double), RNG)\n"
      ]
     },
     "execution_count": 7,
     "metadata": {},
     "output_type": "execute_result"
    }
   ],
   "source": [
    "// id : ex_6.3\n",
    "\n",
    "def intDouble(rng : RNG) : ((Int, Double), RNG) = {\n",
    "    val (int, rng1) = nextNaturalInt(rng)\n",
    "    val (dbl, rng2) = double(rng1)\n",
    "    ((int, dbl), rng2)\n",
    "}\n",
    "\n",
    "def doubleInt(rng : RNG) : ((Double, Int), RNG) = {\n",
    "    val ((int, dbl), rng1) = intDouble(rng)\n",
    "    ((dbl, int), rng1)\n",
    "}\n",
    "\n",
    "def double3(rng : RNG) : ((Double, Double, Double), RNG) = {\n",
    "    val (dbl1, rng1) = double(rng)\n",
    "    val (dbl2, rng2) = double(rng1)\n",
    "    val (dbl3, rng3) = double(rng2)\n",
    "    ((dbl1, dbl2, dbl3), rng3)\n",
    "}"
   ]
  },
  {
   "cell_type": "code",
   "execution_count": 8,
   "metadata": {},
   "outputs": [
    {
     "name": "stdout",
     "output_type": "stream",
     "text": [
      "((20,9.313225746154785E-9),RngValue(20))\n",
      "((9.313225746154785E-9,20),RngValue(20))\n",
      "((9.313225746154785E-9,9.313225746154785E-9,9.313225746154785E-9),RngValue(20))\n"
     ]
    },
    {
     "data": {
      "text/plain": [
       "null"
      ]
     },
     "execution_count": 8,
     "metadata": {},
     "output_type": "execute_result"
    }
   ],
   "source": [
    "// id : try ex_6.3\n",
    "val rng20 = RngValue(20)\n",
    "println(intDouble(rng20))\n",
    "println(doubleInt(rng20))\n",
    "println(double3(rng20))"
   ]
  },
  {
   "cell_type": "code",
   "execution_count": 9,
   "metadata": {},
   "outputs": [
    {
     "data": {
      "text/plain": [
       "ints: (count: Int)(rng: RNG)(List[Int], RNG)\n"
      ]
     },
     "execution_count": 9,
     "metadata": {},
     "output_type": "execute_result"
    }
   ],
   "source": [
    "// id : ex_6.4\n",
    "\n",
    "def ints(count: Int)(rng : RNG) : (List[Int], RNG) = {\n",
    "    if (count <= 0) {\n",
    "        (List(), rng)\n",
    "    } else {\n",
    "        val (i, rng1) = nextNaturalInt(rng)\n",
    "        val rem = ints(count-1)(rng1)\n",
    "        (i::rem._1, rem._2)\n",
    "    }\n",
    "}"
   ]
  },
  {
   "cell_type": "code",
   "execution_count": 10,
   "metadata": {},
   "outputs": [
    {
     "data": {
      "text/plain": [
       "(List(384748, 1151252339, 549383847, 1612966641, 883454042),SimpleRNG(223576932655868))"
      ]
     },
     "execution_count": 10,
     "metadata": {},
     "output_type": "execute_result"
    }
   ],
   "source": [
    "// id : try ex_6.4\n",
    "\n",
    "ints(5)(SimpleRNG(1))"
   ]
  },
  {
   "cell_type": "code",
   "execution_count": 11,
   "metadata": {},
   "outputs": [
    {
     "data": {
      "text/plain": [
       "defined type alias Rand\n",
       "map: [A, B](s: Rand[A])(f: A => B)Rand[B]\n"
      ]
     },
     "execution_count": 11,
     "metadata": {},
     "output_type": "execute_result"
    }
   ],
   "source": [
    "type Rand[+A] = RNG => (A, RNG)\n",
    "\n",
    "def map[A,B](s: Rand[A])(f: A => B): Rand[B] = rng => {\n",
    "    val (a, rng2) = s(rng)\n",
    "    (f(a), rng2)\n",
    "}"
   ]
  },
  {
   "cell_type": "code",
   "execution_count": 12,
   "metadata": {},
   "outputs": [
    {
     "data": {
      "text/plain": [
       "double: (rng: RNG)(Double, RNG)\n"
      ]
     },
     "execution_count": 12,
     "metadata": {},
     "output_type": "execute_result"
    }
   ],
   "source": [
    "// id : ex_6.5\n",
    "\n",
    "def double(rng : RNG) : (Double, RNG) =\n",
    "    map(rng => {\n",
    "        val (i, r) = nextNaturalInt(rng)\n",
    "        (i.toDouble, r)\n",
    "    })(i => i.toDouble / (Int.MaxValue.toDouble + 1))(rng)"
   ]
  },
  {
   "cell_type": "code",
   "execution_count": 13,
   "metadata": {},
   "outputs": [
    {
     "name": "stdout",
     "output_type": "stream",
     "text": [
      "(0.0,RngValue(0))\n",
      "(0.9999999995343387,RngValue(2147483647))\n",
      "1.7916224896907806E-4\n",
      "0.5360936461947858\n",
      "0.25582678942009807\n",
      "0.7510961224325001\n",
      "0.41139034647494555\n",
      "0.7282915939576924\n",
      "0.6200352180749178\n",
      "0.10928681492805481\n",
      "0.3130793129093945\n",
      "0.9495431510731578\n",
      "0.8794407048262656\n",
      "0.1373364799655974\n",
      "0.7064317148178816\n",
      "0.043034628964960575\n",
      "0.7978590475395322\n"
     ]
    },
    {
     "data": {
      "text/plain": [
       "null"
      ]
     },
     "execution_count": 13,
     "metadata": {},
     "output_type": "execute_result"
    }
   ],
   "source": [
    "// id : try ex_6.5\n",
    "\n",
    "println(double(RngValue(0)))\n",
    "println(double(RngValue(Int.MaxValue)))\n",
    "\n",
    "var nowRng = (0.0, SimpleRNG(1).asInstanceOf[RNG])\n",
    "for(i <- 1 to 15) {\n",
    "    nowRng = double(nowRng._2)\n",
    "    var nextRng = nowRng._2\n",
    "    println(nowRng._1)\n",
    "}"
   ]
  },
  {
   "cell_type": "code",
   "execution_count": 14,
   "metadata": {},
   "outputs": [
    {
     "data": {
      "text/plain": [
       "map2: [A, B, C](ra: Rand[A], rb: Rand[B])(f: (A, B) => C)Rand[C]\n"
      ]
     },
     "execution_count": 14,
     "metadata": {},
     "output_type": "execute_result"
    }
   ],
   "source": [
    "// id : ex_6.6\n",
    "\n",
    "def map2[A,B,C](ra: Rand[A], rb: Rand[B])(f: (A, B) => C): Rand[C] = rng => {\n",
    "    val (a, rng1) = ra(rng)\n",
    "    val (b, rng2) = rb(rng1)\n",
    "    (f(a,b), rng2)\n",
    "}"
   ]
  },
  {
   "cell_type": "code",
   "execution_count": 15,
   "metadata": {},
   "outputs": [
    {
     "name": "stdout",
     "output_type": "stream",
     "text": [
      "((384748,0.5360936461947858),SimpleRNG(206026503483683))\n",
      "((1.7916224896907806E-4,1151252339),SimpleRNG(206026503483683))\n"
     ]
    },
    {
     "data": {
      "text/plain": [
       "null"
      ]
     },
     "execution_count": 15,
     "metadata": {},
     "output_type": "execute_result"
    }
   ],
   "source": [
    "// id : try ex_6.6\n",
    "\n",
    "def both[A,B](ra: Rand[A], rb: Rand[B]): Rand[(A,B)] = map2(ra, rb)((_, _))\n",
    "\n",
    "val randIntDouble: Rand[(Int, Double)] = both(nextNaturalInt, double)\n",
    "val randDoubleInt: Rand[(Double, Int)] = both(double, nextNaturalInt)\n",
    "\n",
    "println(randIntDouble(SimpleRNG(1)))\n",
    "println(randDoubleInt(SimpleRNG(1)))"
   ]
  },
  {
   "cell_type": "code",
   "execution_count": 16,
   "metadata": {},
   "outputs": [
    {
     "data": {
      "text/plain": [
       "sequence: [A](fs: List[Rand[A]])Rand[List[A]]\n",
       "ints: (count: Int)(rng: RNG)(List[Int], RNG)\n"
      ]
     },
     "execution_count": 16,
     "metadata": {},
     "output_type": "execute_result"
    }
   ],
   "source": [
    "// id : ex_6.7\n",
    "\n",
    "// Rand[A] = rng : RNG => (A, rng)\n",
    "def sequence[A](fs: List[Rand[A]]) : Rand[List[A]] = {\n",
    "    rng => {\n",
    "        fs match {\n",
    "            case Nil => (List().asInstanceOf[List[A]], rng)\n",
    "            case r2s :: rest => {\n",
    "                val (r2sa, r2sr) = r2s(rng)\n",
    "                val rem = sequence(rest)(r2sr)\n",
    "                (r2sa :: rem._1, rem._2)\n",
    "            }\n",
    "        }\n",
    "    }\n",
    "}\n",
    "\n",
    "def ints(count: Int)(rng : RNG) : (List[Int], RNG) = sequence(List.fill(count)(nextNaturalInt _))(rng)"
   ]
  },
  {
   "cell_type": "code",
   "execution_count": 17,
   "metadata": {},
   "outputs": [
    {
     "data": {
      "text/plain": [
       "(List(384748, 1151252339, 549383847, 1612966641, 883454042),SimpleRNG(223576932655868))"
      ]
     },
     "execution_count": 17,
     "metadata": {},
     "output_type": "execute_result"
    }
   ],
   "source": [
    "// id : try ex_6.7\n",
    "\n",
    "ints(5)(SimpleRNG(1))"
   ]
  },
  {
   "cell_type": "code",
   "execution_count": 18,
   "metadata": {},
   "outputs": [
    {
     "data": {
      "text/plain": [
       "flatMap: [A, B](f: Rand[A])(g: A => Rand[B])Rand[B]\n",
       "nonNegativeLessThan: (n: Int)Rand[Int]\n"
      ]
     },
     "execution_count": 18,
     "metadata": {},
     "output_type": "execute_result"
    }
   ],
   "source": [
    "// id : ex_6.8\n",
    "\n",
    "def flatMap[A,B](f: Rand[A])(g: A => Rand[B]): Rand[B] = {\n",
    "    rng => {\n",
    "        val (a, arng) = f(rng)\n",
    "        g(a)(arng)\n",
    "    }\n",
    "}\n",
    "\n",
    "def nonNegativeLessThan(n: Int) : Rand[Int] = \n",
    "    flatMap(nextNaturalInt)(i => {\n",
    "        val mod = i % n\n",
    "        if (i + (n-1) - mod >= 0)\n",
    "        (r: RNG) => (mod, r)\n",
    "        else (r: RNG) => nonNegativeLessThan(n)(r)\n",
    "    })\n"
   ]
  },
  {
   "cell_type": "code",
   "execution_count": 19,
   "metadata": {},
   "outputs": [
    {
     "data": {
      "text/plain": [
       "(748,SimpleRNG(25214903928))"
      ]
     },
     "execution_count": 19,
     "metadata": {},
     "output_type": "execute_result"
    }
   ],
   "source": [
    "// id : try ex_6.8\n",
    "\n",
    "nonNegativeLessThan(1000)(SimpleRNG(1))"
   ]
  },
  {
   "cell_type": "code",
   "execution_count": 20,
   "metadata": {},
   "outputs": [
    {
     "data": {
      "text/plain": [
       "map: [A, B](s: Rand[A])(f: A => B)Rand[B]\n"
      ]
     },
     "execution_count": 20,
     "metadata": {},
     "output_type": "execute_result"
    }
   ],
   "source": [
    "// id : ex_6.9.1\n",
    "\n",
    "def map[A,B](s: Rand[A])(f: A => B) : Rand[B] = \n",
    "    flatMap(s)(a => rng => (f(a), rng))"
   ]
  },
  {
   "cell_type": "code",
   "execution_count": 21,
   "metadata": {},
   "outputs": [
    {
     "name": "stdout",
     "output_type": "stream",
     "text": [
      "(0.0,RngValue(0))\n",
      "(0.9999999995343387,RngValue(2147483647))\n",
      "1.7916224896907806E-4\n",
      "0.5360936461947858\n",
      "0.25582678942009807\n",
      "0.7510961224325001\n",
      "0.41139034647494555\n",
      "0.7282915939576924\n",
      "0.6200352180749178\n",
      "0.10928681492805481\n",
      "0.3130793129093945\n",
      "0.9495431510731578\n",
      "0.8794407048262656\n",
      "0.1373364799655974\n",
      "0.7064317148178816\n",
      "0.043034628964960575\n",
      "0.7978590475395322\n"
     ]
    },
    {
     "data": {
      "text/plain": [
       "null"
      ]
     },
     "execution_count": 21,
     "metadata": {},
     "output_type": "execute_result"
    }
   ],
   "source": [
    "// id : try ex_6.9.1\n",
    "\n",
    "def double(rng : RNG) : (Double, RNG) =\n",
    "    map(rng => {\n",
    "        val (i, r) = nextNaturalInt(rng)\n",
    "        (i.toDouble, r)\n",
    "    })(i => i.toDouble / (Int.MaxValue.toDouble + 1))(rng)\n",
    "\n",
    "println(double(RngValue(0)))\n",
    "println(double(RngValue(Int.MaxValue)))\n",
    "\n",
    "var nowRng = (0.0, SimpleRNG(1).asInstanceOf[RNG])\n",
    "for(i <- 1 to 15) {\n",
    "    nowRng = double(nowRng._2)\n",
    "    var nextRng = nowRng._2\n",
    "    println(nowRng._1)\n",
    "}"
   ]
  },
  {
   "cell_type": "code",
   "execution_count": 22,
   "metadata": {},
   "outputs": [
    {
     "data": {
      "text/plain": [
       "map2: [A, B, C](ra: Rand[A], rb: Rand[B])(f: (A, B) => C)Rand[C]\n"
      ]
     },
     "execution_count": 22,
     "metadata": {},
     "output_type": "execute_result"
    }
   ],
   "source": [
    "// id : ex_6.9.2\n",
    "\n",
    "def map2[A,B,C](ra: Rand[A], rb: Rand[B])(f: (A, B) => C): Rand[C] = \n",
    "    flatMap(ra)(a => flatMap(rb)(b => rng2 => (f(a,b), rng2)))"
   ]
  },
  {
   "cell_type": "code",
   "execution_count": 23,
   "metadata": {},
   "outputs": [
    {
     "name": "stdout",
     "output_type": "stream",
     "text": [
      "((384748,0.5360936461947858),SimpleRNG(206026503483683))\n",
      "((1.7916224896907806E-4,1151252339),SimpleRNG(206026503483683))\n"
     ]
    },
    {
     "data": {
      "text/plain": [
       "null"
      ]
     },
     "execution_count": 23,
     "metadata": {},
     "output_type": "execute_result"
    }
   ],
   "source": [
    "// id : try ex_6.9.2\n",
    "\n",
    "def both[A,B](ra: Rand[A], rb: Rand[B]): Rand[(A,B)] = map2(ra, rb)((_, _))\n",
    "\n",
    "val randIntDouble: Rand[(Int, Double)] = both(nextNaturalInt, double)\n",
    "val randDoubleInt: Rand[(Double, Int)] = both(double, nextNaturalInt)\n",
    "\n",
    "println(randIntDouble(SimpleRNG(1)))\n",
    "println(randDoubleInt(SimpleRNG(1)))"
   ]
  },
  {
   "cell_type": "code",
   "execution_count": 24,
   "metadata": {},
   "outputs": [
    {
     "data": {
      "text/plain": [
       "defined object State\n",
       "defined class State\n"
      ]
     },
     "execution_count": 24,
     "metadata": {},
     "output_type": "execute_result"
    }
   ],
   "source": [
    "// id : ex_6.10\n",
    "\n",
    "object State {\n",
    "    def unit[S,A](a: A):  State[S,A] = State(s => (a, s))\n",
    "    \n",
    "    def sequence[S, A](fs: List[State[S,A]]) : State[S,List[A]] =\n",
    "        State((s : S) => {\n",
    "            fs match {\n",
    "                case Nil => (List().asInstanceOf[List[A]], s)\n",
    "                case s2s :: rest => {\n",
    "                    val (s2sa, s2ss) = s2s.run(s)\n",
    "                    val rem = sequence(rest).run(s2ss)\n",
    "                    (s2sa :: rem._1, rem._2)\n",
    "                }\n",
    "            }\n",
    "        })\n",
    "    \n",
    "    // From the section just above exercise 6.11\n",
    "    def get[S]: State[S,S] = State(s => (s,s))\n",
    "    \n",
    "    def set[S](s: S): State[S, Unit] = State(_ => ((), s))\n",
    "    \n",
    "    def modify[S](f : S => S): State[S, Unit] = for {\n",
    "        s <- get\n",
    "        _ <- set(f(s))\n",
    "    } yield ()\n",
    "}\n",
    "\n",
    "case class State[S,A](run: S => (A,S)) {\n",
    "    \n",
    "    def flatMap[B](g: A => State[S, B]): State[S, B] = {\n",
    "        State((s : S) => {\n",
    "            val (a, as) = run(s)\n",
    "            g(a).run(as)\n",
    "        })\n",
    "    }\n",
    "    \n",
    "    def map[B](f: A => B) : State[S,B] =\n",
    "        flatMap(a => State.unit(f(a)))\n",
    "    \n",
    "    def map2[B,C](sb: State[S,B])(f: (A, B) => C): State[S,C] =\n",
    "        flatMap(a => sb.flatMap(b => State.unit(f(a,b))))\n",
    "    \n",
    "}\n",
    "\n",
    "\n"
   ]
  },
  {
   "cell_type": "code",
   "execution_count": 25,
   "metadata": {},
   "outputs": [
    {
     "data": {
      "text/plain": [
       "(1.7916224896907806E-4,SimpleRNG(25214903928))"
      ]
     },
     "execution_count": 25,
     "metadata": {},
     "output_type": "execute_result"
    }
   ],
   "source": [
    "// id : try ex_6.10.1\n",
    "val rng = SimpleRNG(1)\n",
    "State(double).map(_.toString).run(rng)"
   ]
  },
  {
   "cell_type": "code",
   "execution_count": 26,
   "metadata": {},
   "outputs": [
    {
     "name": "stdout",
     "output_type": "stream",
     "text": [
      "(List(384748, 1151252339, 549383847, 1612966641),SimpleRNG(105707381795861))\n"
     ]
    },
    {
     "data": {
      "text/plain": [
       "null"
      ]
     },
     "execution_count": 26,
     "metadata": {},
     "output_type": "execute_result"
    }
   ],
   "source": [
    "// id : try ex_6.10.2\n",
    "type Rand[A] = State[RNG, A]\n",
    "\n",
    "def nextNaturalInt : Rand[Int] = \n",
    "    State( rng => {\n",
    "        val nextRng = rng.nextInt\n",
    "        if (nextRng._1 == Int.MinValue) {\n",
    "            (0, nextRng._2)\n",
    "        } else {\n",
    "            (Math.abs(nextRng._1), nextRng._2)\n",
    "        }    \n",
    "    })\n",
    "\n",
    "def ints(count: Int) : Rand[List[Int]] = State.sequence(List.fill(count)(nextNaturalInt))\n",
    "\n",
    "println(ints(4).run(SimpleRNG(1)))"
   ]
  },
  {
   "cell_type": "code",
   "execution_count": 27,
   "metadata": {},
   "outputs": [
    {
     "name": "stdout",
     "output_type": "stream",
     "text": [
      "(8,SimpleRNG(25214903928))\n"
     ]
    },
    {
     "data": {
      "text/plain": [
       "null"
      ]
     },
     "execution_count": 27,
     "metadata": {},
     "output_type": "execute_result"
    }
   ],
   "source": [
    "// id : try ex_6.10.3\n",
    "def nonNegativeLessThan(n: Int) : Rand[Int] = \n",
    "    nextNaturalInt.flatMap(i => State(s => {\n",
    "        val mod = i % n\n",
    "        if (i + (n-1) - mod >= 0) (mod, s)\n",
    "        else nonNegativeLessThan(n).run(s)\n",
    "    }))\n",
    "\n",
    "println(nonNegativeLessThan(10).run(SimpleRNG(1)))"
   ]
  },
  {
   "cell_type": "code",
   "execution_count": 28,
   "metadata": {},
   "outputs": [
    {
     "data": {
      "text/plain": [
       "ns: (n: Int)Rand[List[Int]]\n"
      ]
     },
     "execution_count": 28,
     "metadata": {},
     "output_type": "execute_result"
    }
   ],
   "source": [
    "// id : try ex_6.10.4\n",
    "def ns(n: Int) : Rand[List[Int]] = \n",
    "    nonNegativeLessThan(n).flatMap(x =>\n",
    "    nonNegativeLessThan(n).flatMap(y =>\n",
    "    ints(x).map(xs =>\n",
    "    xs.map(_ % y))))"
   ]
  },
  {
   "cell_type": "code",
   "execution_count": 29,
   "metadata": {},
   "outputs": [
    {
     "name": "stdout",
     "output_type": "stream",
     "text": [
      "(Seed 1,(List(6, 2, 3, 17, 14, 0, 16, 16),SimpleRNG(147838658590923)))\n",
      "(Seed 2,(List(0, 0, 0, 0, 0, 0, 0, 0, 0, 0, 0, 0, 0, 0, 0, 0, 0),SimpleRNG(73378791630839)))\n",
      "(Seed 3,(List(0, 5, 0, 1, 5, 5),SimpleRNG(242528784466859)))\n",
      "(Seed 4,(List(7, 0, 7, 6, 1, 3, 2, 9, 9, 2, 0, 4, 8, 3, 8),SimpleRNG(139330556974351)))\n",
      "(Seed 5,(List(2, 4, 5, 2),SimpleRNG(128185544502587)))\n",
      "(Seed 6,(List(8, 3, 3, 2, 9, 8, 11, 2, 12, 7, 7, 2, 5),SimpleRNG(232484593450071)))\n",
      "(Seed 7,(List(1, 3),SimpleRNG(160153793685115)))\n",
      "(Seed 8,(List(14, 11, 16, 9, 2, 7, 7, 15, 12, 7, 7),SimpleRNG(85457628633295)))\n",
      "(Seed 9,(List(),SimpleRNG(163169759544427)))\n",
      "(Seed 10,(List(0, 4, 2, 4, 4, 1, 4, 4, 4),SimpleRNG(141917030058359)))\n"
     ]
    },
    {
     "data": {
      "text/plain": [
       "null"
      ]
     },
     "execution_count": 29,
     "metadata": {},
     "output_type": "execute_result"
    }
   ],
   "source": [
    "// id : try ex_6.10.5\n",
    "for(i <- 1 to 10) {\n",
    "    println(\"Seed \" + i, ns(20).run(SimpleRNG(i)))\n",
    "}"
   ]
  },
  {
   "cell_type": "code",
   "execution_count": 30,
   "metadata": {},
   "outputs": [
    {
     "data": {
      "text/plain": [
       "nsFor: (n: Int)Rand[List[Int]]\n"
      ]
     },
     "execution_count": 30,
     "metadata": {},
     "output_type": "execute_result"
    }
   ],
   "source": [
    "// id : try ex_6.10.6\n",
    "def nsFor(n: Int) : Rand[List[Int]] = \n",
    "    for { \n",
    "        x <- nonNegativeLessThan(n)\n",
    "        y <- nonNegativeLessThan(n)\n",
    "        xs <- ints(x)\n",
    "    } yield xs.map(_ % y)"
   ]
  },
  {
   "cell_type": "code",
   "execution_count": 31,
   "metadata": {},
   "outputs": [
    {
     "name": "stdout",
     "output_type": "stream",
     "text": [
      "(Seed 1,(List(6, 2, 3, 17, 14, 0, 16, 16),SimpleRNG(147838658590923)))\n",
      "(Seed 2,(List(0, 0, 0, 0, 0, 0, 0, 0, 0, 0, 0, 0, 0, 0, 0, 0, 0),SimpleRNG(73378791630839)))\n",
      "(Seed 3,(List(0, 5, 0, 1, 5, 5),SimpleRNG(242528784466859)))\n",
      "(Seed 4,(List(7, 0, 7, 6, 1, 3, 2, 9, 9, 2, 0, 4, 8, 3, 8),SimpleRNG(139330556974351)))\n",
      "(Seed 5,(List(2, 4, 5, 2),SimpleRNG(128185544502587)))\n",
      "(Seed 6,(List(8, 3, 3, 2, 9, 8, 11, 2, 12, 7, 7, 2, 5),SimpleRNG(232484593450071)))\n",
      "(Seed 7,(List(1, 3),SimpleRNG(160153793685115)))\n",
      "(Seed 8,(List(14, 11, 16, 9, 2, 7, 7, 15, 12, 7, 7),SimpleRNG(85457628633295)))\n",
      "(Seed 9,(List(),SimpleRNG(163169759544427)))\n",
      "(Seed 10,(List(0, 4, 2, 4, 4, 1, 4, 4, 4),SimpleRNG(141917030058359)))\n"
     ]
    },
    {
     "data": {
      "text/plain": [
       "null"
      ]
     },
     "execution_count": 31,
     "metadata": {},
     "output_type": "execute_result"
    }
   ],
   "source": [
    "// id : try ex_6.10.7\n",
    "for(i <- 1 to 10) {\n",
    "    println(\"Seed \" + i, nsFor(20).run(SimpleRNG(i)))\n",
    "}"
   ]
  },
  {
   "cell_type": "code",
   "execution_count": 32,
   "metadata": {},
   "outputs": [
    {
     "data": {
      "text/plain": [
       "defined trait Input\n",
       "defined object Coin\n",
       "defined object Turn\n",
       "DEBUG_UGLY: Boolean = false\n",
       "defined class Machine\n"
      ]
     },
     "execution_count": 32,
     "metadata": {},
     "output_type": "execute_result"
    }
   ],
   "source": [
    "// id : ex_6.11.1\n",
    "\n",
    "sealed trait Input\n",
    "case object Coin extends Input\n",
    "case object Turn extends Input\n",
    "\n",
    "var DEBUG_UGLY = false\n",
    "\n",
    "case class Machine(locked: Boolean, candies: Int, coins: Int) {\n",
    "    \n",
    "    val content = ((candies, coins), this)\n",
    "\n",
    "    // - A machine that’s out of candy ignores all inputs.\n",
    "    def takeInput(input : Input) : ((Int, Int), Machine) = {\n",
    "        val after = if (candies <= 0 ) content\n",
    "            else input match {\n",
    "                case Coin => coin()\n",
    "                case Turn => turn()\n",
    "            }\n",
    "        \n",
    "        val u = if(DEBUG_UGLY) println((input, this, \"=>\", after).productIterator.mkString(\"\\t\"))\n",
    "            else ()\n",
    "        after\n",
    "    }\n",
    "    \n",
    "    /*\n",
    "    - Inserting a coin into a locked machine will cause it to unlock \n",
    "      if there is any candy left.\n",
    "    - Inserting a coin into an unlocked machine does \"nothing\":\n",
    "      (Here, we assume we reject the coin input and it does not add\n",
    "       to the total number of coins).\n",
    "    */\n",
    "    private def coin() : ((Int, Int), Machine) = {\n",
    "        if (locked) {\n",
    "            ((candies, coins+1), Machine(false, candies, coins+1))\n",
    "        } else {\n",
    "            content\n",
    "        }\n",
    "    }\n",
    "    \n",
    "    /*\n",
    "    - Turning the knob on an unlocked machine will cause it to dispense \n",
    "      candy and become locked.\n",
    "    - Turning the knob on a locked machine does nothing\n",
    "    */\n",
    "    private def turn() : ((Int, Int), Machine) = {\n",
    "        if (!locked) {\n",
    "            ((candies-1, coins), Machine(true, candies-1, coins))\n",
    "        } else {\n",
    "            content\n",
    "        }\n",
    "    }\n",
    "}\n",
    "\n"
   ]
  },
  {
   "cell_type": "code",
   "execution_count": 33,
   "metadata": {},
   "outputs": [
    {
     "data": {
      "text/plain": [
       "(1,14)"
      ]
     },
     "execution_count": 33,
     "metadata": {},
     "output_type": "execute_result"
    }
   ],
   "source": [
    "// id : ex_6.11.2\n",
    "\n",
    "/*\n",
    "The method simulateMachine should operate the machine based on the \n",
    "list of inputs and return the number of coins and candies left in \n",
    "the machine at the end. For example, if the input Machine has 10 \n",
    "coins and 5 candies, and a total of 4 candies are successfully \n",
    "bought, the output should be (14, 1).\n",
    "*/\n",
    "\n",
    "def simulationMachine(inputs : List[Input], initState : Machine) : (Int, Int) = {\n",
    "    val states = inputs.map(i => State((s: Machine) => s.takeInput(i)))\n",
    "    val state : State[Machine, (Int, Int)] = for {\n",
    "        _ <- State.sequence(states)\n",
    "        m <- State.get\n",
    "    } yield (m.candies, m.coins)\n",
    "    state.run(initState)._1\n",
    "}\n",
    "\n",
    "def successTries(count: Int) : List[Input] = \n",
    "    List.fill(count)(List(Coin, Turn)).flatten\n",
    "\n",
    "simulationMachine(successTries(4), Machine(true, 5, 10))"
   ]
  },
  {
   "cell_type": "code",
   "execution_count": 34,
   "metadata": {},
   "outputs": [
    {
     "data": {
      "text/plain": [
       "(1,14)"
      ]
     },
     "execution_count": 34,
     "metadata": {},
     "output_type": "execute_result"
    }
   ],
   "source": [
    "// id : try ex_6.11.1\n",
    "/*\n",
    "def ns(n: Int) : Rand[List[Int]] = \n",
    "    nonNegativeLessThan(n).flatMap(x =>\n",
    "    nonNegativeLessThan(n).flatMap(y =>\n",
    "    ints(x).map(xs =>\n",
    "    xs.map(_ % y))))\n",
    "\n",
    "              becomes\n",
    "---------vvvvvvvvvvvvvvvv----------\n",
    "\n",
    "def nsFor(n: Int) : Rand[List[Int]] = \n",
    "    for { \n",
    "        x <- nonNegativeLessThan(n)\n",
    "        y <- nonNegativeLessThan(n)\n",
    "        xs <- ints(x)\n",
    "    } yield xs.map(_ % y)\n",
    "*/\n",
    "\n",
    "/* De-sugar the following:\n",
    "val initState = Machine(true, 5, 10)\n",
    "val inputs = successTries(4)\n",
    "val states = inputs.map(i => State((s: Machine) => s.takeInput(i)))\n",
    "val state : State[Machine, (Int, Int)] = for {\n",
    "    _ <- State.sequence(states)\n",
    "    m <- State.get\n",
    "} yield (m.candies, m.coins)\n",
    "state.run(initState)\n",
    "*/\n",
    "\n",
    "val initState = Machine(true, 5, 10)\n",
    "val inputs = successTries(4)\n",
    "val states = inputs.map(i => State((s: Machine) => s.takeInput(i)))\n",
    "val state : (Int, Int) = \n",
    "    State.sequence(states).flatMap(_ => State.get).map(m => (m.candies, m.coins)).run(initState)._1\n"
   ]
  },
  {
   "cell_type": "code",
   "execution_count": 35,
   "metadata": {},
   "outputs": [
    {
     "name": "stdout",
     "output_type": "stream",
     "text": [
      "Coin\tMachine(true,5,10)\t=>\t((5,11),Machine(false,5,11))\n",
      "Turn\tMachine(false,5,11)\t=>\t((4,11),Machine(true,4,11))\n",
      "Coin\tMachine(true,4,11)\t=>\t((4,12),Machine(false,4,12))\n",
      "Turn\tMachine(false,4,12)\t=>\t((3,12),Machine(true,3,12))\n",
      "Coin\tMachine(true,3,12)\t=>\t((3,13),Machine(false,3,13))\n",
      "Turn\tMachine(false,3,13)\t=>\t((2,13),Machine(true,2,13))\n",
      "Coin\tMachine(true,2,13)\t=>\t((2,14),Machine(false,2,14))\n",
      "Turn\tMachine(false,2,14)\t=>\t((1,14),Machine(true,1,14))\n"
     ]
    },
    {
     "data": {
      "text/plain": [
       "(List((5,11), (4,11), (4,12), (3,12), (3,13), (2,13), (2,14), (1,14)),Machine(true,1,14))"
      ]
     },
     "execution_count": 35,
     "metadata": {},
     "output_type": "execute_result"
    }
   ],
   "source": [
    "// id : try ex_6.11.2\n",
    "DEBUG_UGLY = true\n",
    "// Sequence actually runs our machine, tieing the output of the last state to the next\n",
    "State.sequence(states).run(initState)"
   ]
  },
  {
   "cell_type": "code",
   "execution_count": 36,
   "metadata": {},
   "outputs": [
    {
     "name": "stdout",
     "output_type": "stream",
     "text": [
      "Coin\tMachine(true,5,10)\t=>\t((5,11),Machine(false,5,11))\n",
      "Turn\tMachine(false,5,11)\t=>\t((4,11),Machine(true,4,11))\n",
      "Coin\tMachine(true,4,11)\t=>\t((4,12),Machine(false,4,12))\n",
      "Turn\tMachine(false,4,12)\t=>\t((3,12),Machine(true,3,12))\n",
      "Coin\tMachine(true,3,12)\t=>\t((3,13),Machine(false,3,13))\n",
      "Turn\tMachine(false,3,13)\t=>\t((2,13),Machine(true,2,13))\n",
      "Coin\tMachine(true,2,13)\t=>\t((2,14),Machine(false,2,14))\n",
      "Turn\tMachine(false,2,14)\t=>\t((1,14),Machine(true,1,14))\n"
     ]
    },
    {
     "data": {
      "text/plain": [
       "(Machine(true,1,14),Machine(true,1,14))"
      ]
     },
     "execution_count": 36,
     "metadata": {},
     "output_type": "execute_result"
    }
   ],
   "source": [
    "// id : try ex_6.11.3\n",
    "// The last return value being the list of our coins / candy is nice, but\n",
    "// we'd have to iterate over that list to the end in order to get our final state.\n",
    "// That information is already encoded in Machine() which is passed along in the\n",
    "// tuple pair being carried forward in the plumbing of flatMap.  \n",
    "// We can just call State.get to make the mapped value returned out be the (S, S)\n",
    "// pair, or in other words the final Machine() value.\n",
    "State.sequence(states).flatMap(_ => State.get).run(initState)"
   ]
  },
  {
   "cell_type": "code",
   "execution_count": 37,
   "metadata": {},
   "outputs": [
    {
     "name": "stdout",
     "output_type": "stream",
     "text": [
      "Coin\tMachine(true,5,10)\t=>\t((5,11),Machine(false,5,11))\n",
      "Turn\tMachine(false,5,11)\t=>\t((4,11),Machine(true,4,11))\n",
      "Coin\tMachine(true,4,11)\t=>\t((4,12),Machine(false,4,12))\n",
      "Turn\tMachine(false,4,12)\t=>\t((3,12),Machine(true,3,12))\n",
      "Coin\tMachine(true,3,12)\t=>\t((3,13),Machine(false,3,13))\n",
      "Turn\tMachine(false,3,13)\t=>\t((2,13),Machine(true,2,13))\n",
      "Coin\tMachine(true,2,13)\t=>\t((2,14),Machine(false,2,14))\n",
      "Turn\tMachine(false,2,14)\t=>\t((1,14),Machine(true,1,14))\n",
      "The value of t: List((5,11), (4,11), (4,12), (3,12), (3,13), (2,13), (2,14), (1,14))\n"
     ]
    },
    {
     "data": {
      "text/plain": [
       "(Machine(true,1,14),Machine(true,1,14))"
      ]
     },
     "execution_count": 37,
     "metadata": {},
     "output_type": "execute_result"
    }
   ],
   "source": [
    "// id : try ex_6.11.4\n",
    "// For those curious and for confirmation this is true, we see the prior\n",
    "// value output of sequence in the captured value t, and what ends is our\n",
    "// (state, state) pair after the run\n",
    "State.sequence(states).flatMap(t => {\n",
    "    println(\"The value of t: \" + t)\n",
    "    State.get\n",
    "}).run(initState)"
   ]
  },
  {
   "cell_type": "code",
   "execution_count": 38,
   "metadata": {},
   "outputs": [
    {
     "name": "stdout",
     "output_type": "stream",
     "text": [
      "Coin\tMachine(true,5,10)\t=>\t((5,11),Machine(false,5,11))\n",
      "Turn\tMachine(false,5,11)\t=>\t((4,11),Machine(true,4,11))\n",
      "Coin\tMachine(true,4,11)\t=>\t((4,12),Machine(false,4,12))\n",
      "Turn\tMachine(false,4,12)\t=>\t((3,12),Machine(true,3,12))\n",
      "Coin\tMachine(true,3,12)\t=>\t((3,13),Machine(false,3,13))\n",
      "Turn\tMachine(false,3,13)\t=>\t((2,13),Machine(true,2,13))\n",
      "Coin\tMachine(true,2,13)\t=>\t((2,14),Machine(false,2,14))\n",
      "Turn\tMachine(false,2,14)\t=>\t((1,14),Machine(true,1,14))\n"
     ]
    },
    {
     "data": {
      "text/plain": [
       "(1,14)"
      ]
     },
     "execution_count": 38,
     "metadata": {},
     "output_type": "execute_result"
    }
   ],
   "source": [
    "// id : try ex_6.11.5\n",
    "// Finally, the full string passes that state value forward via map\n",
    "// The run will always return back the (Value, State) pair, so if you\n",
    "// want to throw away the final state you'd can use the _1 on the result.\n",
    "State.sequence(states).flatMap(_ => State.get).map(m => m.content._1).run(initState)._1"
   ]
  }
 ],
 "metadata": {
  "kernelspec": {
   "display_name": "Scala",
   "language": "scala",
   "name": "scala"
  },
  "language_info": {
   "codemirror_mode": "text/x-scala",
   "file_extension": ".scala",
   "mimetype": "",
   "name": "Scala",
   "nbconverter_exporter": "",
   "version": "2.11.12"
  }
 },
 "nbformat": 4,
 "nbformat_minor": 2
}
